{
  "nbformat": 4,
  "nbformat_minor": 0,
  "metadata": {
    "colab": {
      "provenance": []
    },
    "kernelspec": {
      "name": "python3",
      "display_name": "Python 3"
    },
    "language_info": {
      "name": "python"
    }
  },
  "cells": [
    {
      "cell_type": "code",
      "source": [
        "!pip install ultralytics"
      ],
      "metadata": {
        "colab": {
          "base_uri": "https://localhost:8080/"
        },
        "id": "jAyz43jIzi2I",
        "outputId": "3c35664f-79bf-4cb0-99a8-989beaa562f0"
      },
      "execution_count": null,
      "outputs": [
        {
          "output_type": "stream",
          "name": "stdout",
          "text": [
            "Requirement already satisfied: ultralytics in /usr/local/lib/python3.10/dist-packages (8.0.181)\n",
            "Requirement already satisfied: matplotlib>=3.3.0 in /usr/local/lib/python3.10/dist-packages (from ultralytics) (3.7.1)\n",
            "Requirement already satisfied: numpy>=1.22.2 in /usr/local/lib/python3.10/dist-packages (from ultralytics) (1.23.5)\n",
            "Requirement already satisfied: opencv-python>=4.6.0 in /usr/local/lib/python3.10/dist-packages (from ultralytics) (4.8.0.76)\n",
            "Requirement already satisfied: pillow>=7.1.2 in /usr/local/lib/python3.10/dist-packages (from ultralytics) (9.4.0)\n",
            "Requirement already satisfied: pyyaml>=5.3.1 in /usr/local/lib/python3.10/dist-packages (from ultralytics) (6.0.1)\n",
            "Requirement already satisfied: requests>=2.23.0 in /usr/local/lib/python3.10/dist-packages (from ultralytics) (2.31.0)\n",
            "Requirement already satisfied: scipy>=1.4.1 in /usr/local/lib/python3.10/dist-packages (from ultralytics) (1.11.2)\n",
            "Requirement already satisfied: torch>=1.8.0 in /usr/local/lib/python3.10/dist-packages (from ultralytics) (2.0.1+cu118)\n",
            "Requirement already satisfied: torchvision>=0.9.0 in /usr/local/lib/python3.10/dist-packages (from ultralytics) (0.15.2+cu118)\n",
            "Requirement already satisfied: tqdm>=4.64.0 in /usr/local/lib/python3.10/dist-packages (from ultralytics) (4.66.1)\n",
            "Requirement already satisfied: pandas>=1.1.4 in /usr/local/lib/python3.10/dist-packages (from ultralytics) (1.5.3)\n",
            "Requirement already satisfied: seaborn>=0.11.0 in /usr/local/lib/python3.10/dist-packages (from ultralytics) (0.12.2)\n",
            "Requirement already satisfied: psutil in /usr/local/lib/python3.10/dist-packages (from ultralytics) (5.9.5)\n",
            "Requirement already satisfied: py-cpuinfo in /usr/local/lib/python3.10/dist-packages (from ultralytics) (9.0.0)\n",
            "Requirement already satisfied: contourpy>=1.0.1 in /usr/local/lib/python3.10/dist-packages (from matplotlib>=3.3.0->ultralytics) (1.1.0)\n",
            "Requirement already satisfied: cycler>=0.10 in /usr/local/lib/python3.10/dist-packages (from matplotlib>=3.3.0->ultralytics) (0.11.0)\n",
            "Requirement already satisfied: fonttools>=4.22.0 in /usr/local/lib/python3.10/dist-packages (from matplotlib>=3.3.0->ultralytics) (4.42.1)\n",
            "Requirement already satisfied: kiwisolver>=1.0.1 in /usr/local/lib/python3.10/dist-packages (from matplotlib>=3.3.0->ultralytics) (1.4.5)\n",
            "Requirement already satisfied: packaging>=20.0 in /usr/local/lib/python3.10/dist-packages (from matplotlib>=3.3.0->ultralytics) (23.1)\n",
            "Requirement already satisfied: pyparsing>=2.3.1 in /usr/local/lib/python3.10/dist-packages (from matplotlib>=3.3.0->ultralytics) (3.1.1)\n",
            "Requirement already satisfied: python-dateutil>=2.7 in /usr/local/lib/python3.10/dist-packages (from matplotlib>=3.3.0->ultralytics) (2.8.2)\n",
            "Requirement already satisfied: pytz>=2020.1 in /usr/local/lib/python3.10/dist-packages (from pandas>=1.1.4->ultralytics) (2023.3.post1)\n",
            "Requirement already satisfied: charset-normalizer<4,>=2 in /usr/local/lib/python3.10/dist-packages (from requests>=2.23.0->ultralytics) (3.2.0)\n",
            "Requirement already satisfied: idna<4,>=2.5 in /usr/local/lib/python3.10/dist-packages (from requests>=2.23.0->ultralytics) (3.4)\n",
            "Requirement already satisfied: urllib3<3,>=1.21.1 in /usr/local/lib/python3.10/dist-packages (from requests>=2.23.0->ultralytics) (2.0.4)\n",
            "Requirement already satisfied: certifi>=2017.4.17 in /usr/local/lib/python3.10/dist-packages (from requests>=2.23.0->ultralytics) (2023.7.22)\n",
            "Requirement already satisfied: filelock in /usr/local/lib/python3.10/dist-packages (from torch>=1.8.0->ultralytics) (3.12.2)\n",
            "Requirement already satisfied: typing-extensions in /usr/local/lib/python3.10/dist-packages (from torch>=1.8.0->ultralytics) (4.5.0)\n",
            "Requirement already satisfied: sympy in /usr/local/lib/python3.10/dist-packages (from torch>=1.8.0->ultralytics) (1.12)\n",
            "Requirement already satisfied: networkx in /usr/local/lib/python3.10/dist-packages (from torch>=1.8.0->ultralytics) (3.1)\n",
            "Requirement already satisfied: jinja2 in /usr/local/lib/python3.10/dist-packages (from torch>=1.8.0->ultralytics) (3.1.2)\n",
            "Requirement already satisfied: triton==2.0.0 in /usr/local/lib/python3.10/dist-packages (from torch>=1.8.0->ultralytics) (2.0.0)\n",
            "Requirement already satisfied: cmake in /usr/local/lib/python3.10/dist-packages (from triton==2.0.0->torch>=1.8.0->ultralytics) (3.27.4.1)\n",
            "Requirement already satisfied: lit in /usr/local/lib/python3.10/dist-packages (from triton==2.0.0->torch>=1.8.0->ultralytics) (16.0.6)\n",
            "Requirement already satisfied: six>=1.5 in /usr/local/lib/python3.10/dist-packages (from python-dateutil>=2.7->matplotlib>=3.3.0->ultralytics) (1.16.0)\n",
            "Requirement already satisfied: MarkupSafe>=2.0 in /usr/local/lib/python3.10/dist-packages (from jinja2->torch>=1.8.0->ultralytics) (2.1.3)\n",
            "Requirement already satisfied: mpmath>=0.19 in /usr/local/lib/python3.10/dist-packages (from sympy->torch>=1.8.0->ultralytics) (1.3.0)\n"
          ]
        }
      ]
    },
    {
      "cell_type": "markdown",
      "source": [
        "# Before pruning and quantization"
      ],
      "metadata": {
        "id": "fTMhSRCu0Jma"
      }
    },
    {
      "cell_type": "code",
      "source": [
        "from ultralytics import YOLO\n",
        "\n",
        "# Load a model\n",
        "model = YOLO(\"yolov8m.yaml\")  # build a new model from scratch\n",
        "model = YOLO(\"yolov8m.pt\")  # load a pretrained model (recommended for training)"
      ],
      "metadata": {
        "colab": {
          "base_uri": "https://localhost:8080/"
        },
        "id": "yM51SkLrzo5K",
        "outputId": "d803fc3e-354d-4079-efbf-bad6960ce9a8"
      },
      "execution_count": null,
      "outputs": [
        {
          "output_type": "stream",
          "name": "stderr",
          "text": [
            "\n",
            "                   from  n    params  module                                       arguments                     \n",
            "  0                  -1  1      1392  ultralytics.nn.modules.conv.Conv             [3, 48, 3, 2]                 \n",
            "  1                  -1  1     41664  ultralytics.nn.modules.conv.Conv             [48, 96, 3, 2]                \n",
            "  2                  -1  2    111360  ultralytics.nn.modules.block.C2f             [96, 96, 2, True]             \n",
            "  3                  -1  1    166272  ultralytics.nn.modules.conv.Conv             [96, 192, 3, 2]               \n",
            "  4                  -1  4    813312  ultralytics.nn.modules.block.C2f             [192, 192, 4, True]           \n",
            "  5                  -1  1    664320  ultralytics.nn.modules.conv.Conv             [192, 384, 3, 2]              \n",
            "  6                  -1  4   3248640  ultralytics.nn.modules.block.C2f             [384, 384, 4, True]           \n",
            "  7                  -1  1   1991808  ultralytics.nn.modules.conv.Conv             [384, 576, 3, 2]              \n",
            "  8                  -1  2   3985920  ultralytics.nn.modules.block.C2f             [576, 576, 2, True]           \n",
            "  9                  -1  1    831168  ultralytics.nn.modules.block.SPPF            [576, 576, 5]                 \n",
            " 10                  -1  1         0  torch.nn.modules.upsampling.Upsample         [None, 2, 'nearest']          \n",
            " 11             [-1, 6]  1         0  ultralytics.nn.modules.conv.Concat           [1]                           \n",
            " 12                  -1  2   1993728  ultralytics.nn.modules.block.C2f             [960, 384, 2]                 \n",
            " 13                  -1  1         0  torch.nn.modules.upsampling.Upsample         [None, 2, 'nearest']          \n",
            " 14             [-1, 4]  1         0  ultralytics.nn.modules.conv.Concat           [1]                           \n",
            " 15                  -1  2    517632  ultralytics.nn.modules.block.C2f             [576, 192, 2]                 \n",
            " 16                  -1  1    332160  ultralytics.nn.modules.conv.Conv             [192, 192, 3, 2]              \n",
            " 17            [-1, 12]  1         0  ultralytics.nn.modules.conv.Concat           [1]                           \n",
            " 18                  -1  2   1846272  ultralytics.nn.modules.block.C2f             [576, 384, 2]                 \n",
            " 19                  -1  1   1327872  ultralytics.nn.modules.conv.Conv             [384, 384, 3, 2]              \n",
            " 20             [-1, 9]  1         0  ultralytics.nn.modules.conv.Concat           [1]                           \n",
            " 21                  -1  2   4207104  ultralytics.nn.modules.block.C2f             [960, 576, 2]                 \n",
            " 22        [15, 18, 21]  1   3822016  ultralytics.nn.modules.head.Detect           [80, [192, 384, 576]]         \n",
            "YOLOv8m summary: 295 layers, 25902640 parameters, 25902624 gradients\n",
            "\n",
            "Downloading https://github.com/ultralytics/assets/releases/download/v0.0.0/yolov8m.pt to 'yolov8m.pt'...\n",
            "100%|██████████| 49.7M/49.7M [00:00<00:00, 80.2MB/s]\n"
          ]
        }
      ]
    },
    {
      "cell_type": "code",
      "source": [
        "metrics = model.val(data='coco.yaml')  # evaluate model performance on the validation set"
      ],
      "metadata": {
        "colab": {
          "base_uri": "https://localhost:8080/"
        },
        "id": "2TOBYbNUEAAU",
        "outputId": "e53bb100-727f-4031-d2a6-a0256e0e4298"
      },
      "execution_count": null,
      "outputs": [
        {
          "output_type": "stream",
          "name": "stderr",
          "text": [
            "Ultralytics YOLOv8.0.181 🚀 Python-3.10.12 torch-2.0.1+cu118 CUDA:0 (Tesla T4, 15102MiB)\n",
            "YOLOv8m summary (fused): 218 layers, 25886080 parameters, 0 gradients\n",
            "\n",
            "Dataset 'coco.yaml' images not found ⚠️, missing path '/content/datasets/coco/val2017.txt'\n",
            "Downloading https://github.com/ultralytics/yolov5/releases/download/v1.0/coco2017labels-segments.zip to '/content/datasets/coco2017labels-segments.zip'...\n",
            "100%|██████████| 169M/169M [00:02<00:00, 70.1MB/s]\n",
            "Unzipping /content/datasets/coco2017labels-segments.zip to /content/datasets/coco...: 100%|██████████| 122232/122232 [00:18<00:00, 6458.66file/s]\n",
            "Downloading http://images.cocodataset.org/zips/val2017.zip to '/content/datasets/coco/images/val2017.zip'...\n",
            "Dataset download success ✅ (46.9s), saved to \u001b[1m/content/datasets\u001b[0m\n",
            "\n",
            "Downloading https://ultralytics.com/assets/Arial.ttf to '/root/.config/Ultralytics/Arial.ttf'...\n",
            "100%|██████████| 755k/755k [00:00<00:00, 22.8MB/s]\n",
            "\u001b[34m\u001b[1mval: \u001b[0mScanning /content/datasets/coco/labels/val2017... 4952 images, 48 backgrounds, 0 corrupt: 100%|██████████| 5000/5000 [00:03<00:00, 1271.08it/s]\n",
            "\u001b[34m\u001b[1mval: \u001b[0mNew cache created: /content/datasets/coco/labels/val2017.cache\n",
            "                 Class     Images  Instances      Box(P          R      mAP50  mAP50-95): 100%|██████████| 313/313 [01:55<00:00,  2.72it/s]\n",
            "                   all       5000      36335      0.716       0.61      0.667      0.501\n",
            "                person       5000      10777      0.821      0.745      0.829      0.617\n",
            "               bicycle       5000        314      0.742      0.525      0.626      0.402\n",
            "                   car       5000       1918      0.765      0.637      0.713      0.497\n",
            "            motorcycle       5000        367      0.811       0.68      0.793      0.547\n",
            "              airplane       5000        143       0.84      0.884      0.925      0.776\n",
            "                   bus       5000        283       0.85      0.784      0.864       0.75\n",
            "                 train       5000        190       0.88      0.888      0.938      0.769\n",
            "                 truck       5000        414      0.656       0.51      0.604      0.442\n",
            "                  boat       5000        424      0.731      0.469      0.572      0.332\n",
            "         traffic light       5000        634      0.723      0.483      0.568      0.318\n",
            "          fire hydrant       5000        101      0.887      0.842      0.901      0.749\n",
            "             stop sign       5000         75      0.818       0.72      0.795      0.716\n",
            "         parking meter       5000         60      0.774      0.633      0.693       0.54\n",
            "                 bench       5000        411      0.639      0.387      0.455      0.328\n",
            "                  bird       5000        427       0.73      0.493       0.58      0.404\n",
            "                   cat       5000        202      0.877      0.906      0.935      0.786\n",
            "                   dog       5000        218      0.828      0.821      0.848      0.739\n",
            "                 horse       5000        272       0.84      0.809      0.894      0.706\n",
            "                 sheep       5000        354      0.761      0.792      0.818      0.625\n",
            "                   cow       5000        372       0.85      0.761       0.85      0.659\n",
            "              elephant       5000        252      0.793      0.893      0.885      0.724\n",
            "                  bear       5000         71      0.919      0.887      0.931      0.803\n",
            "                 zebra       5000        266      0.863      0.865      0.929      0.765\n",
            "               giraffe       5000        232       0.93      0.922      0.946      0.783\n",
            "              backpack       5000        371      0.562      0.286      0.357      0.209\n",
            "              umbrella       5000        407      0.702      0.637      0.703      0.501\n",
            "               handbag       5000        540      0.597      0.281      0.355      0.212\n",
            "                   tie       5000        252      0.761      0.532      0.605      0.411\n",
            "              suitcase       5000        299      0.723      0.582      0.703      0.497\n",
            "               frisbee       5000        115      0.837      0.851       0.88      0.708\n",
            "                  skis       5000        241      0.697      0.476      0.521      0.317\n",
            "             snowboard       5000         69      0.682      0.493      0.562      0.442\n",
            "           sports ball       5000        260      0.822      0.596      0.668      0.478\n",
            "                  kite       5000        327      0.689      0.606      0.663      0.485\n",
            "          baseball bat       5000        145      0.677        0.6      0.683      0.442\n",
            "        baseball glove       5000        148      0.758      0.608      0.679      0.434\n",
            "            skateboard       5000        179      0.856      0.793       0.83      0.623\n",
            "             surfboard       5000        267      0.823      0.618      0.713      0.477\n",
            "         tennis racket       5000        225      0.876      0.844      0.875      0.638\n",
            "                bottle       5000       1013      0.707       0.56      0.635      0.451\n",
            "            wine glass       5000        341      0.746       0.55      0.649      0.438\n",
            "                   cup       5000        895      0.688        0.6      0.657      0.501\n",
            "                  fork       5000        215      0.704      0.586      0.658      0.484\n",
            "                 knife       5000        325      0.577      0.338      0.419      0.278\n",
            "                 spoon       5000        253      0.554      0.356       0.42      0.296\n",
            "                  bowl       5000        623      0.654      0.581      0.632      0.486\n",
            "                banana       5000        370      0.584      0.349      0.444      0.297\n",
            "                 apple       5000        236      0.478      0.297      0.324      0.233\n",
            "              sandwich       5000        177      0.642      0.567      0.599      0.477\n",
            "                orange       5000        285      0.525      0.389      0.438      0.342\n",
            "              broccoli       5000        312      0.579      0.394      0.457      0.267\n",
            "                carrot       5000        365      0.462      0.397      0.379      0.248\n",
            "               hot dog       5000        125       0.72      0.504      0.574      0.441\n",
            "                 pizza       5000        284      0.753      0.736      0.779      0.613\n",
            "                 donut       5000        328      0.686      0.585      0.649      0.525\n",
            "                  cake       5000        310      0.673      0.552       0.63      0.429\n",
            "                 chair       5000       1771      0.662      0.475      0.568      0.389\n",
            "                 couch       5000        261      0.691      0.594      0.687      0.535\n",
            "          potted plant       5000        342       0.61      0.538      0.543       0.35\n",
            "                   bed       5000        163      0.676       0.65      0.717      0.533\n",
            "          dining table       5000        695      0.611      0.491      0.516      0.366\n",
            "                toilet       5000        179      0.794      0.788      0.865      0.722\n",
            "                    tv       5000        288      0.784      0.758       0.82      0.651\n",
            "                laptop       5000        231      0.779      0.758      0.823      0.716\n",
            "                 mouse       5000        106      0.861      0.802      0.858      0.665\n",
            "                remote       5000        283      0.677      0.509      0.587      0.393\n",
            "              keyboard       5000        153      0.672      0.643      0.754      0.593\n",
            "            cell phone       5000        262      0.678      0.576      0.617      0.436\n",
            "             microwave       5000         55      0.714      0.818      0.837      0.696\n",
            "                  oven       5000        143      0.634      0.566      0.607      0.454\n",
            "               toaster       5000          9      0.595      0.778      0.658      0.458\n",
            "                  sink       5000        225       0.67      0.604      0.635      0.447\n",
            "          refrigerator       5000        126      0.749      0.762      0.808       0.69\n",
            "                  book       5000       1129      0.583      0.189      0.302      0.174\n",
            "                 clock       5000        267      0.762      0.727      0.772      0.565\n",
            "                  vase       5000        274      0.663      0.609       0.62       0.45\n",
            "              scissors       5000         36       0.67      0.417      0.448      0.375\n",
            "            teddy bear       5000        190      0.741      0.692      0.743      0.585\n",
            "            hair drier       5000         11      0.329     0.0909     0.0813     0.0443\n",
            "            toothbrush       5000         57      0.552      0.475      0.482      0.349\n",
            "Speed: 0.2ms preprocess, 15.3ms inference, 0.0ms loss, 1.5ms postprocess per image\n",
            "Saving runs/detect/val/predictions.json...\n",
            "\n",
            "Evaluating pycocotools mAP using runs/detect/val/predictions.json and /content/datasets/coco/annotations/instances_val2017.json...\n"
          ]
        },
        {
          "output_type": "stream",
          "name": "stdout",
          "text": [
            "loading annotations into memory...\n",
            "Done (t=0.77s)\n",
            "creating index...\n",
            "index created!\n",
            "Loading and preparing results...\n",
            "DONE (t=2.66s)\n",
            "creating index...\n",
            "index created!\n",
            "Running per image evaluation...\n",
            "Evaluate annotation type *bbox*\n",
            "DONE (t=53.18s).\n",
            "Accumulating evaluation results...\n",
            "DONE (t=12.24s).\n",
            " Average Precision  (AP) @[ IoU=0.50:0.95 | area=   all | maxDets=100 ] = 0.502\n",
            " Average Precision  (AP) @[ IoU=0.50      | area=   all | maxDets=100 ] = 0.672\n",
            " Average Precision  (AP) @[ IoU=0.75      | area=   all | maxDets=100 ] = 0.546\n",
            " Average Precision  (AP) @[ IoU=0.50:0.95 | area= small | maxDets=100 ] = 0.320\n",
            " Average Precision  (AP) @[ IoU=0.50:0.95 | area=medium | maxDets=100 ] = 0.558\n",
            " Average Precision  (AP) @[ IoU=0.50:0.95 | area= large | maxDets=100 ] = 0.664\n",
            " Average Recall     (AR) @[ IoU=0.50:0.95 | area=   all | maxDets=  1 ] = 0.383\n",
            " Average Recall     (AR) @[ IoU=0.50:0.95 | area=   all | maxDets= 10 ] = 0.635\n",
            " Average Recall     (AR) @[ IoU=0.50:0.95 | area=   all | maxDets=100 ] = 0.684\n",
            " Average Recall     (AR) @[ IoU=0.50:0.95 | area= small | maxDets=100 ] = 0.511\n",
            " Average Recall     (AR) @[ IoU=0.50:0.95 | area=medium | maxDets=100 ] = 0.744\n",
            " Average Recall     (AR) @[ IoU=0.50:0.95 | area= large | maxDets=100 ] = 0.833\n"
          ]
        },
        {
          "output_type": "stream",
          "name": "stderr",
          "text": [
            "Results saved to \u001b[1mruns/detect/val\u001b[0m\n"
          ]
        }
      ]
    },
    {
      "cell_type": "code",
      "source": [
        "print(f'box map50-95 {metrics.box.map:.3}')\n",
        "print(f'box map50 {metrics.box.map50:.3}')\n",
        "print(f'box map75 {metrics.box.map75:.3}')"
      ],
      "metadata": {
        "colab": {
          "base_uri": "https://localhost:8080/"
        },
        "id": "HFzHlZZIHmBA",
        "outputId": "1e843ab0-dd7f-48df-fef7-636dab5973ea"
      },
      "execution_count": null,
      "outputs": [
        {
          "output_type": "stream",
          "name": "stdout",
          "text": [
            "box map50-95 0.501\n",
            "box map50 0.667\n",
            "box map75 0.546\n"
          ]
        }
      ]
    },
    {
      "cell_type": "code",
      "source": [
        "def check_model_size(model):\n",
        "    buffer_size, param_size = 0, 0\n",
        "    for param in model.parameters():\n",
        "        param_size += param.nelement() * param.element_size()\n",
        "\n",
        "    for buffer in model.buffers():\n",
        "        buffer_size += buffer.nelement() * buffer.element_size()\n",
        "\n",
        "    size_all_mb = (param_size + buffer_size) / 1024**2\n",
        "\n",
        "    return size_all_mb"
      ],
      "metadata": {
        "id": "iqMBvizAz_16"
      },
      "execution_count": null,
      "outputs": []
    },
    {
      "cell_type": "code",
      "source": [
        "check_model_size(model.model) # size in mb"
      ],
      "metadata": {
        "id": "F7A9gMG83WJ-",
        "colab": {
          "base_uri": "https://localhost:8080/"
        },
        "outputId": "aadccf4c-113c-45d0-b636-26a184ca1eba"
      },
      "execution_count": null,
      "outputs": [
        {
          "output_type": "execute_result",
          "data": {
            "text/plain": [
              "98.74755859375"
            ]
          },
          "metadata": {},
          "execution_count": 6
        }
      ]
    }
  ]
}