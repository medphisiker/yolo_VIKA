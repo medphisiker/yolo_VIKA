{
 "cells": [
  {
   "cell_type": "code",
   "execution_count": 60,
   "id": "20dd1e74-c96c-45d1-8e80-7c6f158e1dc0",
   "metadata": {},
   "outputs": [],
   "source": [
    "from ultralytics import YOLO\n",
    "import torch\n",
    "from torch.nn.utils import prune"
   ]
  },
  {
   "cell_type": "code",
   "execution_count": 56,
   "id": "8a547961-3fa0-495c-b752-81b5945d200f",
   "metadata": {},
   "outputs": [],
   "source": [
    "weights_path = '/usr/src/ultralytics/runs/classify/train/weights/best.pt'\n",
    "\n",
    "model = YOLO(weights_path)"
   ]
  },
  {
   "cell_type": "code",
   "execution_count": 3,
   "id": "5f27ba77-a30f-422c-b57c-d6b5d7b6e4c6",
   "metadata": {},
   "outputs": [
    {
     "name": "stderr",
     "output_type": "stream",
     "text": [
      "Ultralytics YOLOv8.0.176 🚀 Python-3.10.11 torch-2.0.1 CUDA:0 (NVIDIA A100 80GB PCIe, 81093MiB)\n",
      "YOLOv8l-cls summary (fused): 133 layers, 36197386 parameters, 0 gradients, 98.7 GFLOPs\n",
      "\u001b[34m\u001b[1mtrain:\u001b[0m /usr/src/datasets/imagewoof/train... found 9025 images in 10 classes ✅ \n",
      "\u001b[34m\u001b[1mval:\u001b[0m /usr/src/datasets/imagewoof/val... found 3929 images in 10 classes ✅ \n",
      "\u001b[34m\u001b[1mtest:\u001b[0m None...\n",
      "\u001b[34m\u001b[1mval: \u001b[0mScanning /usr/src/datasets/imagewoof/val... 3929 images, 0 corrupt: 100%|██████████| 3929/3929 [00:00<?, ?it/s]\u001b[0m\n",
      "               classes   top1_acc   top5_acc: 100%|██████████| 246/246 [00:02<00:00, 83.67it/s] \n",
      "                   all      0.925      0.995\n",
      "Speed: 0.1ms preprocess, 0.4ms inference, 0.0ms loss, 0.0ms postprocess per image\n",
      "Results saved to \u001b[1m/usr/src/ultralytics/runs/classify/val2\u001b[0m\n"
     ]
    }
   ],
   "source": [
    "metrics = model.val(data='imagewoof')"
   ]
  },
  {
   "cell_type": "code",
   "execution_count": 13,
   "id": "ef38090c-7f53-472a-ad8a-47e906dfaab6",
   "metadata": {},
   "outputs": [
    {
     "name": "stdout",
     "output_type": "stream",
     "text": [
      "Top1 accuracy 0.925\n",
      "Top1 accuracy 0.995\n",
      "preprocess speed 0.088 ms\n",
      "inference speed 0.410 ms\n",
      "loss speed 0.001 ms\n",
      "postprocess speed 0.001 ms\n"
     ]
    }
   ],
   "source": [
    "print(f'Top1 accuracy {metrics.top1:.3f}')\n",
    "print(f'Top1 accuracy {metrics.top5:.3f}')\n",
    "for stage, time in metrics.speed.items():\n",
    "    print(f'{stage} speed {time:.3f} ms')"
   ]
  },
  {
   "cell_type": "code",
   "execution_count": 16,
   "id": "73ccff85-fa1c-4c67-91f1-9ba63f3be331",
   "metadata": {},
   "outputs": [],
   "source": [
    "def check_model_size(model):\n",
    "    buffer_size, param_size = 0, 0\n",
    "    for param in model.parameters():\n",
    "        param_size += param.nelement() * param.element_size()\n",
    "\n",
    "    for buffer in model.buffers():\n",
    "        buffer_size += buffer.nelement() * buffer.element_size()\n",
    "\n",
    "    size_all_mb = (param_size + buffer_size) / 1024**2\n",
    "\n",
    "    return size_all_mb"
   ]
  },
  {
   "cell_type": "code",
   "execution_count": 57,
   "id": "ea035e0c-50c2-40ad-8f11-800de5d87f03",
   "metadata": {},
   "outputs": [
    {
     "data": {
      "text/plain": [
       "138.25603485107422"
      ]
     },
     "execution_count": 57,
     "metadata": {},
     "output_type": "execute_result"
    }
   ],
   "source": [
    "check_model_size(model.model)"
   ]
  },
  {
   "cell_type": "markdown",
   "id": "273c3625-b7ad-40cc-b268-5af2b1596876",
   "metadata": {},
   "source": [
    "# Quantization"
   ]
  },
  {
   "cell_type": "code",
   "execution_count": 48,
   "id": "28317235-bc2c-4e7d-8585-086f58b807dd",
   "metadata": {},
   "outputs": [],
   "source": [
    "model_int8 = torch.ao.quantization.quantize_dynamic(\n",
    "    model.model,  # the original model\n",
    "    {torch.nn.Conv2d},  # a set of layers to dynamically quantize\n",
    "    dtype=torch.qint8)"
   ]
  },
  {
   "cell_type": "code",
   "execution_count": 49,
   "id": "4ab192e8-f457-4e52-9fc2-27823caa97c5",
   "metadata": {},
   "outputs": [
    {
     "name": "stdout",
     "output_type": "stream",
     "text": [
      "Quant model size: 138.25603485107422\n"
     ]
    }
   ],
   "source": [
    "ckpt = {\n",
    "        'model': model_int8,\n",
    "        'train_args': {},  # save as dict\n",
    "}\n",
    "\n",
    "print(f'Quant model size: {check_model_size(model_int8)}')\n",
    "\n",
    "torch.save(ckpt, './model_quant.pt')"
   ]
  },
  {
   "cell_type": "code",
   "execution_count": 50,
   "id": "3732fc8a-bfbd-4653-9c5a-8617c565bd77",
   "metadata": {},
   "outputs": [],
   "source": [
    "quant_model = YOLO('./model_quant.pt')\n",
    "quant_model.task = 'classify'"
   ]
  },
  {
   "cell_type": "code",
   "execution_count": 51,
   "id": "18c5776b-6652-4af6-b2e9-c35c63a08275",
   "metadata": {},
   "outputs": [
    {
     "name": "stderr",
     "output_type": "stream",
     "text": [
      "Ultralytics YOLOv8.0.176 🚀 Python-3.10.11 torch-2.0.1 CUDA:0 (NVIDIA A100 80GB PCIe, 81093MiB)\n",
      "YOLOv8l-cls summary (fused): 133 layers, 36197386 parameters, 0 gradients, 98.7 GFLOPs\n",
      "\u001b[34m\u001b[1mtrain:\u001b[0m /usr/src/datasets/imagewoof/train... found 9025 images in 10 classes ✅ \n",
      "\u001b[34m\u001b[1mval:\u001b[0m /usr/src/datasets/imagewoof/val... found 3929 images in 10 classes ✅ \n",
      "\u001b[34m\u001b[1mtest:\u001b[0m None...\n",
      "\u001b[34m\u001b[1mval: \u001b[0mScanning /usr/src/datasets/imagewoof/val... 3929 images, 0 corrupt: 100%|██████████| 3929/3929 [00:00<?, ?it/s]\u001b[0m\n",
      "               classes   top1_acc   top5_acc: 100%|██████████| 246/246 [00:15<00:00, 16.27it/s]\n",
      "                   all      0.707      0.974\n",
      "Speed: 0.5ms preprocess, 2.1ms inference, 0.0ms loss, 0.0ms postprocess per image\n",
      "Results saved to \u001b[1m/usr/src/ultralytics/runs/detect/val6\u001b[0m\n"
     ]
    }
   ],
   "source": [
    "quant_model_metrics = quant_model.val(data='imagewoof')"
   ]
  },
  {
   "cell_type": "code",
   "execution_count": 52,
   "id": "4c630fd0-37a8-43f4-b350-1b089fc0e0a5",
   "metadata": {},
   "outputs": [
    {
     "name": "stdout",
     "output_type": "stream",
     "text": [
      "Top1 accuracy 0.707\n",
      "Top1 accuracy 0.974\n",
      "preprocess speed 0.522 ms\n",
      "inference speed 2.120 ms\n",
      "loss speed 0.001 ms\n",
      "postprocess speed 0.001 ms\n"
     ]
    }
   ],
   "source": [
    "print(f'Top1 accuracy {quant_model_metrics.top1:.3f}')\n",
    "print(f'Top1 accuracy {quant_model_metrics.top5:.3f}')\n",
    "for stage, time in quant_model_metrics.speed.items():\n",
    "    print(f'{stage} speed {time:.3f} ms')"
   ]
  },
  {
   "cell_type": "code",
   "execution_count": 54,
   "id": "200aac7f-6ed1-4934-b8bd-918d8f65bdf2",
   "metadata": {},
   "outputs": [
    {
     "data": {
      "text/plain": [
       "138.25603485107422"
      ]
     },
     "execution_count": 54,
     "metadata": {},
     "output_type": "execute_result"
    }
   ],
   "source": [
    "check_model_size(model.model)"
   ]
  },
  {
   "cell_type": "markdown",
   "id": "0552236b-1ca2-4dbd-90eb-112902c6d000",
   "metadata": {},
   "source": [
    "# Pruning"
   ]
  },
  {
   "cell_type": "code",
   "execution_count": 58,
   "id": "8aa7db00-edd3-4545-80cb-4d83b30ec61f",
   "metadata": {},
   "outputs": [],
   "source": [
    "def sparsity(model):\n",
    "    # Return global model sparsity\n",
    "    a, b = 0, 0\n",
    "    for p in model.parameters():\n",
    "        a += p.numel()\n",
    "        b += (p == 0).sum()\n",
    "    return b / a"
   ]
  },
  {
   "cell_type": "code",
   "execution_count": 61,
   "id": "ca7b987f-f7fa-4a95-b009-a1d5963fa5ba",
   "metadata": {},
   "outputs": [
    {
     "name": "stdout",
     "output_type": "stream",
     "text": [
      "Model pruned to 0.0502 global sparsity\n"
     ]
    }
   ],
   "source": [
    "for name, m in model.model.named_modules():\n",
    "    if isinstance(m, torch.nn.Conv2d) or isinstance(m, torch.nn.Linear):\n",
    "        prune.ln_structured(m, name='weight', amount=0.05, n=2, dim=0)  # prune\n",
    "        prune.remove(m, 'weight')  # make permanent\n",
    "print(f'Model pruned to {sparsity(model.model):.3g} global sparsity')"
   ]
  },
  {
   "cell_type": "code",
   "execution_count": 62,
   "id": "8c381181-25ab-48e4-92f3-40d4e4762a12",
   "metadata": {},
   "outputs": [
    {
     "name": "stdout",
     "output_type": "stream",
     "text": [
      "Pruned model size: 138.25603485107422\n"
     ]
    }
   ],
   "source": [
    "ckpt = {\n",
    "    'model': model.model,\n",
    "    'train_args': {},  # save as dict\n",
    "}\n",
    "\n",
    "print(f'Pruned model size: {check_model_size(model.model)}')\n",
    "\n",
    "torch.save(ckpt, './model_pruned.pt')\n",
    "\n",
    "pruned_model = YOLO(\"./model_pruned.pt\")"
   ]
  },
  {
   "cell_type": "code",
   "execution_count": 65,
   "id": "b2259add-1db7-4150-94d6-b982acea3470",
   "metadata": {},
   "outputs": [],
   "source": [
    "pruned_model.task = 'classify'"
   ]
  },
  {
   "cell_type": "code",
   "execution_count": 67,
   "id": "0117a89b-4e4d-4ae8-9200-c050680c3e3d",
   "metadata": {},
   "outputs": [
    {
     "name": "stderr",
     "output_type": "stream",
     "text": [
      "Ultralytics YOLOv8.0.176 🚀 Python-3.10.11 torch-2.0.1 CUDA:0 (NVIDIA A100 80GB PCIe, 81093MiB)\n",
      "\u001b[34m\u001b[1mtrain:\u001b[0m /usr/src/datasets/imagewoof/train... found 9025 images in 10 classes ✅ \n",
      "\u001b[34m\u001b[1mval:\u001b[0m /usr/src/datasets/imagewoof/val... found 3929 images in 10 classes ✅ \n",
      "\u001b[34m\u001b[1mtest:\u001b[0m None...\n",
      "\u001b[34m\u001b[1mval: \u001b[0mScanning /usr/src/datasets/imagewoof/val... 3929 images, 0 corrupt: 100%|██████████| 3929/3929 [00:00<?, ?it/s]\u001b[0m\n",
      "               classes   top1_acc   top5_acc: 100%|██████████| 246/246 [00:16<00:00, 15.29it/s]\n",
      "                   all       0.63      0.952\n",
      "Speed: 0.6ms preprocess, 2.1ms inference, 0.0ms loss, 0.0ms postprocess per image\n",
      "Results saved to \u001b[1m/usr/src/ultralytics/runs/detect/val8\u001b[0m\n"
     ]
    }
   ],
   "source": [
    "pruned_model_metrics = pruned_model.val(data='imagewoof')"
   ]
  },
  {
   "cell_type": "code",
   "execution_count": 68,
   "id": "88087c1e-21c0-4c9a-8840-803edfd64f04",
   "metadata": {},
   "outputs": [
    {
     "name": "stdout",
     "output_type": "stream",
     "text": [
      "Top1 accuracy 0.630\n",
      "Top1 accuracy 0.952\n",
      "preprocess speed 0.631 ms\n",
      "inference speed 2.086 ms\n",
      "loss speed 0.002 ms\n",
      "postprocess speed 0.001 ms\n"
     ]
    }
   ],
   "source": [
    "print(f'Top1 accuracy {pruned_model_metrics.top1:.3f}')\n",
    "print(f'Top1 accuracy {pruned_model_metrics.top5:.3f}')\n",
    "for stage, time in pruned_model_metrics.speed.items():\n",
    "    print(f'{stage} speed {time:.3f} ms')"
   ]
  },
  {
   "cell_type": "code",
   "execution_count": null,
   "id": "af23ec3b-1966-4582-b04f-40810f1addc2",
   "metadata": {},
   "outputs": [],
   "source": []
  }
 ],
 "metadata": {
  "kernelspec": {
   "display_name": "Python 3 (ipykernel)",
   "language": "python",
   "name": "python3"
  },
  "language_info": {
   "codemirror_mode": {
    "name": "ipython",
    "version": 3
   },
   "file_extension": ".py",
   "mimetype": "text/x-python",
   "name": "python",
   "nbconvert_exporter": "python",
   "pygments_lexer": "ipython3",
   "version": "3.10.11"
  }
 },
 "nbformat": 4,
 "nbformat_minor": 5
}
