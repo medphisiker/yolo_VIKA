{
  "nbformat": 4,
  "nbformat_minor": 0,
  "metadata": {
    "colab": {
      "provenance": [],
      "gpuType": "T4"
    },
    "kernelspec": {
      "name": "python3",
      "display_name": "Python 3"
    },
    "language_info": {
      "name": "python"
    },
    "accelerator": "GPU"
  },
  "cells": [
    {
      "cell_type": "markdown",
      "source": [
        "# Методы компрессии нейронных сетей"
      ],
      "metadata": {
        "id": "Qi802ASKZi2m"
      }
    },
    {
      "cell_type": "markdown",
      "source": [
        "## Лекция №3 - Кластеризация весов моделей\n",
        "\n",
        "*   Использование кластеризации для сокращения размера моделей.\n",
        "*   Алгоритмы кластеризации и их применение к моделям машинного обучения.\n",
        "*   Практика - Пример с кластеризацией весов\n",
        "\n",
        "## ДЗ №3:\n",
        "Применение данного подхода к своим моделям и замер производительности"
      ],
      "metadata": {
        "id": "McDvqAV2Zkxm"
      }
    },
    {
      "cell_type": "markdown",
      "source": [
        "## Домашняя работа\n",
        "В качестве модели выбрана YOLOv8m-cls\n",
        "\n",
        "Проверяются следующие метрики производительности:\n",
        "\n",
        "*   число параметров модели;\n",
        "*   вес файла модели;\n",
        "*   целевая метрика."
      ],
      "metadata": {
        "id": "phJ-YoizZn0M"
      }
    },
    {
      "cell_type": "code",
      "source": [
        "!pip install -q tensorflow-model-optimization\n",
        "!pip install model_profiler"
      ],
      "metadata": {
        "colab": {
          "base_uri": "https://localhost:8080/"
        },
        "id": "NthKm-_adCaa",
        "outputId": "c49d7761-34c4-4f99-e111-9c3b9fe66cee"
      },
      "execution_count": 1,
      "outputs": [
        {
          "output_type": "stream",
          "name": "stdout",
          "text": [
            "\u001b[?25l     \u001b[90m━━━━━━━━━━━━━━━━━━━━━━━━━━━━━━━━━━━━━━━━\u001b[0m \u001b[32m0.0/241.2 kB\u001b[0m \u001b[31m?\u001b[0m eta \u001b[36m-:--:--\u001b[0m\r\u001b[2K     \u001b[91m━━━━━━━━━━━━━━━━━━━━━━━\u001b[0m\u001b[91m╸\u001b[0m\u001b[90m━━━━━━━━━━━━━━━━\u001b[0m \u001b[32m143.4/241.2 kB\u001b[0m \u001b[31m4.4 MB/s\u001b[0m eta \u001b[36m0:00:01\u001b[0m\r\u001b[2K     \u001b[90m━━━━━━━━━━━━━━━━━━━━━━━━━━━━━━━━━━━━━━━━\u001b[0m \u001b[32m241.2/241.2 kB\u001b[0m \u001b[31m4.9 MB/s\u001b[0m eta \u001b[36m0:00:00\u001b[0m\n",
            "\u001b[?25hCollecting model_profiler\n",
            "  Downloading model_profiler-1.1.8-py3-none-any.whl (6.4 kB)\n",
            "Requirement already satisfied: numpy in /usr/local/lib/python3.10/dist-packages (from model_profiler) (1.23.5)\n",
            "Requirement already satisfied: tabulate in /usr/local/lib/python3.10/dist-packages (from model_profiler) (0.9.0)\n",
            "Installing collected packages: model_profiler\n",
            "Successfully installed model_profiler-1.1.8\n"
          ]
        }
      ]
    },
    {
      "cell_type": "code",
      "source": [
        "import tensorflow as tf\n",
        "from tensorflow import keras\n",
        "from tensorflow.keras import layers\n",
        "from tensorflow.keras.datasets import cifar10, mnist\n",
        "import tensorflow_model_optimization as tfmot\n",
        "from model_profiler import model_profiler\n",
        "\n",
        "batch_size = 128"
      ],
      "metadata": {
        "id": "aFwqOExWbwFV"
      },
      "execution_count": 2,
      "outputs": []
    },
    {
      "cell_type": "markdown",
      "source": [
        "## Загрузка датасета"
      ],
      "metadata": {
        "id": "H1x6aLyTZrc0"
      }
    },
    {
      "cell_type": "code",
      "source": [
        "tf.random.set_seed(1)\n",
        "\n",
        "(x_train, y_train), (x_test, y_test) = cifar10.load_data()\n",
        "\n",
        "x_train = x_train / 255\n",
        "x_test = x_test / 255"
      ],
      "metadata": {
        "colab": {
          "base_uri": "https://localhost:8080/"
        },
        "id": "OQ_o6FkRb0Va",
        "outputId": "827b28d3-e616-480e-8571-55a82f310606"
      },
      "execution_count": 3,
      "outputs": [
        {
          "output_type": "stream",
          "name": "stdout",
          "text": [
            "Downloading data from https://www.cs.toronto.edu/~kriz/cifar-10-python.tar.gz\n",
            "170498071/170498071 [==============================] - 2s 0us/step\n"
          ]
        }
      ]
    },
    {
      "cell_type": "code",
      "source": [
        "y_train = keras.utils.to_categorical(y_train, 10)\n",
        "y_test = keras.utils.to_categorical(y_test, 10)"
      ],
      "metadata": {
        "id": "L6WUqldqcRir"
      },
      "execution_count": 4,
      "outputs": []
    },
    {
      "cell_type": "markdown",
      "source": [
        "## Построение модели"
      ],
      "metadata": {
        "id": "44lN6jPeZwOl"
      }
    },
    {
      "cell_type": "code",
      "execution_count": 5,
      "metadata": {
        "id": "2Up8Mn6fbh78"
      },
      "outputs": [],
      "source": [
        "inputs = keras.Input(shape=(32, 32, 3), name=\"img\")\n",
        "x = layers.Conv2D(32, 3, activation=\"relu\")(inputs)\n",
        "x = layers.Conv2D(64, 3, activation=\"relu\")(x)\n",
        "block_1_output = layers.MaxPooling2D(3)(x)\n",
        "\n",
        "x = layers.Conv2D(64, 3, activation=\"relu\", padding=\"same\")(block_1_output)\n",
        "x = layers.Conv2D(64, 3, activation=\"relu\", padding=\"same\")(x)\n",
        "block_2_output = layers.add([x, block_1_output])\n",
        "\n",
        "x = layers.Conv2D(64, 3, activation=\"relu\", padding=\"same\")(block_2_output)\n",
        "x = layers.Conv2D(64, 3, activation=\"relu\", padding=\"same\")(x)\n",
        "block_3_output = layers.add([x, block_2_output])\n",
        "\n",
        "x = layers.Conv2D(64, 3, activation=\"relu\")(block_3_output)\n",
        "x = layers.GlobalAveragePooling2D()(x)\n",
        "x = layers.Dense(256, activation=\"relu\")(x)\n",
        "x = layers.Dropout(0.5)(x)\n",
        "outputs = layers.Dense(10, activation='softmax')(x)\n",
        "\n",
        "model = keras.Model(inputs, outputs, name=\"toy_resnet\")\n",
        "\n",
        "model.compile(optimizer='adam',\n",
        "             loss='categorical_crossentropy',\n",
        "             metrics=['accuracy'])"
      ]
    },
    {
      "cell_type": "markdown",
      "source": [
        "### Число параметров и размер модели"
      ],
      "metadata": {
        "id": "W9EsPOs4Z9Uj"
      }
    },
    {
      "cell_type": "code",
      "source": [
        "model.weights[0][0][0]"
      ],
      "metadata": {
        "colab": {
          "base_uri": "https://localhost:8080/"
        },
        "id": "DMj_ct1Qamwb",
        "outputId": "338ff5e6-20ef-407a-f5ba-75bd58aca1ce"
      },
      "execution_count": 6,
      "outputs": [
        {
          "output_type": "execute_result",
          "data": {
            "text/plain": [
              "<tf.Tensor: shape=(3, 32), dtype=float32, numpy=\n",
              "array([[ 0.03174844,  0.0254668 ,  0.10575704,  0.01555993,  0.07617527,\n",
              "        -0.0060412 , -0.04199091, -0.09805469, -0.07166376,  0.08314565,\n",
              "        -0.1326293 , -0.05496265, -0.00557925,  0.02874334,  0.01760477,\n",
              "         0.11830305, -0.12355918,  0.08025624,  0.06425397, -0.04970688,\n",
              "         0.09574881,  0.05221766,  0.10128213,  0.07644835,  0.11718245,\n",
              "        -0.10778049,  0.08545583,  0.0074503 , -0.10776647, -0.1170751 ,\n",
              "        -0.03717163,  0.09792745],\n",
              "       [ 0.04791945, -0.02236713,  0.09099188,  0.0254284 ,  0.0312704 ,\n",
              "        -0.08752358,  0.13214032,  0.06848416,  0.09247656,  0.09157777,\n",
              "        -0.05364866,  0.07459085, -0.06139302, -0.12345684,  0.06124169,\n",
              "        -0.07472164, -0.09184933,  0.12160261,  0.03549252,  0.09716418,\n",
              "        -0.08123855, -0.10297394, -0.02528951, -0.02165405,  0.07096519,\n",
              "        -0.04483857, -0.10097066, -0.03261101,  0.03187075, -0.07414202,\n",
              "        -0.07186714,  0.0722958 ],\n",
              "       [-0.03091447, -0.10162303,  0.01662263,  0.0151528 , -0.03677098,\n",
              "        -0.05808339,  0.09775533,  0.08910966, -0.11290981, -0.13460936,\n",
              "         0.04110499, -0.06012388,  0.02971621,  0.11774935, -0.04991639,\n",
              "        -0.0481692 ,  0.05757152, -0.08450709, -0.10261883,  0.12838586,\n",
              "        -0.05461767,  0.05436243,  0.03940818,  0.00112304,  0.07297169,\n",
              "        -0.12102435, -0.06504632,  0.01802793, -0.10094858, -0.12694128,\n",
              "         0.1261182 ,  0.02245568]], dtype=float32)>"
            ]
          },
          "metadata": {},
          "execution_count": 6
        }
      ]
    },
    {
      "cell_type": "code",
      "source": [
        "model.summary()"
      ],
      "metadata": {
        "colab": {
          "base_uri": "https://localhost:8080/"
        },
        "id": "G7rNX_6dcl67",
        "outputId": "682cce35-b6e8-43f5-e5be-db7a6637911d"
      },
      "execution_count": 7,
      "outputs": [
        {
          "output_type": "stream",
          "name": "stdout",
          "text": [
            "Model: \"toy_resnet\"\n",
            "__________________________________________________________________________________________________\n",
            " Layer (type)                Output Shape                 Param #   Connected to                  \n",
            "==================================================================================================\n",
            " img (InputLayer)            [(None, 32, 32, 3)]          0         []                            \n",
            "                                                                                                  \n",
            " conv2d (Conv2D)             (None, 30, 30, 32)           896       ['img[0][0]']                 \n",
            "                                                                                                  \n",
            " conv2d_1 (Conv2D)           (None, 28, 28, 64)           18496     ['conv2d[0][0]']              \n",
            "                                                                                                  \n",
            " max_pooling2d (MaxPooling2  (None, 9, 9, 64)             0         ['conv2d_1[0][0]']            \n",
            " D)                                                                                               \n",
            "                                                                                                  \n",
            " conv2d_2 (Conv2D)           (None, 9, 9, 64)             36928     ['max_pooling2d[0][0]']       \n",
            "                                                                                                  \n",
            " conv2d_3 (Conv2D)           (None, 9, 9, 64)             36928     ['conv2d_2[0][0]']            \n",
            "                                                                                                  \n",
            " add (Add)                   (None, 9, 9, 64)             0         ['conv2d_3[0][0]',            \n",
            "                                                                     'max_pooling2d[0][0]']       \n",
            "                                                                                                  \n",
            " conv2d_4 (Conv2D)           (None, 9, 9, 64)             36928     ['add[0][0]']                 \n",
            "                                                                                                  \n",
            " conv2d_5 (Conv2D)           (None, 9, 9, 64)             36928     ['conv2d_4[0][0]']            \n",
            "                                                                                                  \n",
            " add_1 (Add)                 (None, 9, 9, 64)             0         ['conv2d_5[0][0]',            \n",
            "                                                                     'add[0][0]']                 \n",
            "                                                                                                  \n",
            " conv2d_6 (Conv2D)           (None, 7, 7, 64)             36928     ['add_1[0][0]']               \n",
            "                                                                                                  \n",
            " global_average_pooling2d (  (None, 64)                   0         ['conv2d_6[0][0]']            \n",
            " GlobalAveragePooling2D)                                                                          \n",
            "                                                                                                  \n",
            " dense (Dense)               (None, 256)                  16640     ['global_average_pooling2d[0][\n",
            "                                                                    0]']                          \n",
            "                                                                                                  \n",
            " dropout (Dropout)           (None, 256)                  0         ['dense[0][0]']               \n",
            "                                                                                                  \n",
            " dense_1 (Dense)             (None, 10)                   2570      ['dropout[0][0]']             \n",
            "                                                                                                  \n",
            "==================================================================================================\n",
            "Total params: 223242 (872.04 KB)\n",
            "Trainable params: 223242 (872.04 KB)\n",
            "Non-trainable params: 0 (0.00 Byte)\n",
            "__________________________________________________________________________________________________\n"
          ]
        }
      ]
    },
    {
      "cell_type": "markdown",
      "source": [
        "### Занимаемая память"
      ],
      "metadata": {
        "id": "Q__3huUAaDEt"
      }
    },
    {
      "cell_type": "code",
      "source": [
        "print(model_profiler(model, batch_size))"
      ],
      "metadata": {
        "colab": {
          "base_uri": "https://localhost:8080/"
        },
        "id": "JN6By8uQdvV9",
        "outputId": "7499cedd-f25a-4af3-87d0-9eb96b7ccbda"
      },
      "execution_count": 8,
      "outputs": [
        {
          "output_type": "stream",
          "name": "stdout",
          "text": [
            "| Model Profile                    | Value   | Unit    |\n",
            "|----------------------------------|---------|---------|\n",
            "| Selected GPUs                    | ['0']   | GPU IDs |\n",
            "| No. of FLOPs                     | 0.0006  | BFLOPs  |\n",
            "| GPU Memory Requirement           | 0.0584  | GB      |\n",
            "| Model Parameters                 | 0.2232  | Million |\n",
            "| Memory Required by Model Weights | 0.8516  | MB      |\n"
          ]
        },
        {
          "output_type": "stream",
          "name": "stderr",
          "text": [
            "/usr/local/lib/python3.10/dist-packages/model_profiler/profiler.py:72: VisibleDeprecationWarning: Creating an ndarray from ragged nested sequences (which is a list-or-tuple of lists-or-tuples-or ndarrays with different lengths or shapes) is deprecated. If you meant to do this, you must specify 'dtype=object' when creating the ndarray.\n",
            "  np.asarray(values).reshape(-1,1),\n"
          ]
        }
      ]
    },
    {
      "cell_type": "markdown",
      "source": [
        "### Целевая метрика"
      ],
      "metadata": {
        "id": "VToobG49aI-q"
      }
    },
    {
      "cell_type": "code",
      "source": [
        "model.fit(x_train, y_train, batch_size=64, epochs=10, validation_split=0.2)"
      ],
      "metadata": {
        "colab": {
          "base_uri": "https://localhost:8080/"
        },
        "id": "JCPkiaVLcg4k",
        "outputId": "866ef44d-40e0-44ee-df57-ebe244a6089b"
      },
      "execution_count": 10,
      "outputs": [
        {
          "output_type": "stream",
          "name": "stdout",
          "text": [
            "Epoch 1/10\n",
            "625/625 [==============================] - 7s 10ms/step - loss: 1.8178 - accuracy: 0.2874 - val_loss: 1.5169 - val_accuracy: 0.4266\n",
            "Epoch 2/10\n",
            "625/625 [==============================] - 5s 8ms/step - loss: 1.3922 - accuracy: 0.4783 - val_loss: 1.2242 - val_accuracy: 0.5476\n",
            "Epoch 3/10\n",
            "625/625 [==============================] - 5s 9ms/step - loss: 1.1699 - accuracy: 0.5767 - val_loss: 1.0615 - val_accuracy: 0.6244\n",
            "Epoch 4/10\n",
            "625/625 [==============================] - 6s 9ms/step - loss: 1.0172 - accuracy: 0.6373 - val_loss: 0.9672 - val_accuracy: 0.6601\n",
            "Epoch 5/10\n",
            "625/625 [==============================] - 5s 9ms/step - loss: 0.9054 - accuracy: 0.6770 - val_loss: 0.8453 - val_accuracy: 0.7002\n",
            "Epoch 6/10\n",
            "625/625 [==============================] - 6s 9ms/step - loss: 0.8355 - accuracy: 0.7068 - val_loss: 0.8382 - val_accuracy: 0.7028\n",
            "Epoch 7/10\n",
            "625/625 [==============================] - 5s 8ms/step - loss: 0.7513 - accuracy: 0.7377 - val_loss: 0.7494 - val_accuracy: 0.7401\n",
            "Epoch 8/10\n",
            "625/625 [==============================] - 6s 9ms/step - loss: 0.7040 - accuracy: 0.7569 - val_loss: 0.7965 - val_accuracy: 0.7212\n",
            "Epoch 9/10\n",
            "625/625 [==============================] - 5s 8ms/step - loss: 0.6480 - accuracy: 0.7746 - val_loss: 0.7088 - val_accuracy: 0.7549\n",
            "Epoch 10/10\n",
            "625/625 [==============================] - 6s 10ms/step - loss: 0.6029 - accuracy: 0.7930 - val_loss: 0.7569 - val_accuracy: 0.7417\n"
          ]
        },
        {
          "output_type": "execute_result",
          "data": {
            "text/plain": [
              "<keras.src.callbacks.History at 0x7ed17f4da650>"
            ]
          },
          "metadata": {},
          "execution_count": 10
        }
      ]
    },
    {
      "cell_type": "code",
      "source": [
        "print(model.evaluate(x_test, y_test) )"
      ],
      "metadata": {
        "colab": {
          "base_uri": "https://localhost:8080/"
        },
        "id": "3GAB_5hQcPR2",
        "outputId": "ca01ae04-bf1a-4849-f295-af112bcfda1d"
      },
      "execution_count": 11,
      "outputs": [
        {
          "output_type": "stream",
          "name": "stdout",
          "text": [
            "313/313 [==============================] - 1s 4ms/step - loss: 0.7779 - accuracy: 0.7381\n",
            "[0.7778986096382141, 0.738099992275238]\n"
          ]
        }
      ]
    },
    {
      "cell_type": "code",
      "source": [
        "keras_file = './model.h5'\n",
        "print('Saving model to: ', keras_file)\n",
        "tf.keras.models.save_model(model, keras_file, include_optimizer=False)"
      ],
      "metadata": {
        "colab": {
          "base_uri": "https://localhost:8080/"
        },
        "id": "BeWTQhEIcxLI",
        "outputId": "ce4931cb-79ad-4677-b556-7f655d23837e"
      },
      "execution_count": 12,
      "outputs": [
        {
          "output_type": "stream",
          "name": "stdout",
          "text": [
            "Saving model to:  ./model.h5\n"
          ]
        },
        {
          "output_type": "stream",
          "name": "stderr",
          "text": [
            "<ipython-input-12-051be73342f6>:3: UserWarning: You are saving your model as an HDF5 file via `model.save()`. This file format is considered legacy. We recommend using instead the native Keras format, e.g. `model.save('my_model.keras')`.\n",
            "  tf.keras.models.save_model(model, keras_file, include_optimizer=False)\n"
          ]
        }
      ]
    },
    {
      "cell_type": "code",
      "source": [
        "# model = tf.keras.models.load_model(keras_file)"
      ],
      "metadata": {
        "colab": {
          "base_uri": "https://localhost:8080/"
        },
        "id": "g9WIZOFuXedB",
        "outputId": "c15a94b6-907d-43c0-986f-3c8721194c95"
      },
      "execution_count": 6,
      "outputs": [
        {
          "output_type": "stream",
          "name": "stderr",
          "text": [
            "WARNING:tensorflow:No training configuration found in the save file, so the model was *not* compiled. Compile it manually.\n"
          ]
        }
      ]
    },
    {
      "cell_type": "markdown",
      "source": [
        "## Кластеризация"
      ],
      "metadata": {
        "id": "7B0g9FvyaR8k"
      }
    },
    {
      "cell_type": "code",
      "source": [
        "cluster_weights = tfmot.clustering.keras.cluster_weights\n",
        "CentroidInitialization = tfmot.clustering.keras.CentroidInitialization\n",
        "\n",
        "clustering_params = {\n",
        "  'number_of_clusters': 8,\n",
        "  'cluster_centroids_init': CentroidInitialization.KMEANS_PLUS_PLUS\n",
        "}\n",
        "\n",
        "clustered_model = cluster_weights(model, **clustering_params)\n",
        "clustered_model = tfmot.clustering.keras.strip_clustering(clustered_model)\n",
        "\n",
        "clustered_model.compile(\n",
        "    optimizer='adam',\n",
        "    loss='categorical_crossentropy',\n",
        "    metrics=['accuracy'])"
      ],
      "metadata": {
        "id": "wcJkls58c86Y"
      },
      "execution_count": 18,
      "outputs": []
    },
    {
      "cell_type": "markdown",
      "source": [
        "#### Число параметров и размер модели"
      ],
      "metadata": {
        "id": "0VWX2KS0bXnM"
      }
    },
    {
      "cell_type": "code",
      "source": [
        "clustered_model.weights[0][0][0]"
      ],
      "metadata": {
        "colab": {
          "base_uri": "https://localhost:8080/"
        },
        "id": "WcewzZTBa9Q2",
        "outputId": "65690b44-6adb-4d8d-cbb6-9fd814895d3f"
      },
      "execution_count": 19,
      "outputs": [
        {
          "output_type": "execute_result",
          "data": {
            "text/plain": [
              "<tf.Tensor: shape=(3, 32), dtype=float32, numpy=\n",
              "array([[ 0.155607  ,  0.03271982,  0.08002635,  0.03271982,  0.155607  ,\n",
              "        -0.01794856, -0.01794856, -0.1189696 , -0.06284878, -0.01794856,\n",
              "        -0.16258548, -0.01794856, -0.06284878,  0.03271982,  0.03271982,\n",
              "         0.155607  , -0.1189696 , -0.01794856, -0.06284878, -0.06284878,\n",
              "         0.03271982, -0.01794856,  0.155607  ,  0.08002635,  0.155607  ,\n",
              "        -0.16258548,  0.08002635, -0.01794856, -0.21125503, -0.16258548,\n",
              "        -0.06284878,  0.155607  ],\n",
              "       [ 0.155607  , -0.06284878,  0.08002635,  0.03271982,  0.155607  ,\n",
              "        -0.16258548,  0.155607  ,  0.08002635,  0.155607  ,  0.03271982,\n",
              "        -0.06284878,  0.08002635, -0.06284878, -0.1189696 ,  0.08002635,\n",
              "        -0.06284878, -0.06284878,  0.08002635, -0.1189696 ,  0.155607  ,\n",
              "        -0.06284878, -0.21125503, -0.01794856, -0.01794856,  0.08002635,\n",
              "        -0.06284878, -0.16258548, -0.01794856, -0.01794856, -0.1189696 ,\n",
              "        -0.06284878,  0.08002635],\n",
              "       [ 0.08002635, -0.1189696 ,  0.03271982,  0.03271982,  0.03271982,\n",
              "        -0.1189696 ,  0.155607  ,  0.155607  , -0.1189696 , -0.16258548,\n",
              "         0.03271982,  0.03271982, -0.01794856,  0.155607  , -0.01794856,\n",
              "        -0.01794856,  0.155607  , -0.16258548, -0.16258548,  0.155607  ,\n",
              "        -0.1189696 ,  0.03271982,  0.03271982,  0.03271982,  0.08002635,\n",
              "        -0.21125503, -0.1189696 , -0.01794856, -0.16258548, -0.16258548,\n",
              "         0.155607  ,  0.03271982]], dtype=float32)>"
            ]
          },
          "metadata": {},
          "execution_count": 19
        }
      ]
    },
    {
      "cell_type": "code",
      "source": [
        "clustered_model.summary()"
      ],
      "metadata": {
        "colab": {
          "base_uri": "https://localhost:8080/"
        },
        "id": "iHolrGc-Yk84",
        "outputId": "0ef95456-d1e8-42b4-8a46-2219fb70901c"
      },
      "execution_count": 20,
      "outputs": [
        {
          "output_type": "stream",
          "name": "stdout",
          "text": [
            "Model: \"toy_resnet\"\n",
            "__________________________________________________________________________________________________\n",
            " Layer (type)                Output Shape                 Param #   Connected to                  \n",
            "==================================================================================================\n",
            " img (InputLayer)            [(None, 32, 32, 3)]          0         []                            \n",
            "                                                                                                  \n",
            " conv2d (Conv2D)             (None, 30, 30, 32)           896       ['img[0][0]']                 \n",
            "                                                                                                  \n",
            " conv2d_1 (Conv2D)           (None, 28, 28, 64)           18496     ['conv2d[0][0]']              \n",
            "                                                                                                  \n",
            " max_pooling2d (MaxPooling2  (None, 9, 9, 64)             0         ['conv2d_1[0][0]']            \n",
            " D)                                                                                               \n",
            "                                                                                                  \n",
            " conv2d_2 (Conv2D)           (None, 9, 9, 64)             36928     ['max_pooling2d[0][0]']       \n",
            "                                                                                                  \n",
            " conv2d_3 (Conv2D)           (None, 9, 9, 64)             36928     ['conv2d_2[0][0]']            \n",
            "                                                                                                  \n",
            " add (Add)                   (None, 9, 9, 64)             0         ['conv2d_3[0][0]',            \n",
            "                                                                     'max_pooling2d[0][0]']       \n",
            "                                                                                                  \n",
            " conv2d_4 (Conv2D)           (None, 9, 9, 64)             36928     ['add[0][0]']                 \n",
            "                                                                                                  \n",
            " conv2d_5 (Conv2D)           (None, 9, 9, 64)             36928     ['conv2d_4[0][0]']            \n",
            "                                                                                                  \n",
            " add_1 (Add)                 (None, 9, 9, 64)             0         ['conv2d_5[0][0]',            \n",
            "                                                                     'add[0][0]']                 \n",
            "                                                                                                  \n",
            " conv2d_6 (Conv2D)           (None, 7, 7, 64)             36928     ['add_1[0][0]']               \n",
            "                                                                                                  \n",
            " global_average_pooling2d (  (None, 64)                   0         ['conv2d_6[0][0]']            \n",
            " GlobalAveragePooling2D)                                                                          \n",
            "                                                                                                  \n",
            " dense (Dense)               (None, 256)                  16640     ['global_average_pooling2d[0][\n",
            "                                                                    0]']                          \n",
            "                                                                                                  \n",
            " dropout (Dropout)           (None, 256)                  0         ['dense[0][0]']               \n",
            "                                                                                                  \n",
            " dense_1 (Dense)             (None, 10)                   2570      ['dropout[0][0]']             \n",
            "                                                                                                  \n",
            "==================================================================================================\n",
            "Total params: 223242 (872.04 KB)\n",
            "Trainable params: 223242 (872.04 KB)\n",
            "Non-trainable params: 0 (0.00 Byte)\n",
            "__________________________________________________________________________________________________\n"
          ]
        }
      ]
    },
    {
      "cell_type": "markdown",
      "source": [
        "### Занимаемая память"
      ],
      "metadata": {
        "id": "NrW3IIw3bLp1"
      }
    },
    {
      "cell_type": "code",
      "source": [
        "batch_size = 128\n",
        "print(model_profiler(clustered_model, batch_size))"
      ],
      "metadata": {
        "colab": {
          "base_uri": "https://localhost:8080/"
        },
        "id": "koberY3fYHOa",
        "outputId": "d9ed0c17-8c34-44c3-ca16-8790ccb7fc5d"
      },
      "execution_count": 21,
      "outputs": [
        {
          "output_type": "stream",
          "name": "stdout",
          "text": [
            "| Model Profile                    | Value   | Unit    |\n",
            "|----------------------------------|---------|---------|\n",
            "| Selected GPUs                    | ['0']   | GPU IDs |\n",
            "| No. of FLOPs                     | 0.0006  | BFLOPs  |\n",
            "| GPU Memory Requirement           | 0.0584  | GB      |\n",
            "| Model Parameters                 | 0.2232  | Million |\n",
            "| Memory Required by Model Weights | 0.8516  | MB      |\n"
          ]
        },
        {
          "output_type": "stream",
          "name": "stderr",
          "text": [
            "/usr/local/lib/python3.10/dist-packages/model_profiler/profiler.py:72: VisibleDeprecationWarning: Creating an ndarray from ragged nested sequences (which is a list-or-tuple of lists-or-tuples-or ndarrays with different lengths or shapes) is deprecated. If you meant to do this, you must specify 'dtype=object' when creating the ndarray.\n",
            "  np.asarray(values).reshape(-1,1),\n"
          ]
        }
      ]
    },
    {
      "cell_type": "markdown",
      "source": [
        "### Целевая метрика"
      ],
      "metadata": {
        "id": "wAjk960MbkTG"
      }
    },
    {
      "cell_type": "code",
      "source": [
        "print(clustered_model.evaluate(x_test, y_test) )"
      ],
      "metadata": {
        "colab": {
          "base_uri": "https://localhost:8080/"
        },
        "id": "vOKqKEPGZI7E",
        "outputId": "2e4d6a5c-1f07-4af1-dbc5-25ff1487ff7b"
      },
      "execution_count": 22,
      "outputs": [
        {
          "output_type": "stream",
          "name": "stdout",
          "text": [
            "313/313 [==============================] - 2s 4ms/step - loss: 1.0937 - accuracy: 0.6011\n",
            "[1.0936636924743652, 0.6011000275611877]\n"
          ]
        }
      ]
    }
  ]
}