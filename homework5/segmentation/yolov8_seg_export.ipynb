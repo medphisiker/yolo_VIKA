{
 "cells": [
  {
   "cell_type": "markdown",
   "metadata": {},
   "source": [
    "# Создадим предобученную модель"
   ]
  },
  {
   "cell_type": "code",
   "execution_count": 1,
   "metadata": {},
   "outputs": [
    {
     "name": "stderr",
     "output_type": "stream",
     "text": [
      "/home/admin-gpu/.cache/pypoetry/virtualenvs/homework5-segmentation-u-9vj8JT-py3.10/lib/python3.10/site-packages/tqdm/auto.py:21: TqdmWarning: IProgress not found. Please update jupyter and ipywidgets. See https://ipywidgets.readthedocs.io/en/stable/user_install.html\n",
      "  from .autonotebook import tqdm as notebook_tqdm\n",
      "\n",
      "                   from  n    params  module                                       arguments                     \n",
      "  0                  -1  1       928  ultralytics.nn.modules.conv.Conv             [3, 32, 3, 2]                 \n",
      "  1                  -1  1     18560  ultralytics.nn.modules.conv.Conv             [32, 64, 3, 2]                \n",
      "  2                  -1  1     29056  ultralytics.nn.modules.block.C2f             [64, 64, 1, True]             \n",
      "  3                  -1  1     73984  ultralytics.nn.modules.conv.Conv             [64, 128, 3, 2]               \n",
      "  4                  -1  2    197632  ultralytics.nn.modules.block.C2f             [128, 128, 2, True]           \n",
      "  5                  -1  1    295424  ultralytics.nn.modules.conv.Conv             [128, 256, 3, 2]              \n",
      "  6                  -1  2    788480  ultralytics.nn.modules.block.C2f             [256, 256, 2, True]           \n",
      "  7                  -1  1   1180672  ultralytics.nn.modules.conv.Conv             [256, 512, 3, 2]              \n",
      "  8                  -1  1   1838080  ultralytics.nn.modules.block.C2f             [512, 512, 1, True]           \n",
      "  9                  -1  1    656896  ultralytics.nn.modules.block.SPPF            [512, 512, 5]                 \n",
      " 10                  -1  1         0  torch.nn.modules.upsampling.Upsample         [None, 2, 'nearest']          \n",
      " 11             [-1, 6]  1         0  ultralytics.nn.modules.conv.Concat           [1]                           \n",
      " 12                  -1  1    591360  ultralytics.nn.modules.block.C2f             [768, 256, 1]                 \n",
      " 13                  -1  1         0  torch.nn.modules.upsampling.Upsample         [None, 2, 'nearest']          \n",
      " 14             [-1, 4]  1         0  ultralytics.nn.modules.conv.Concat           [1]                           \n",
      " 15                  -1  1    148224  ultralytics.nn.modules.block.C2f             [384, 128, 1]                 \n",
      " 16                  -1  1    147712  ultralytics.nn.modules.conv.Conv             [128, 128, 3, 2]              \n",
      " 17            [-1, 12]  1         0  ultralytics.nn.modules.conv.Concat           [1]                           \n",
      " 18                  -1  1    493056  ultralytics.nn.modules.block.C2f             [384, 256, 1]                 \n",
      " 19                  -1  1    590336  ultralytics.nn.modules.conv.Conv             [256, 256, 3, 2]              \n",
      " 20             [-1, 9]  1         0  ultralytics.nn.modules.conv.Concat           [1]                           \n",
      " 21                  -1  1   1969152  ultralytics.nn.modules.block.C2f             [768, 512, 1]                 \n",
      " 22        [15, 18, 21]  1   2801504  ultralytics.nn.modules.head.Segment          [80, 32, 128, [128, 256, 512]]\n",
      "YOLOv8s-seg summary: 261 layers, 11821056 parameters, 11821040 gradients\n",
      "\n"
     ]
    }
   ],
   "source": [
    "from ultralytics import YOLO\n",
    "import os\n",
    "\n",
    "# Load a model\n",
    "# build a new model from scratch\n",
    "model = YOLO(\"yolov8s-seg.yaml\")\n",
    "# load a pretrained model (recommended for training)\n",
    "model = YOLO(\"yolov8s-seg.pt\")"
   ]
  },
  {
   "cell_type": "markdown",
   "metadata": {},
   "source": [
    "## Измерим параметры на ГПУ"
   ]
  },
  {
   "cell_type": "code",
   "execution_count": 2,
   "metadata": {},
   "outputs": [
    {
     "name": "stderr",
     "output_type": "stream",
     "text": [
      "Ultralytics YOLOv8.0.176 🚀 Python-3.10.11 torch-1.13.1+cu117 CUDA:0 (NVIDIA A10, 24074MiB)\n",
      "YOLOv8s-seg summary (fused): 195 layers, 11810560 parameters, 0 gradients\n",
      "\u001b[34m\u001b[1mval: \u001b[0mScanning /home/admin-gpu/Downloads/yolo_VIKA/homework1/segmentation/datasets/ms_coco_val_2017/val/labels.cache... 4952 images, 48 backgrounds, 0 corrupt: 100%|██████████| 5000/5000 [00:00<?, ?it/s]\n",
      "                 Class     Images  Instances      Box(P          R      mAP50  mAP50-95)     Mask(P          R      mAP50  mAP50-95): 100%|██████████| 313/313 [00:25<00:00, 12.43it/s]\n",
      "                   all       5000      36335      0.692      0.555      0.609      0.444      0.683      0.537       0.58      0.371\n",
      "                person       5000      10777      0.801      0.712      0.797      0.575      0.796      0.694      0.774      0.465\n",
      "               bicycle       5000        314       0.75      0.481      0.573      0.337      0.665      0.411      0.462      0.195\n",
      "                   car       5000       1918      0.716      0.588      0.652      0.443      0.703      0.565      0.616      0.353\n",
      "            motorcycle       5000        367      0.788      0.662      0.747      0.482      0.762      0.627        0.7      0.366\n",
      "              airplane       5000        143      0.813      0.846      0.916      0.751      0.805      0.832       0.89      0.578\n",
      "                   bus       5000        283      0.826      0.736      0.825      0.693      0.812      0.718      0.807      0.629\n",
      "                 train       5000        190      0.847      0.853        0.9      0.703      0.841      0.837      0.874       0.67\n",
      "                 truck       5000        414      0.595      0.473      0.545      0.382      0.575       0.44      0.498      0.326\n",
      "                  boat       5000        424      0.658      0.396      0.496      0.285      0.685        0.4      0.492      0.229\n",
      "         traffic light       5000        634      0.706      0.435      0.511      0.271      0.677      0.402       0.46      0.204\n",
      "          fire hydrant       5000        101      0.898      0.782      0.864      0.704      0.897      0.772      0.839       0.63\n",
      "             stop sign       5000         75      0.705      0.667      0.742      0.669      0.709      0.667      0.737      0.618\n",
      "         parking meter       5000         60      0.785      0.583      0.647      0.484      0.814      0.583      0.636       0.46\n",
      "                 bench       5000        411      0.601      0.344       0.38      0.266      0.582      0.322      0.341       0.18\n",
      "                  bird       5000        427      0.635      0.471      0.519      0.355      0.623      0.447      0.485      0.291\n",
      "                   cat       5000        202      0.836      0.861      0.901      0.724      0.847      0.866      0.913        0.7\n",
      "                   dog       5000        218      0.788      0.784      0.809      0.681      0.802       0.78      0.807      0.622\n",
      "                 horse       5000        272        0.8       0.75      0.802      0.627      0.791      0.737      0.782      0.463\n",
      "                 sheep       5000        354      0.716      0.751      0.753      0.561      0.701      0.722      0.731       0.47\n",
      "                   cow       5000        372      0.783       0.72      0.791      0.593      0.754      0.685      0.735      0.458\n",
      "              elephant       5000        252       0.77      0.885      0.849      0.665      0.784      0.889      0.859      0.592\n",
      "                  bear       5000         71      0.883      0.859      0.875      0.739      0.872      0.845      0.855      0.689\n",
      "                 zebra       5000        266      0.826      0.846      0.916      0.714       0.84      0.853      0.904       0.62\n",
      "               giraffe       5000        232       0.91      0.884       0.92      0.737      0.919      0.883      0.903      0.601\n",
      "              backpack       5000        371      0.556      0.278      0.325      0.184      0.554      0.264      0.298      0.157\n",
      "              umbrella       5000        407      0.682       0.59      0.628      0.447      0.712        0.6      0.647      0.442\n",
      "               handbag       5000        540      0.569      0.239      0.294      0.165      0.558      0.226       0.29      0.138\n",
      "                   tie       5000        252      0.762      0.482      0.558      0.367      0.728      0.456      0.524      0.311\n",
      "              suitcase       5000        299      0.674      0.538      0.626      0.435      0.692      0.535      0.616       0.41\n",
      "               frisbee       5000        115      0.839      0.814      0.869      0.685       0.82      0.783      0.846      0.586\n",
      "                  skis       5000        241      0.636      0.369      0.454      0.255      0.494      0.268      0.306     0.0825\n",
      "             snowboard       5000         69      0.592      0.442      0.514      0.375      0.585       0.42      0.463      0.252\n",
      "           sports ball       5000        260      0.741      0.535      0.594      0.431      0.695      0.488      0.526       0.28\n",
      "                  kite       5000        327      0.673      0.579      0.638      0.444      0.617      0.523      0.554      0.302\n",
      "          baseball bat       5000        145      0.636       0.51      0.531      0.336      0.642       0.51       0.53      0.256\n",
      "        baseball glove       5000        148      0.772      0.554       0.62      0.378      0.797      0.568      0.621      0.363\n",
      "            skateboard       5000        179      0.822      0.774       0.79      0.558      0.782      0.732      0.747      0.387\n",
      "             surfboard       5000        267      0.791       0.58      0.648      0.418      0.758      0.543      0.609      0.344\n",
      "         tennis racket       5000        225      0.803      0.729      0.815      0.552      0.817      0.733      0.802      0.536\n",
      "                bottle       5000       1013      0.678      0.501      0.558      0.382      0.665      0.477      0.524      0.325\n",
      "            wine glass       5000        341      0.695      0.466      0.527      0.345      0.678      0.444      0.493      0.274\n",
      "                   cup       5000        895      0.634      0.508       0.57      0.422      0.625      0.489      0.545      0.372\n",
      "                  fork       5000        215      0.666      0.447      0.535      0.378      0.631      0.413      0.443      0.213\n",
      "                 knife       5000        325      0.512      0.264      0.298      0.193      0.478      0.243      0.264      0.131\n",
      "                 spoon       5000        253      0.454      0.249      0.283      0.188      0.507      0.264      0.279      0.133\n",
      "                  bowl       5000        623      0.629      0.553      0.587      0.446      0.597      0.514      0.518      0.316\n",
      "                banana       5000        370      0.541      0.321      0.387      0.258      0.523      0.308      0.359      0.214\n",
      "                 apple       5000        236      0.471      0.305      0.304      0.216      0.475      0.297      0.297      0.201\n",
      "              sandwich       5000        177      0.566      0.486      0.526      0.393      0.542      0.446      0.453       0.34\n",
      "                orange       5000        285       0.45      0.361      0.376       0.29      0.458      0.358      0.367      0.262\n",
      "              broccoli       5000        312      0.541      0.365      0.435      0.252      0.583      0.375      0.444      0.233\n",
      "                carrot       5000        365      0.447      0.342      0.323      0.211      0.469      0.345      0.339      0.183\n",
      "               hot dog       5000        125      0.761      0.432       0.53      0.405      0.686      0.385      0.428      0.294\n",
      "                 pizza       5000        284      0.735      0.687      0.739      0.571      0.745       0.68      0.721      0.524\n",
      "                 donut       5000        328      0.645      0.512      0.578      0.458      0.655      0.515      0.573      0.431\n",
      "                  cake       5000        310      0.626      0.546      0.578      0.387      0.612      0.529      0.558      0.362\n",
      "                 chair       5000       1771      0.652       0.42        0.5       0.33      0.622      0.386      0.441       0.21\n",
      "                 couch       5000        261      0.613      0.596       0.65      0.496      0.597      0.571      0.589      0.389\n",
      "          potted plant       5000        342      0.548       0.46      0.495      0.303      0.516      0.421      0.442      0.208\n",
      "                   bed       5000        163      0.614       0.62      0.635      0.461      0.569      0.564      0.547      0.356\n",
      "          dining table       5000        695      0.577      0.447      0.476      0.322      0.468       0.35      0.328      0.138\n",
      "                toilet       5000        179      0.778      0.765      0.818      0.656      0.804      0.779      0.825      0.607\n",
      "                    tv       5000        288      0.768      0.702      0.758      0.588      0.771      0.694      0.765      0.545\n",
      "                laptop       5000        231      0.765      0.733      0.776      0.656      0.728      0.693      0.694      0.461\n",
      "                 mouse       5000        106      0.767      0.764      0.809      0.615       0.78      0.764        0.8      0.548\n",
      "                remote       5000        283      0.635      0.419      0.492      0.305       0.65      0.413      0.493      0.242\n",
      "              keyboard       5000        153      0.685      0.625      0.717      0.554      0.692      0.621      0.718      0.515\n",
      "            cell phone       5000        262      0.609      0.485      0.541       0.37      0.603      0.462      0.504      0.322\n",
      "             microwave       5000         55      0.702      0.685      0.756      0.599      0.704      0.647      0.739      0.554\n",
      "                  oven       5000        143      0.643      0.503      0.584      0.422      0.611      0.471       0.54      0.348\n",
      "               toaster       5000          9       0.79      0.422      0.523      0.403      0.783      0.407      0.523      0.406\n",
      "                  sink       5000        225      0.638      0.582      0.607      0.417      0.669      0.591      0.643      0.382\n",
      "          refrigerator       5000        126      0.748      0.659      0.753      0.619      0.771      0.669      0.761      0.586\n",
      "                  book       5000       1129      0.483       0.15      0.239       0.13       0.44      0.125       0.19     0.0853\n",
      "                 clock       5000        267      0.699      0.667      0.701      0.497      0.703      0.667      0.712      0.477\n",
      "                  vase       5000        274      0.623       0.55      0.569      0.401      0.626       0.54      0.552      0.346\n",
      "              scissors       5000         36      0.729      0.361      0.397      0.334       0.74      0.361      0.393      0.215\n",
      "            teddy bear       5000        190      0.734      0.637      0.685      0.522      0.737      0.636      0.683      0.486\n",
      "            hair drier       5000         11          1          0     0.0525     0.0192          1          0     0.0533     0.0222\n",
      "            toothbrush       5000         57       0.56      0.404      0.391      0.269      0.591      0.404      0.372      0.174\n",
      "Speed: 0.1ms preprocess, 2.7ms inference, 0.0ms loss, 0.3ms postprocess per image\n",
      "Results saved to \u001b[1mruns/segment/val4\u001b[0m\n"
     ]
    }
   ],
   "source": [
    "# Validate the model\n",
    "# При валлидации происходит Fusing слоев модели!\n",
    "# было 261 слой, стало 195 слоев ! \n",
    "# уменьшение слоев примерно на 25%\n",
    "metrics = model.val(data=\"ms_coco_val_2017.yaml\", device=0)"
   ]
  },
  {
   "cell_type": "markdown",
   "metadata": {},
   "source": [
    "## Измерим параметры на ЦПУ"
   ]
  },
  {
   "cell_type": "code",
   "execution_count": 3,
   "metadata": {},
   "outputs": [
    {
     "name": "stderr",
     "output_type": "stream",
     "text": [
      "Ultralytics YOLOv8.0.176 🚀 Python-3.10.11 torch-1.13.1+cu117 CPU (12th Gen Intel Core(TM) i5-12600)\n",
      "\u001b[34m\u001b[1mval: \u001b[0mScanning /home/admin-gpu/Downloads/yolo_VIKA/homework1/segmentation/datasets/ms_coco_val_2017/val/labels.cache... 4952 images, 48 backgrounds, 0 corrupt: 100%|██████████| 5000/5000 [00:00<?, ?it/s]\n",
      "                 Class     Images  Instances      Box(P          R      mAP50  mAP50-95)     Mask(P          R      mAP50  mAP50-95): 100%|██████████| 313/313 [07:45<00:00,  1.49s/it]\n",
      "                   all       5000      36335      0.692      0.555      0.609      0.445      0.684      0.536       0.58      0.371\n",
      "                person       5000      10777      0.801      0.712      0.797      0.575      0.798      0.694      0.774      0.465\n",
      "               bicycle       5000        314      0.751      0.481      0.573      0.337      0.666      0.411      0.462      0.194\n",
      "                   car       5000       1918      0.717      0.588      0.652      0.443      0.704      0.564      0.616      0.353\n",
      "            motorcycle       5000        367      0.784      0.662      0.747      0.481      0.761      0.624        0.7      0.366\n",
      "              airplane       5000        143      0.807      0.846      0.915      0.753        0.8      0.832       0.89      0.577\n",
      "                   bus       5000        283      0.826      0.736      0.825      0.693      0.812      0.717      0.808      0.629\n",
      "                 train       5000        190      0.847      0.853        0.9      0.703      0.841      0.836      0.874       0.67\n",
      "                 truck       5000        414      0.595      0.473      0.546      0.382      0.578       0.44      0.498      0.326\n",
      "                  boat       5000        424      0.658      0.396      0.496      0.285      0.684      0.393      0.492      0.229\n",
      "         traffic light       5000        634      0.705      0.434      0.511      0.271      0.679      0.402       0.46      0.204\n",
      "          fire hydrant       5000        101      0.898      0.782      0.864      0.705      0.896      0.772      0.839       0.63\n",
      "             stop sign       5000         75      0.705      0.667      0.742       0.67       0.71      0.667      0.737      0.618\n",
      "         parking meter       5000         60      0.785      0.583      0.648      0.484      0.817      0.583       0.64      0.461\n",
      "                 bench       5000        411      0.601      0.343       0.38      0.266      0.582      0.321      0.341       0.18\n",
      "                  bird       5000        427      0.635      0.471      0.519      0.356      0.626      0.447      0.485      0.291\n",
      "                   cat       5000        202      0.836      0.861      0.901      0.724      0.847      0.866      0.913        0.7\n",
      "                   dog       5000        218       0.79      0.784      0.809      0.681      0.804       0.78      0.807      0.622\n",
      "                 horse       5000        272      0.801       0.75      0.802      0.627      0.791      0.736      0.783      0.462\n",
      "                 sheep       5000        354      0.715      0.751      0.753      0.561      0.701      0.722      0.731       0.47\n",
      "                   cow       5000        372      0.783       0.72      0.791      0.593      0.754      0.684      0.735      0.458\n",
      "              elephant       5000        252       0.77      0.885      0.849      0.665      0.785      0.889      0.859      0.591\n",
      "                  bear       5000         71      0.883      0.859      0.875       0.74      0.872      0.845      0.855      0.689\n",
      "                 zebra       5000        266      0.825      0.846      0.916      0.714       0.84      0.853      0.904       0.62\n",
      "               giraffe       5000        232       0.91      0.884       0.92      0.737      0.919      0.883      0.903      0.601\n",
      "              backpack       5000        371      0.556      0.278      0.324      0.184      0.562      0.264      0.298      0.157\n",
      "              umbrella       5000        407      0.683       0.59      0.628      0.447      0.713        0.6      0.647      0.442\n",
      "               handbag       5000        540      0.568      0.239      0.295      0.165      0.559      0.225       0.29      0.138\n",
      "                   tie       5000        252      0.762      0.482      0.561      0.367      0.731      0.452      0.524      0.311\n",
      "              suitcase       5000        299      0.674      0.538      0.626      0.435      0.695      0.533      0.616       0.41\n",
      "               frisbee       5000        115      0.839      0.814      0.869      0.685      0.821      0.783      0.846      0.586\n",
      "                  skis       5000        241      0.636      0.369      0.454      0.255      0.493      0.266      0.305     0.0825\n",
      "             snowboard       5000         69      0.592      0.442      0.514      0.375      0.591       0.42      0.463      0.253\n",
      "           sports ball       5000        260      0.741      0.535      0.594      0.431      0.696      0.488      0.526       0.28\n",
      "                  kite       5000        327      0.673      0.578      0.638      0.444      0.622      0.523      0.554      0.301\n",
      "          baseball bat       5000        145      0.636       0.51      0.531      0.337      0.643      0.509       0.53      0.256\n",
      "        baseball glove       5000        148      0.772      0.554       0.62      0.378      0.798      0.568      0.621      0.363\n",
      "            skateboard       5000        179      0.822      0.774       0.79      0.558      0.784      0.732      0.747      0.387\n",
      "             surfboard       5000        267      0.788      0.581      0.648      0.418      0.759      0.543      0.609      0.344\n",
      "         tennis racket       5000        225      0.803      0.729      0.816      0.553      0.819      0.733      0.802      0.536\n",
      "                bottle       5000       1013      0.678      0.501      0.558      0.382      0.666      0.477      0.524      0.325\n",
      "            wine glass       5000        341      0.691      0.466      0.527      0.345      0.677      0.443      0.493      0.274\n",
      "                   cup       5000        895      0.634      0.508       0.57      0.422      0.627      0.488      0.545      0.372\n",
      "                  fork       5000        215      0.666      0.447      0.535      0.379       0.63      0.412      0.443      0.213\n",
      "                 knife       5000        325      0.512      0.264      0.298      0.193      0.482      0.243      0.264      0.131\n",
      "                 spoon       5000        253      0.448      0.249      0.282      0.188      0.499      0.259      0.276      0.133\n",
      "                  bowl       5000        623      0.629      0.553      0.586      0.446      0.598      0.512      0.518      0.316\n",
      "                banana       5000        370      0.537      0.319      0.387      0.258      0.529      0.308      0.359      0.214\n",
      "                 apple       5000        236       0.47      0.305      0.304      0.216      0.476      0.297      0.297      0.201\n",
      "              sandwich       5000        177      0.567      0.486      0.525      0.393      0.545      0.446      0.452       0.34\n",
      "                orange       5000        285       0.45      0.361      0.377      0.291      0.459      0.358      0.367      0.263\n",
      "              broccoli       5000        312      0.541      0.365      0.435      0.252      0.585      0.375      0.443      0.233\n",
      "                carrot       5000        365      0.449      0.342      0.323      0.211      0.476      0.345      0.339      0.184\n",
      "               hot dog       5000        125      0.757      0.432       0.53      0.405      0.686      0.384      0.428      0.294\n",
      "                 pizza       5000        284      0.735      0.687      0.739      0.571      0.749       0.68      0.722      0.524\n",
      "                 donut       5000        328      0.645      0.512      0.578      0.458      0.655      0.514      0.573      0.431\n",
      "                  cake       5000        310      0.626      0.546      0.578      0.387      0.614      0.529      0.558      0.363\n",
      "                 chair       5000       1771      0.653       0.42      0.501       0.33      0.625      0.385      0.442       0.21\n",
      "                 couch       5000        261      0.613      0.596       0.65      0.496      0.598      0.571      0.589      0.389\n",
      "          potted plant       5000        342      0.547      0.459      0.495      0.303      0.518      0.421      0.442      0.208\n",
      "                   bed       5000        163      0.614       0.62      0.635      0.462      0.571      0.564      0.547      0.356\n",
      "          dining table       5000        695      0.576      0.447      0.476      0.322      0.471       0.35      0.328      0.138\n",
      "                toilet       5000        179      0.778      0.765      0.818      0.656      0.804      0.778      0.825      0.607\n",
      "                    tv       5000        288      0.768      0.702      0.758      0.588      0.772      0.694      0.765      0.545\n",
      "                laptop       5000        231      0.764      0.732      0.777      0.656       0.73      0.693      0.694      0.461\n",
      "                 mouse       5000        106      0.767      0.764      0.809      0.615      0.781      0.764        0.8      0.548\n",
      "                remote       5000        283      0.635      0.418      0.492      0.305      0.651      0.413      0.494      0.242\n",
      "              keyboard       5000        153      0.685      0.625      0.717      0.554      0.693      0.621      0.718      0.515\n",
      "            cell phone       5000        262      0.609      0.485      0.541       0.37      0.605      0.462      0.505      0.322\n",
      "             microwave       5000         55      0.701      0.683      0.756      0.599      0.702      0.644      0.739      0.554\n",
      "                  oven       5000        143      0.643      0.503      0.584      0.422       0.61      0.471       0.54      0.348\n",
      "               toaster       5000          9       0.79      0.422      0.523      0.403      0.782      0.404      0.523      0.406\n",
      "                  sink       5000        225      0.638      0.582      0.607      0.417      0.672      0.591      0.643      0.382\n",
      "          refrigerator       5000        126      0.748      0.659      0.753      0.619      0.771      0.668      0.761      0.586\n",
      "                  book       5000       1129      0.483       0.15      0.239       0.13      0.446      0.124       0.19     0.0852\n",
      "                 clock       5000        267      0.698      0.667      0.701      0.497      0.703      0.667      0.712      0.477\n",
      "                  vase       5000        274      0.623       0.55      0.569      0.401      0.633       0.54      0.552      0.346\n",
      "              scissors       5000         36      0.727      0.361      0.397      0.334      0.741      0.361      0.393      0.215\n",
      "            teddy bear       5000        190       0.73      0.637      0.685      0.522      0.737      0.634      0.683      0.486\n",
      "            hair drier       5000         11          1          0     0.0525     0.0192          1          0     0.0533     0.0222\n",
      "            toothbrush       5000         57      0.562      0.404      0.389      0.267      0.592      0.404      0.369      0.173\n",
      "Speed: 0.5ms preprocess, 80.8ms inference, 0.0ms loss, 0.7ms postprocess per image\n",
      "Results saved to \u001b[1mruns/segment/val5\u001b[0m\n"
     ]
    }
   ],
   "source": [
    "metrics = model.val(data=\"ms_coco_val_2017.yaml\", device='cpu')"
   ]
  },
  {
   "cell_type": "code",
   "execution_count": 4,
   "metadata": {},
   "outputs": [
    {
     "name": "stdout",
     "output_type": "stream",
     "text": [
      "mask map50-95 0.371\n",
      "mask map50 0.58\n",
      "mask map75 0.396\n"
     ]
    }
   ],
   "source": [
    "# оценим метрики для сегментации\n",
    "print(f\"mask map50-95 {metrics.seg.map:.3}\")\n",
    "print(f\"mask map50 {metrics.seg.map50:.3}\")\n",
    "print(f\"mask map75 {metrics.seg.map75:.3}\")"
   ]
  },
  {
   "cell_type": "code",
   "execution_count": 5,
   "metadata": {},
   "outputs": [
    {
     "name": "stdout",
     "output_type": "stream",
     "text": [
      "22.8 Мб\n"
     ]
    }
   ],
   "source": [
    "# оценим размер сериализованной модели\n",
    "model_size = os.path.getsize(\"yolov8s-seg.pt\") / 1024**2\n",
    "print(f\"{model_size:.3} Мб\")"
   ]
  },
  {
   "cell_type": "markdown",
   "metadata": {},
   "source": [
    "# Экспорт моделей в различные форматы"
   ]
  },
  {
   "cell_type": "markdown",
   "metadata": {},
   "source": [
    "Согласно официальной документации и туториалу `YOLOv8` поддерживает экспорт в множество различных форматов. \n",
    "\n",
    "Export a YOLOv8 model to any supported format below with the `format` argument, i.e. `format=onnx`. See [YOLOv8 Export Docs](https://docs.ultralytics.com/modes/export/) for more information.\n",
    "\n",
    "- 💡 ProTip: Export to [ONNX](https://onnx.ai/) or [OpenVINO](https://docs.openvino.ai/latest/index.html) for up to 3x CPU speedup.  \n",
    "- 💡 ProTip: Export to [TensorRT](https://developer.nvidia.com/tensorrt) for up to 5x GPU speedup.\n",
    "\n",
    "\n",
    "| Format                                                             | `format` Argument | Model                     | Metadata | Arguments                                           |\n",
    "|--------------------------------------------------------------------|-------------------|---------------------------|----------|-----------------------------------------------------|\n",
    "| [PyTorch](https://pytorch.org/)                                    | -                 | `yolov8n.pt`              | ✅        | -                                                   |\n",
    "| [TorchScript](https://pytorch.org/docs/stable/jit.html)            | `torchscript`     | `yolov8n.torchscript`     | ✅        | `imgsz`, `optimize`                                 |\n",
    "| [ONNX](https://onnx.ai/)                                           | `onnx`            | `yolov8n.onnx`            | ✅        | `imgsz`, `half`, `dynamic`, `simplify`, `opset`     |\n",
    "| [OpenVINO](https://docs.openvino.ai/latest/index.html)             | `openvino`        | `yolov8n_openvino_model/` | ✅        | `imgsz`, `half`                                     |\n",
    "| [TensorRT](https://developer.nvidia.com/tensorrt)                  | `engine`          | `yolov8n.engine`          | ✅        | `imgsz`, `half`, `dynamic`, `simplify`, `workspace` |\n",
    "| [CoreML](https://github.com/apple/coremltools)                     | `coreml`          | `yolov8n.mlpackage`       | ✅        | `imgsz`, `half`, `int8`, `nms`                      |\n",
    "| [TF SavedModel](https://www.tensorflow.org/guide/saved_model)      | `saved_model`     | `yolov8n_saved_model/`    | ✅        | `imgsz`, `keras`                                    |\n",
    "| [TF GraphDef](https://www.tensorflow.org/api_docs/python/tf/Graph) | `pb`              | `yolov8n.pb`              | ❌        | `imgsz`                                             |\n",
    "| [TF Lite](https://www.tensorflow.org/lite)                         | `tflite`          | `yolov8n.tflite`          | ✅        | `imgsz`, `half`, `int8`                             |\n",
    "| [TF Edge TPU](https://coral.ai/docs/edgetpu/models-intro/)         | `edgetpu`         | `yolov8n_edgetpu.tflite`  | ✅        | `imgsz`                                             |\n",
    "| [TF.js](https://www.tensorflow.org/js)                             | `tfjs`            | `yolov8n_web_model/`      | ✅        | `imgsz`                                             |\n",
    "| [PaddlePaddle](https://github.com/PaddlePaddle)                    | `paddle`          | `yolov8n_paddle_model/`   | ✅        | `imgsz`                                             |\n",
    "| [ncnn](https://github.com/Tencent/ncnn)                            | `ncnn`            | `yolov8n_ncnn_model/`     | ✅        | `imgsz`, `half`                                     |\n"
   ]
  },
  {
   "cell_type": "markdown",
   "metadata": {},
   "source": [
    "# Экспорт в ONNX"
   ]
  },
  {
   "cell_type": "code",
   "execution_count": 6,
   "metadata": {},
   "outputs": [
    {
     "name": "stderr",
     "output_type": "stream",
     "text": [
      "\n",
      "                   from  n    params  module                                       arguments                     \n",
      "  0                  -1  1       928  ultralytics.nn.modules.conv.Conv             [3, 32, 3, 2]                 \n",
      "  1                  -1  1     18560  ultralytics.nn.modules.conv.Conv             [32, 64, 3, 2]                \n",
      "  2                  -1  1     29056  ultralytics.nn.modules.block.C2f             [64, 64, 1, True]             \n",
      "  3                  -1  1     73984  ultralytics.nn.modules.conv.Conv             [64, 128, 3, 2]               \n",
      "  4                  -1  2    197632  ultralytics.nn.modules.block.C2f             [128, 128, 2, True]           \n",
      "  5                  -1  1    295424  ultralytics.nn.modules.conv.Conv             [128, 256, 3, 2]              \n",
      "  6                  -1  2    788480  ultralytics.nn.modules.block.C2f             [256, 256, 2, True]           \n",
      "  7                  -1  1   1180672  ultralytics.nn.modules.conv.Conv             [256, 512, 3, 2]              \n",
      "  8                  -1  1   1838080  ultralytics.nn.modules.block.C2f             [512, 512, 1, True]           \n",
      "  9                  -1  1    656896  ultralytics.nn.modules.block.SPPF            [512, 512, 5]                 \n",
      " 10                  -1  1         0  torch.nn.modules.upsampling.Upsample         [None, 2, 'nearest']          \n",
      " 11             [-1, 6]  1         0  ultralytics.nn.modules.conv.Concat           [1]                           \n",
      " 12                  -1  1    591360  ultralytics.nn.modules.block.C2f             [768, 256, 1]                 \n",
      " 13                  -1  1         0  torch.nn.modules.upsampling.Upsample         [None, 2, 'nearest']          \n",
      " 14             [-1, 4]  1         0  ultralytics.nn.modules.conv.Concat           [1]                           \n",
      " 15                  -1  1    148224  ultralytics.nn.modules.block.C2f             [384, 128, 1]                 \n",
      " 16                  -1  1    147712  ultralytics.nn.modules.conv.Conv             [128, 128, 3, 2]              \n",
      " 17            [-1, 12]  1         0  ultralytics.nn.modules.conv.Concat           [1]                           \n",
      " 18                  -1  1    493056  ultralytics.nn.modules.block.C2f             [384, 256, 1]                 \n",
      " 19                  -1  1    590336  ultralytics.nn.modules.conv.Conv             [256, 256, 3, 2]              \n",
      " 20             [-1, 9]  1         0  ultralytics.nn.modules.conv.Concat           [1]                           \n",
      " 21                  -1  1   1969152  ultralytics.nn.modules.block.C2f             [768, 512, 1]                 \n",
      " 22        [15, 18, 21]  1   2801504  ultralytics.nn.modules.head.Segment          [80, 32, 128, [128, 256, 512]]\n",
      "YOLOv8s-seg summary: 261 layers, 11821056 parameters, 11821040 gradients\n",
      "\n"
     ]
    }
   ],
   "source": [
    "# создадим чистую исходную модель\n",
    "\n",
    "from ultralytics import YOLO\n",
    "import os\n",
    "\n",
    "# Load a model\n",
    "# build a new model from scratch\n",
    "model = YOLO(\"yolov8s-seg.yaml\")\n",
    "# load a pretrained model (recommended for training)\n",
    "model = YOLO(\"yolov8s-seg.pt\")"
   ]
  },
  {
   "cell_type": "code",
   "execution_count": 7,
   "metadata": {},
   "outputs": [
    {
     "name": "stderr",
     "output_type": "stream",
     "text": [
      "Ultralytics YOLOv8.0.176 🚀 Python-3.10.11 torch-1.13.1+cu117 CPU (12th Gen Intel Core(TM) i5-12600)\n",
      "YOLOv8s-seg summary (fused): 195 layers, 11810560 parameters, 0 gradients\n",
      "\n",
      "\u001b[34m\u001b[1mPyTorch:\u001b[0m starting from 'yolov8s-seg.pt' with input shape (1, 3, 640, 640) BCHW and output shape(s) ((1, 116, 8400), (1, 32, 160, 160)) (22.8 MB)\n",
      "\n",
      "\u001b[34m\u001b[1mONNX:\u001b[0m starting export with onnx 1.14.1 opset 16...\n",
      "\u001b[34m\u001b[1mONNX:\u001b[0m export success ✅ 0.6s, saved as 'yolov8s-seg.onnx' (45.3 MB)\n",
      "\n",
      "Export complete (2.0s)\n",
      "Results saved to \u001b[1m/home/admin-gpu/Downloads/yolo_VIKA/homework5/segmentation\u001b[0m\n",
      "Predict:         yolo predict task=segment model=yolov8s-seg.onnx imgsz=640  \n",
      "Validate:        yolo val task=segment model=yolov8s-seg.onnx imgsz=640 data=coco.yaml  \n",
      "Visualize:       https://netron.app\n"
     ]
    },
    {
     "data": {
      "text/plain": [
       "'yolov8s-seg.onnx'"
      ]
     },
     "execution_count": 7,
     "metadata": {},
     "output_type": "execute_result"
    }
   ],
   "source": [
    "model.export(format=\"onnx\")"
   ]
  },
  {
   "cell_type": "code",
   "execution_count": 8,
   "metadata": {},
   "outputs": [],
   "source": [
    "# Load a model\n",
    "model = YOLO(\"yolov8s-seg.onnx\")"
   ]
  },
  {
   "cell_type": "markdown",
   "metadata": {},
   "source": [
    "## Измерим параметры на ГПУ"
   ]
  },
  {
   "cell_type": "code",
   "execution_count": 9,
   "metadata": {},
   "outputs": [
    {
     "name": "stderr",
     "output_type": "stream",
     "text": [
      "Ultralytics YOLOv8.0.176 🚀 Python-3.10.11 torch-1.13.1+cu117 CUDA:0 (NVIDIA A10, 24074MiB)\n",
      "Loading yolov8s-seg.onnx for ONNX Runtime inference...\n",
      "Forcing batch=1 square inference (1,3,640,640) for non-PyTorch models\n",
      "\u001b[34m\u001b[1mval: \u001b[0mScanning /home/admin-gpu/Downloads/yolo_VIKA/homework1/segmentation/datasets/ms_coco_val_2017/val/labels.cache... 4952 images, 48 backgrounds, 0 corrupt: 100%|██████████| 5000/5000 [00:00<?, ?it/s]\n",
      "                 Class     Images  Instances      Box(P          R      mAP50  mAP50-95)     Mask(P          R      mAP50  mAP50-95): 100%|██████████| 5000/5000 [09:48<00:00,  8.50it/s]\n",
      "                   all       5000      36335      0.692      0.552      0.606      0.444      0.686      0.531      0.577       0.37\n",
      "                person       5000      10777      0.798      0.711      0.796      0.574      0.797      0.691      0.772      0.464\n",
      "               bicycle       5000        314      0.728      0.465      0.567      0.335      0.644      0.398      0.462       0.19\n",
      "                   car       5000       1918      0.725      0.586      0.652       0.44      0.711      0.554      0.615       0.35\n",
      "            motorcycle       5000        367      0.783      0.649      0.745      0.482      0.773      0.623      0.682      0.359\n",
      "              airplane       5000        143      0.831      0.867      0.915      0.748      0.824      0.846      0.887      0.576\n",
      "                   bus       5000        283      0.844      0.756      0.833        0.7      0.842      0.742      0.819      0.634\n",
      "                 train       5000        190      0.834      0.832      0.892      0.701       0.84      0.832      0.868      0.669\n",
      "                 truck       5000        414      0.596      0.486      0.544      0.376      0.577      0.452      0.491      0.319\n",
      "                  boat       5000        424      0.671      0.413      0.513      0.287      0.691      0.396      0.506      0.231\n",
      "         traffic light       5000        634      0.705      0.431      0.505      0.272      0.668      0.394      0.453      0.201\n",
      "          fire hydrant       5000        101      0.899      0.794      0.866      0.695      0.898      0.782      0.839      0.637\n",
      "             stop sign       5000         75       0.71       0.64      0.738      0.672      0.718       0.64      0.734       0.61\n",
      "         parking meter       5000         60      0.805      0.583      0.657      0.486      0.789      0.567      0.609      0.463\n",
      "                 bench       5000        411      0.602      0.343      0.376      0.263      0.596      0.324      0.346      0.179\n",
      "                  bird       5000        427      0.627      0.457      0.516      0.353      0.619      0.438      0.481      0.286\n",
      "                   cat       5000        202      0.834      0.861      0.891      0.719      0.851      0.861      0.905      0.693\n",
      "                   dog       5000        218      0.779       0.78      0.801      0.676      0.795      0.775      0.801      0.616\n",
      "                 horse       5000        272      0.808      0.754      0.808      0.632      0.801      0.739      0.792      0.465\n",
      "                 sheep       5000        354      0.708      0.732      0.764      0.563      0.706      0.712      0.731      0.468\n",
      "                   cow       5000        372      0.771      0.722       0.78      0.587      0.744      0.687      0.727      0.453\n",
      "              elephant       5000        252      0.755      0.885      0.851      0.673      0.772      0.885      0.861      0.591\n",
      "                  bear       5000         71       0.84      0.859      0.857      0.735      0.847      0.855      0.857       0.69\n",
      "                 zebra       5000        266      0.808      0.857      0.917      0.719      0.821      0.853      0.906      0.618\n",
      "               giraffe       5000        232      0.888      0.875      0.921      0.733      0.899      0.878      0.902      0.602\n",
      "              backpack       5000        371      0.563       0.27      0.326      0.187      0.553       0.25        0.3      0.161\n",
      "              umbrella       5000        407      0.684      0.585      0.621      0.443      0.715      0.592      0.635      0.432\n",
      "               handbag       5000        540      0.542      0.224      0.289      0.163      0.565      0.219      0.283      0.137\n",
      "                   tie       5000        252      0.787      0.496      0.573      0.375      0.761      0.464      0.528      0.318\n",
      "              suitcase       5000        299      0.662      0.515      0.617      0.436      0.677      0.505      0.604      0.406\n",
      "               frisbee       5000        115      0.834      0.817      0.872      0.685      0.832      0.809      0.859      0.598\n",
      "                  skis       5000        241      0.667      0.374      0.443      0.257      0.512       0.27      0.302     0.0825\n",
      "             snowboard       5000         69      0.633       0.45      0.517      0.393      0.632       0.42      0.474      0.257\n",
      "           sports ball       5000        260      0.745      0.515      0.575      0.421      0.699      0.469       0.51      0.272\n",
      "                  kite       5000        327      0.662      0.575      0.629      0.441      0.608      0.517      0.554      0.304\n",
      "          baseball bat       5000        145      0.686      0.538      0.537      0.337      0.678      0.517      0.518      0.252\n",
      "        baseball glove       5000        148      0.757      0.561      0.607      0.376      0.779      0.554      0.602      0.356\n",
      "            skateboard       5000        179      0.793      0.771      0.785      0.559      0.752      0.715      0.732      0.388\n",
      "             surfboard       5000        267      0.779      0.577      0.638      0.416      0.755      0.543      0.599      0.336\n",
      "         tennis racket       5000        225      0.784      0.724      0.799      0.551      0.809      0.734      0.799      0.531\n",
      "                bottle       5000       1013      0.663      0.491      0.554       0.38      0.663      0.467      0.525      0.324\n",
      "            wine glass       5000        341      0.691      0.452       0.52      0.345      0.669      0.419      0.473      0.268\n",
      "                   cup       5000        895      0.633        0.5      0.571      0.424      0.632      0.487      0.545      0.369\n",
      "                  fork       5000        215      0.653      0.437      0.531       0.37      0.596      0.377      0.429      0.205\n",
      "                 knife       5000        325      0.557      0.268      0.301      0.197      0.525      0.228      0.266      0.135\n",
      "                 spoon       5000        253      0.486      0.265      0.276      0.182      0.511      0.273      0.268      0.127\n",
      "                  bowl       5000        623      0.617      0.541      0.585      0.445      0.604      0.506      0.528      0.321\n",
      "                banana       5000        370      0.545      0.318      0.395      0.263      0.537      0.297      0.369       0.22\n",
      "                 apple       5000        236      0.478       0.28      0.294      0.212      0.487      0.271      0.285      0.193\n",
      "              sandwich       5000        177      0.566      0.486      0.512       0.39      0.538      0.435      0.435      0.326\n",
      "                orange       5000        285      0.462      0.353      0.364      0.279      0.462      0.331      0.354      0.255\n",
      "              broccoli       5000        312      0.577      0.385      0.437      0.256       0.59      0.369      0.445      0.233\n",
      "                carrot       5000        365      0.483       0.34      0.326      0.211      0.504      0.332      0.343      0.182\n",
      "               hot dog       5000        125      0.774      0.432      0.537      0.408      0.695      0.376      0.435      0.294\n",
      "                 pizza       5000        284      0.755      0.687      0.738      0.572       0.77      0.665      0.717      0.524\n",
      "                 donut       5000        328      0.652      0.503       0.58      0.464      0.664      0.488      0.579      0.431\n",
      "                  cake       5000        310      0.658      0.559      0.587      0.388      0.647      0.535      0.564      0.358\n",
      "                 chair       5000       1771      0.649      0.418      0.497      0.327      0.624      0.381      0.436      0.208\n",
      "                 couch       5000        261      0.632      0.598       0.64      0.488      0.612      0.563       0.58      0.387\n",
      "          potted plant       5000        342      0.563      0.465      0.475      0.291      0.547      0.427      0.432      0.198\n",
      "                   bed       5000        163      0.631      0.626      0.615      0.458        0.6      0.571      0.544      0.363\n",
      "          dining table       5000        695      0.585      0.433      0.471      0.323      0.503      0.351      0.331      0.137\n",
      "                toilet       5000        179      0.791      0.793      0.832      0.669      0.802      0.793      0.832      0.612\n",
      "                    tv       5000        288      0.736      0.705      0.755      0.587      0.759      0.698      0.759      0.548\n",
      "                laptop       5000        231      0.726      0.721      0.763      0.651      0.692      0.675      0.679      0.461\n",
      "                 mouse       5000        106      0.821      0.764      0.806      0.608      0.838      0.764      0.797      0.549\n",
      "                remote       5000        283      0.643      0.417      0.495      0.301      0.665      0.407      0.485      0.237\n",
      "              keyboard       5000        153       0.69      0.627      0.721      0.562      0.713      0.614      0.715       0.52\n",
      "            cell phone       5000        262      0.595      0.477      0.531      0.368      0.569      0.439      0.497      0.319\n",
      "             microwave       5000         55      0.685      0.674      0.763      0.606      0.711      0.673      0.749      0.562\n",
      "                  oven       5000        143      0.636      0.524      0.588      0.414      0.618      0.503      0.544      0.342\n",
      "               toaster       5000          9      0.633      0.333      0.524      0.396      0.663      0.333      0.524        0.4\n",
      "                  sink       5000        225      0.661      0.582      0.597      0.413      0.693      0.587      0.633      0.379\n",
      "          refrigerator       5000        126      0.765      0.667      0.741      0.617      0.776      0.667      0.748      0.584\n",
      "                  book       5000       1129      0.502      0.145      0.229      0.126      0.462      0.116      0.184     0.0818\n",
      "                 clock       5000        267      0.713      0.671      0.701      0.497      0.731      0.674      0.723      0.471\n",
      "                  vase       5000        274      0.622      0.547      0.572      0.401      0.632      0.515      0.554      0.349\n",
      "              scissors       5000         36      0.667      0.361      0.414      0.349      0.675      0.361      0.409      0.218\n",
      "            teddy bear       5000        190      0.745      0.632      0.685      0.524      0.738      0.622      0.679      0.486\n",
      "            hair drier       5000         11          1          0     0.0272    0.00905          1          0     0.0319     0.0119\n",
      "            toothbrush       5000         57      0.527      0.368      0.384      0.284      0.611      0.421      0.396      0.186\n",
      "Speed: 0.4ms preprocess, 98.9ms inference, 0.0ms loss, 1.4ms postprocess per image\n",
      "Results saved to \u001b[1mruns/segment/val6\u001b[0m\n"
     ]
    }
   ],
   "source": [
    "metrics = model.val(data=\"ms_coco_val_2017.yaml\", imgsz=640, device=0)"
   ]
  },
  {
   "cell_type": "markdown",
   "metadata": {},
   "source": [
    "## Измерим параметры на ЦПУ"
   ]
  },
  {
   "cell_type": "code",
   "execution_count": 10,
   "metadata": {},
   "outputs": [
    {
     "name": "stderr",
     "output_type": "stream",
     "text": [
      "Ultralytics YOLOv8.0.176 🚀 Python-3.10.11 torch-1.13.1+cu117 CPU (12th Gen Intel Core(TM) i5-12600)\n",
      "Loading yolov8s-seg.onnx for ONNX Runtime inference...\n",
      "Forcing batch=1 square inference (1,3,640,640) for non-PyTorch models\n",
      "\u001b[34m\u001b[1mval: \u001b[0mScanning /home/admin-gpu/Downloads/yolo_VIKA/homework1/segmentation/datasets/ms_coco_val_2017/val/labels.cache... 4952 images, 48 backgrounds, 0 corrupt: 100%|██████████| 5000/5000 [00:00<?, ?it/s]\n",
      "                 Class     Images  Instances      Box(P          R      mAP50  mAP50-95)     Mask(P          R      mAP50  mAP50-95): 100%|██████████| 5000/5000 [08:38<00:00,  9.64it/s]\n",
      "                   all       5000      36335      0.692      0.552      0.606      0.444      0.686      0.531      0.577       0.37\n",
      "                person       5000      10777      0.798      0.711      0.796      0.574      0.797      0.691      0.772      0.464\n",
      "               bicycle       5000        314      0.728      0.465      0.567      0.335      0.644      0.398      0.462       0.19\n",
      "                   car       5000       1918      0.725      0.586      0.652       0.44      0.711      0.554      0.615       0.35\n",
      "            motorcycle       5000        367      0.783      0.649      0.745      0.482      0.773      0.623      0.682      0.359\n",
      "              airplane       5000        143      0.831      0.867      0.915      0.748      0.824      0.846      0.887      0.576\n",
      "                   bus       5000        283      0.844      0.756      0.833        0.7      0.842      0.742      0.819      0.634\n",
      "                 train       5000        190      0.834      0.832      0.892      0.701       0.84      0.832      0.868      0.669\n",
      "                 truck       5000        414      0.596      0.486      0.544      0.376      0.577      0.452      0.491      0.319\n",
      "                  boat       5000        424      0.671      0.413      0.513      0.287      0.691      0.396      0.506      0.231\n",
      "         traffic light       5000        634      0.705      0.431      0.505      0.272      0.668      0.394      0.453      0.201\n",
      "          fire hydrant       5000        101      0.899      0.794      0.866      0.695      0.898      0.782      0.839      0.637\n",
      "             stop sign       5000         75       0.71       0.64      0.738      0.672      0.718       0.64      0.734       0.61\n",
      "         parking meter       5000         60      0.805      0.583      0.657      0.486      0.789      0.567      0.609      0.463\n",
      "                 bench       5000        411      0.602      0.343      0.376      0.263      0.596      0.324      0.346      0.179\n",
      "                  bird       5000        427      0.627      0.457      0.516      0.353      0.619      0.438      0.481      0.286\n",
      "                   cat       5000        202      0.834      0.861      0.891      0.719      0.851      0.861      0.905      0.693\n",
      "                   dog       5000        218      0.779       0.78      0.801      0.676      0.795      0.775      0.801      0.616\n",
      "                 horse       5000        272      0.808      0.754      0.808      0.632      0.801      0.739      0.792      0.465\n",
      "                 sheep       5000        354      0.708      0.732      0.764      0.563      0.706      0.712      0.731      0.468\n",
      "                   cow       5000        372      0.771      0.722       0.78      0.587      0.744      0.687      0.727      0.453\n",
      "              elephant       5000        252      0.755      0.885      0.851      0.673      0.772      0.885      0.861      0.591\n",
      "                  bear       5000         71       0.84      0.859      0.857      0.735      0.847      0.855      0.857       0.69\n",
      "                 zebra       5000        266      0.808      0.857      0.917      0.719      0.821      0.853      0.906      0.618\n",
      "               giraffe       5000        232      0.888      0.875      0.921      0.733      0.899      0.878      0.902      0.602\n",
      "              backpack       5000        371      0.563       0.27      0.326      0.187      0.553       0.25        0.3      0.161\n",
      "              umbrella       5000        407      0.684      0.585      0.621      0.443      0.715      0.592      0.635      0.432\n",
      "               handbag       5000        540      0.542      0.224      0.289      0.163      0.565      0.219      0.283      0.137\n",
      "                   tie       5000        252      0.787      0.496      0.573      0.375      0.761      0.464      0.528      0.318\n",
      "              suitcase       5000        299      0.662      0.515      0.617      0.436      0.677      0.505      0.604      0.406\n",
      "               frisbee       5000        115      0.834      0.817      0.872      0.685      0.832      0.809      0.859      0.598\n",
      "                  skis       5000        241      0.667      0.374      0.443      0.257      0.512       0.27      0.302     0.0825\n",
      "             snowboard       5000         69      0.633       0.45      0.517      0.393      0.632       0.42      0.474      0.257\n",
      "           sports ball       5000        260      0.745      0.515      0.575      0.421      0.699      0.469       0.51      0.272\n",
      "                  kite       5000        327      0.662      0.575      0.629      0.441      0.608      0.517      0.554      0.304\n",
      "          baseball bat       5000        145      0.686      0.538      0.537      0.337      0.678      0.517      0.518      0.252\n",
      "        baseball glove       5000        148      0.757      0.561      0.607      0.376      0.779      0.554      0.602      0.356\n",
      "            skateboard       5000        179      0.793      0.771      0.785      0.559      0.752      0.715      0.732      0.388\n",
      "             surfboard       5000        267      0.779      0.577      0.638      0.416      0.755      0.543      0.599      0.336\n",
      "         tennis racket       5000        225      0.784      0.724      0.799      0.551      0.809      0.734      0.799      0.531\n",
      "                bottle       5000       1013      0.663      0.491      0.554       0.38      0.663      0.467      0.525      0.324\n",
      "            wine glass       5000        341      0.691      0.452       0.52      0.345      0.669      0.419      0.473      0.268\n",
      "                   cup       5000        895      0.633        0.5      0.571      0.424      0.632      0.487      0.545      0.369\n",
      "                  fork       5000        215      0.653      0.437      0.531       0.37      0.596      0.377      0.429      0.205\n",
      "                 knife       5000        325      0.557      0.268      0.301      0.197      0.525      0.228      0.266      0.135\n",
      "                 spoon       5000        253      0.486      0.265      0.276      0.182      0.511      0.273      0.268      0.127\n",
      "                  bowl       5000        623      0.617      0.541      0.585      0.445      0.604      0.506      0.528      0.321\n",
      "                banana       5000        370      0.545      0.318      0.395      0.263      0.537      0.297      0.369       0.22\n",
      "                 apple       5000        236      0.478       0.28      0.294      0.212      0.487      0.271      0.285      0.193\n",
      "              sandwich       5000        177      0.566      0.486      0.512       0.39      0.538      0.435      0.435      0.326\n",
      "                orange       5000        285      0.462      0.353      0.364      0.279      0.462      0.331      0.354      0.255\n",
      "              broccoli       5000        312      0.577      0.385      0.437      0.256       0.59      0.369      0.445      0.233\n",
      "                carrot       5000        365      0.483       0.34      0.326      0.211      0.504      0.332      0.343      0.182\n",
      "               hot dog       5000        125      0.774      0.432      0.537      0.408      0.695      0.376      0.435      0.294\n",
      "                 pizza       5000        284      0.755      0.687      0.738      0.572       0.77      0.665      0.717      0.524\n",
      "                 donut       5000        328      0.652      0.503       0.58      0.464      0.664      0.488      0.579      0.431\n",
      "                  cake       5000        310      0.658      0.559      0.587      0.388      0.647      0.535      0.564      0.358\n",
      "                 chair       5000       1771      0.649      0.418      0.497      0.327      0.624      0.381      0.436      0.208\n",
      "                 couch       5000        261      0.632      0.598       0.64      0.488      0.612      0.563       0.58      0.387\n",
      "          potted plant       5000        342      0.563      0.465      0.475      0.291      0.547      0.427      0.432      0.198\n",
      "                   bed       5000        163      0.631      0.626      0.615      0.458        0.6      0.571      0.544      0.363\n",
      "          dining table       5000        695      0.585      0.433      0.471      0.323      0.503      0.351      0.331      0.137\n",
      "                toilet       5000        179      0.791      0.793      0.832      0.669      0.802      0.793      0.832      0.612\n",
      "                    tv       5000        288      0.736      0.705      0.755      0.587      0.759      0.698      0.759      0.548\n",
      "                laptop       5000        231      0.726      0.721      0.763      0.651      0.692      0.675      0.679      0.461\n",
      "                 mouse       5000        106      0.821      0.764      0.806      0.608      0.838      0.764      0.797      0.549\n",
      "                remote       5000        283      0.643      0.417      0.495      0.301      0.665      0.407      0.485      0.237\n",
      "              keyboard       5000        153       0.69      0.627      0.721      0.562      0.713      0.614      0.715       0.52\n",
      "            cell phone       5000        262      0.595      0.477      0.531      0.368      0.569      0.439      0.497      0.319\n",
      "             microwave       5000         55      0.685      0.674      0.763      0.606      0.711      0.673      0.749      0.562\n",
      "                  oven       5000        143      0.636      0.524      0.588      0.414      0.618      0.503      0.544      0.342\n",
      "               toaster       5000          9      0.633      0.333      0.524      0.396      0.663      0.333      0.524        0.4\n",
      "                  sink       5000        225      0.661      0.582      0.597      0.413      0.693      0.587      0.633      0.379\n",
      "          refrigerator       5000        126      0.765      0.667      0.741      0.617      0.776      0.667      0.748      0.584\n",
      "                  book       5000       1129      0.502      0.145      0.229      0.126      0.462      0.116      0.184     0.0818\n",
      "                 clock       5000        267      0.713      0.671      0.701      0.497      0.731      0.674      0.723      0.471\n",
      "                  vase       5000        274      0.622      0.547      0.572      0.401      0.632      0.515      0.554      0.349\n",
      "              scissors       5000         36      0.667      0.361      0.414      0.349      0.675      0.361      0.409      0.218\n",
      "            teddy bear       5000        190      0.745      0.632      0.685      0.524      0.738      0.622      0.679      0.486\n",
      "            hair drier       5000         11          1          0     0.0272    0.00905          1          0     0.0319     0.0119\n",
      "            toothbrush       5000         57      0.527      0.368      0.384      0.284      0.611      0.421      0.396      0.186\n",
      "Speed: 0.4ms preprocess, 86.6ms inference, 0.0ms loss, 1.1ms postprocess per image\n",
      "Results saved to \u001b[1mruns/segment/val7\u001b[0m\n"
     ]
    }
   ],
   "source": [
    "metrics = model.val(data=\"ms_coco_val_2017.yaml\", imgsz=640, device='cpu')"
   ]
  },
  {
   "cell_type": "code",
   "execution_count": 11,
   "metadata": {},
   "outputs": [
    {
     "name": "stdout",
     "output_type": "stream",
     "text": [
      "mask map50-95 0.37\n",
      "mask map50 0.577\n",
      "mask map75 0.395\n"
     ]
    }
   ],
   "source": [
    "# оценим метрики для сегментации\n",
    "print(f\"mask map50-95 {metrics.seg.map:.3}\")\n",
    "print(f\"mask map50 {metrics.seg.map50:.3}\")\n",
    "print(f\"mask map75 {metrics.seg.map75:.3}\")"
   ]
  },
  {
   "cell_type": "code",
   "execution_count": 12,
   "metadata": {},
   "outputs": [
    {
     "name": "stdout",
     "output_type": "stream",
     "text": [
      "45.3 Мб\n"
     ]
    }
   ],
   "source": [
    "# оценим размер сериализованной модели\n",
    "model_size = os.path.getsize(\"yolov8s-seg.onnx\") / 1024**2\n",
    "print(f\"{model_size:.3} Мб\")"
   ]
  },
  {
   "cell_type": "markdown",
   "metadata": {},
   "source": [
    "# Экспорт в TensorRT"
   ]
  },
  {
   "cell_type": "code",
   "execution_count": 1,
   "metadata": {},
   "outputs": [
    {
     "name": "stderr",
     "output_type": "stream",
     "text": [
      "/home/admin-gpu/.cache/pypoetry/virtualenvs/homework5-segmentation-u-9vj8JT-py3.10/lib/python3.10/site-packages/tqdm/auto.py:21: TqdmWarning: IProgress not found. Please update jupyter and ipywidgets. See https://ipywidgets.readthedocs.io/en/stable/user_install.html\n",
      "  from .autonotebook import tqdm as notebook_tqdm\n",
      "\n",
      "                   from  n    params  module                                       arguments                     \n",
      "  0                  -1  1       928  ultralytics.nn.modules.conv.Conv             [3, 32, 3, 2]                 \n",
      "  1                  -1  1     18560  ultralytics.nn.modules.conv.Conv             [32, 64, 3, 2]                \n",
      "  2                  -1  1     29056  ultralytics.nn.modules.block.C2f             [64, 64, 1, True]             \n",
      "  3                  -1  1     73984  ultralytics.nn.modules.conv.Conv             [64, 128, 3, 2]               \n",
      "  4                  -1  2    197632  ultralytics.nn.modules.block.C2f             [128, 128, 2, True]           \n",
      "  5                  -1  1    295424  ultralytics.nn.modules.conv.Conv             [128, 256, 3, 2]              \n",
      "  6                  -1  2    788480  ultralytics.nn.modules.block.C2f             [256, 256, 2, True]           \n",
      "  7                  -1  1   1180672  ultralytics.nn.modules.conv.Conv             [256, 512, 3, 2]              \n",
      "  8                  -1  1   1838080  ultralytics.nn.modules.block.C2f             [512, 512, 1, True]           \n",
      "  9                  -1  1    656896  ultralytics.nn.modules.block.SPPF            [512, 512, 5]                 \n",
      " 10                  -1  1         0  torch.nn.modules.upsampling.Upsample         [None, 2, 'nearest']          \n",
      " 11             [-1, 6]  1         0  ultralytics.nn.modules.conv.Concat           [1]                           \n",
      " 12                  -1  1    591360  ultralytics.nn.modules.block.C2f             [768, 256, 1]                 \n",
      " 13                  -1  1         0  torch.nn.modules.upsampling.Upsample         [None, 2, 'nearest']          \n",
      " 14             [-1, 4]  1         0  ultralytics.nn.modules.conv.Concat           [1]                           \n",
      " 15                  -1  1    148224  ultralytics.nn.modules.block.C2f             [384, 128, 1]                 \n",
      " 16                  -1  1    147712  ultralytics.nn.modules.conv.Conv             [128, 128, 3, 2]              \n",
      " 17            [-1, 12]  1         0  ultralytics.nn.modules.conv.Concat           [1]                           \n",
      " 18                  -1  1    493056  ultralytics.nn.modules.block.C2f             [384, 256, 1]                 \n",
      " 19                  -1  1    590336  ultralytics.nn.modules.conv.Conv             [256, 256, 3, 2]              \n",
      " 20             [-1, 9]  1         0  ultralytics.nn.modules.conv.Concat           [1]                           \n",
      " 21                  -1  1   1969152  ultralytics.nn.modules.block.C2f             [768, 512, 1]                 \n",
      " 22        [15, 18, 21]  1   2801504  ultralytics.nn.modules.head.Segment          [80, 32, 128, [128, 256, 512]]\n",
      "YOLOv8s-seg summary: 261 layers, 11821056 parameters, 11821040 gradients\n",
      "\n"
     ]
    }
   ],
   "source": [
    "# создадим чистую исходную модель\n",
    "\n",
    "from ultralytics import YOLO\n",
    "import os\n",
    "\n",
    "# Load a model\n",
    "# build a new model from scratch\n",
    "model = YOLO(\"yolov8s-seg.yaml\")\n",
    "# load a pretrained model (recommended for training)\n",
    "model = YOLO(\"yolov8s-seg.pt\")"
   ]
  },
  {
   "cell_type": "code",
   "execution_count": 2,
   "metadata": {},
   "outputs": [
    {
     "name": "stderr",
     "output_type": "stream",
     "text": [
      "WARNING ⚠️ TensorRT requires GPU export, automatically assigning device=0\n",
      "Ultralytics YOLOv8.0.176 🚀 Python-3.10.11 torch-1.13.1+cu117 CUDA:0 (NVIDIA A10, 24074MiB)\n",
      "YOLOv8s-seg summary (fused): 195 layers, 11810560 parameters, 0 gradients\n",
      "\n",
      "\u001b[34m\u001b[1mPyTorch:\u001b[0m starting from 'yolov8s-seg.pt' with input shape (1, 3, 640, 640) BCHW and output shape(s) ((1, 116, 8400), (1, 32, 160, 160)) (22.8 MB)\n",
      "\u001b[31m\u001b[1mrequirements:\u001b[0m Ultralytics requirement ['nvidia-tensorrt'] not found, attempting AutoUpdate...\n",
      "\u001b[34m\u001b[1mTensorRT:\u001b[0m export failure ❌ 7.5s: No module named 'tensorrt'\n"
     ]
    },
    {
     "name": "stdout",
     "output_type": "stream",
     "text": [
      "\n"
     ]
    },
    {
     "ename": "ModuleNotFoundError",
     "evalue": "No module named 'tensorrt'",
     "output_type": "error",
     "traceback": [
      "\u001b[0;31m---------------------------------------------------------------------------\u001b[0m",
      "\u001b[0;31mModuleNotFoundError\u001b[0m                       Traceback (most recent call last)",
      "File \u001b[0;32m~/.cache/pypoetry/virtualenvs/homework5-segmentation-u-9vj8JT-py3.10/lib/python3.10/site-packages/ultralytics/engine/exporter.py:579\u001b[0m, in \u001b[0;36mExporter.export_engine\u001b[0;34m(self, prefix)\u001b[0m\n\u001b[1;32m    578\u001b[0m \u001b[39mtry\u001b[39;00m:\n\u001b[0;32m--> 579\u001b[0m     \u001b[39mimport\u001b[39;00m \u001b[39mtensorrt\u001b[39;00m \u001b[39mas\u001b[39;00m \u001b[39mtrt\u001b[39;00m  \u001b[39m# noqa\u001b[39;00m\n\u001b[1;32m    580\u001b[0m \u001b[39mexcept\u001b[39;00m \u001b[39mImportError\u001b[39;00m:\n",
      "\u001b[0;31mModuleNotFoundError\u001b[0m: No module named 'tensorrt'",
      "\nDuring handling of the above exception, another exception occurred:\n",
      "\u001b[0;31mModuleNotFoundError\u001b[0m                       Traceback (most recent call last)",
      "\u001b[1;32m/home/admin-gpu/Downloads/yolo_VIKA/homework5/segmentation/yolov8_seg_export.ipynb Ячейка 23\u001b[0m line \u001b[0;36m1\n\u001b[0;32m----> <a href='vscode-notebook-cell://ssh-remote%2Bgpu-server/home/admin-gpu/Downloads/yolo_VIKA/homework5/segmentation/yolov8_seg_export.ipynb#X40sdnNjb2RlLXJlbW90ZQ%3D%3D?line=0'>1</a>\u001b[0m model\u001b[39m.\u001b[39;49mexport(\u001b[39mformat\u001b[39;49m\u001b[39m=\u001b[39;49m\u001b[39m\"\u001b[39;49m\u001b[39mengine\u001b[39;49m\u001b[39m\"\u001b[39;49m)\n",
      "File \u001b[0;32m~/.cache/pypoetry/virtualenvs/homework5-segmentation-u-9vj8JT-py3.10/lib/python3.10/site-packages/ultralytics/engine/model.py:313\u001b[0m, in \u001b[0;36mModel.export\u001b[0;34m(self, **kwargs)\u001b[0m\n\u001b[1;32m    311\u001b[0m custom \u001b[39m=\u001b[39m {\u001b[39m'\u001b[39m\u001b[39mimgsz\u001b[39m\u001b[39m'\u001b[39m: \u001b[39mself\u001b[39m\u001b[39m.\u001b[39mmodel\u001b[39m.\u001b[39margs[\u001b[39m'\u001b[39m\u001b[39mimgsz\u001b[39m\u001b[39m'\u001b[39m], \u001b[39m'\u001b[39m\u001b[39mbatch\u001b[39m\u001b[39m'\u001b[39m: \u001b[39m1\u001b[39m, \u001b[39m'\u001b[39m\u001b[39mdata\u001b[39m\u001b[39m'\u001b[39m: \u001b[39mNone\u001b[39;00m, \u001b[39m'\u001b[39m\u001b[39mverbose\u001b[39m\u001b[39m'\u001b[39m: \u001b[39mFalse\u001b[39;00m}  \u001b[39m# method defaults\u001b[39;00m\n\u001b[1;32m    312\u001b[0m args \u001b[39m=\u001b[39m {\u001b[39m*\u001b[39m\u001b[39m*\u001b[39m\u001b[39mself\u001b[39m\u001b[39m.\u001b[39moverrides, \u001b[39m*\u001b[39m\u001b[39m*\u001b[39mcustom, \u001b[39m*\u001b[39m\u001b[39m*\u001b[39mkwargs, \u001b[39m'\u001b[39m\u001b[39mmode\u001b[39m\u001b[39m'\u001b[39m: \u001b[39m'\u001b[39m\u001b[39mexport\u001b[39m\u001b[39m'\u001b[39m}  \u001b[39m# highest priority args on the right\u001b[39;00m\n\u001b[0;32m--> 313\u001b[0m \u001b[39mreturn\u001b[39;00m Exporter(overrides\u001b[39m=\u001b[39;49margs, _callbacks\u001b[39m=\u001b[39;49m\u001b[39mself\u001b[39;49m\u001b[39m.\u001b[39;49mcallbacks)(model\u001b[39m=\u001b[39;49m\u001b[39mself\u001b[39;49m\u001b[39m.\u001b[39;49mmodel)\n",
      "File \u001b[0;32m~/.cache/pypoetry/virtualenvs/homework5-segmentation-u-9vj8JT-py3.10/lib/python3.10/site-packages/torch/autograd/grad_mode.py:27\u001b[0m, in \u001b[0;36m_DecoratorContextManager.__call__.<locals>.decorate_context\u001b[0;34m(*args, **kwargs)\u001b[0m\n\u001b[1;32m     24\u001b[0m \u001b[39m@functools\u001b[39m\u001b[39m.\u001b[39mwraps(func)\n\u001b[1;32m     25\u001b[0m \u001b[39mdef\u001b[39;00m \u001b[39mdecorate_context\u001b[39m(\u001b[39m*\u001b[39margs, \u001b[39m*\u001b[39m\u001b[39m*\u001b[39mkwargs):\n\u001b[1;32m     26\u001b[0m     \u001b[39mwith\u001b[39;00m \u001b[39mself\u001b[39m\u001b[39m.\u001b[39mclone():\n\u001b[0;32m---> 27\u001b[0m         \u001b[39mreturn\u001b[39;00m func(\u001b[39m*\u001b[39;49margs, \u001b[39m*\u001b[39;49m\u001b[39m*\u001b[39;49mkwargs)\n",
      "File \u001b[0;32m~/.cache/pypoetry/virtualenvs/homework5-segmentation-u-9vj8JT-py3.10/lib/python3.10/site-packages/ultralytics/engine/exporter.py:250\u001b[0m, in \u001b[0;36mExporter.__call__\u001b[0;34m(self, model)\u001b[0m\n\u001b[1;32m    248\u001b[0m     f[\u001b[39m0\u001b[39m], _ \u001b[39m=\u001b[39m \u001b[39mself\u001b[39m\u001b[39m.\u001b[39mexport_torchscript()\n\u001b[1;32m    249\u001b[0m \u001b[39mif\u001b[39;00m engine:  \u001b[39m# TensorRT required before ONNX\u001b[39;00m\n\u001b[0;32m--> 250\u001b[0m     f[\u001b[39m1\u001b[39m], _ \u001b[39m=\u001b[39m \u001b[39mself\u001b[39;49m\u001b[39m.\u001b[39;49mexport_engine()\n\u001b[1;32m    251\u001b[0m \u001b[39mif\u001b[39;00m onnx \u001b[39mor\u001b[39;00m xml:  \u001b[39m# OpenVINO requires ONNX\u001b[39;00m\n\u001b[1;32m    252\u001b[0m     f[\u001b[39m2\u001b[39m], _ \u001b[39m=\u001b[39m \u001b[39mself\u001b[39m\u001b[39m.\u001b[39mexport_onnx()\n",
      "File \u001b[0;32m~/.cache/pypoetry/virtualenvs/homework5-segmentation-u-9vj8JT-py3.10/lib/python3.10/site-packages/ultralytics/engine/exporter.py:122\u001b[0m, in \u001b[0;36mtry_export.<locals>.outer_func\u001b[0;34m(*args, **kwargs)\u001b[0m\n\u001b[1;32m    120\u001b[0m \u001b[39mexcept\u001b[39;00m \u001b[39mException\u001b[39;00m \u001b[39mas\u001b[39;00m e:\n\u001b[1;32m    121\u001b[0m     LOGGER\u001b[39m.\u001b[39minfo(\u001b[39mf\u001b[39m\u001b[39m'\u001b[39m\u001b[39m{\u001b[39;00mprefix\u001b[39m}\u001b[39;00m\u001b[39m export failure ❌ \u001b[39m\u001b[39m{\u001b[39;00mdt\u001b[39m.\u001b[39mt\u001b[39m:\u001b[39;00m\u001b[39m.1f\u001b[39m\u001b[39m}\u001b[39;00m\u001b[39ms: \u001b[39m\u001b[39m{\u001b[39;00me\u001b[39m}\u001b[39;00m\u001b[39m'\u001b[39m)\n\u001b[0;32m--> 122\u001b[0m     \u001b[39mraise\u001b[39;00m e\n",
      "File \u001b[0;32m~/.cache/pypoetry/virtualenvs/homework5-segmentation-u-9vj8JT-py3.10/lib/python3.10/site-packages/ultralytics/engine/exporter.py:117\u001b[0m, in \u001b[0;36mtry_export.<locals>.outer_func\u001b[0;34m(*args, **kwargs)\u001b[0m\n\u001b[1;32m    115\u001b[0m \u001b[39mtry\u001b[39;00m:\n\u001b[1;32m    116\u001b[0m     \u001b[39mwith\u001b[39;00m Profile() \u001b[39mas\u001b[39;00m dt:\n\u001b[0;32m--> 117\u001b[0m         f, model \u001b[39m=\u001b[39m inner_func(\u001b[39m*\u001b[39;49margs, \u001b[39m*\u001b[39;49m\u001b[39m*\u001b[39;49mkwargs)\n\u001b[1;32m    118\u001b[0m     LOGGER\u001b[39m.\u001b[39minfo(\u001b[39mf\u001b[39m\u001b[39m\"\u001b[39m\u001b[39m{\u001b[39;00mprefix\u001b[39m}\u001b[39;00m\u001b[39m export success ✅ \u001b[39m\u001b[39m{\u001b[39;00mdt\u001b[39m.\u001b[39mt\u001b[39m:\u001b[39;00m\u001b[39m.1f\u001b[39m\u001b[39m}\u001b[39;00m\u001b[39ms, saved as \u001b[39m\u001b[39m'\u001b[39m\u001b[39m{\u001b[39;00mf\u001b[39m}\u001b[39;00m\u001b[39m'\u001b[39m\u001b[39m (\u001b[39m\u001b[39m{\u001b[39;00mfile_size(f)\u001b[39m:\u001b[39;00m\u001b[39m.1f\u001b[39m\u001b[39m}\u001b[39;00m\u001b[39m MB)\u001b[39m\u001b[39m\"\u001b[39m)\n\u001b[1;32m    119\u001b[0m     \u001b[39mreturn\u001b[39;00m f, model\n",
      "File \u001b[0;32m~/.cache/pypoetry/virtualenvs/homework5-segmentation-u-9vj8JT-py3.10/lib/python3.10/site-packages/ultralytics/engine/exporter.py:583\u001b[0m, in \u001b[0;36mExporter.export_engine\u001b[0;34m(self, prefix)\u001b[0m\n\u001b[1;32m    581\u001b[0m     \u001b[39mif\u001b[39;00m LINUX:\n\u001b[1;32m    582\u001b[0m         check_requirements(\u001b[39m'\u001b[39m\u001b[39mnvidia-tensorrt\u001b[39m\u001b[39m'\u001b[39m, cmds\u001b[39m=\u001b[39m\u001b[39m'\u001b[39m\u001b[39m-U --index-url https://pypi.ngc.nvidia.com\u001b[39m\u001b[39m'\u001b[39m)\n\u001b[0;32m--> 583\u001b[0m     \u001b[39mimport\u001b[39;00m \u001b[39mtensorrt\u001b[39;00m \u001b[39mas\u001b[39;00m \u001b[39mtrt\u001b[39;00m  \u001b[39m# noqa\u001b[39;00m\n\u001b[1;32m    585\u001b[0m check_version(trt\u001b[39m.\u001b[39m__version__, \u001b[39m'\u001b[39m\u001b[39m7.0.0\u001b[39m\u001b[39m'\u001b[39m, hard\u001b[39m=\u001b[39m\u001b[39mTrue\u001b[39;00m)  \u001b[39m# require tensorrt>=7.0.0\u001b[39;00m\n\u001b[1;32m    586\u001b[0m \u001b[39mself\u001b[39m\u001b[39m.\u001b[39margs\u001b[39m.\u001b[39msimplify \u001b[39m=\u001b[39m \u001b[39mTrue\u001b[39;00m\n",
      "\u001b[0;31mModuleNotFoundError\u001b[0m: No module named 'tensorrt'"
     ]
    },
    {
     "name": "stderr",
     "output_type": "stream",
     "text": [
      "ERROR: Could not install packages due to an OSError: [Errno 32] Broken pipe\n",
      "\n"
     ]
    }
   ],
   "source": [
    "model.export(format=\"engine\")"
   ]
  },
  {
   "cell_type": "code",
   "execution_count": null,
   "metadata": {},
   "outputs": [],
   "source": [
    "# Load a model\n",
    "model = YOLO(\"yolov8s-seg.onnx\")"
   ]
  },
  {
   "cell_type": "markdown",
   "metadata": {},
   "source": [
    "## Измерим параметры на ГПУ"
   ]
  },
  {
   "cell_type": "code",
   "execution_count": null,
   "metadata": {},
   "outputs": [],
   "source": [
    "metrics = model.val(data=\"ms_coco_val_2017.yaml\", imgsz=640, device=0)"
   ]
  },
  {
   "cell_type": "code",
   "execution_count": null,
   "metadata": {},
   "outputs": [],
   "source": [
    "# оценим метрики для сегментации\n",
    "print(f\"mask map50-95 {metrics.seg.map:.3}\")\n",
    "print(f\"mask map50 {metrics.seg.map50:.3}\")\n",
    "print(f\"mask map75 {metrics.seg.map75:.3}\")"
   ]
  },
  {
   "cell_type": "code",
   "execution_count": null,
   "metadata": {},
   "outputs": [],
   "source": [
    "# оценим размер сериализованной модели\n",
    "model_size = os.path.getsize(\"yolov8s-seg.onnx\") / 1024**2\n",
    "print(f\"{model_size:.3} Мб\")"
   ]
  },
  {
   "cell_type": "markdown",
   "metadata": {},
   "source": [
    "# Экспорт в OpenVino"
   ]
  },
  {
   "cell_type": "code",
   "execution_count": null,
   "metadata": {},
   "outputs": [],
   "source": [
    "# создадим чистую исходную модель\n",
    "\n",
    "from ultralytics import YOLO\n",
    "import os\n",
    "\n",
    "# Load a model\n",
    "# build a new model from scratch\n",
    "model = YOLO(\"yolov8s-seg.yaml\")\n",
    "# load a pretrained model (recommended for training)\n",
    "model = YOLO(\"yolov8s-seg.pt\")"
   ]
  },
  {
   "cell_type": "code",
   "execution_count": null,
   "metadata": {},
   "outputs": [],
   "source": [
    "model.export(format=\"openvino\")"
   ]
  },
  {
   "cell_type": "code",
   "execution_count": null,
   "metadata": {},
   "outputs": [],
   "source": [
    "# Load a model\n",
    "model = YOLO(\"yolov8s-seg.onnx\")"
   ]
  },
  {
   "cell_type": "markdown",
   "metadata": {},
   "source": [
    "## Измерим параметры на ЦПУ"
   ]
  },
  {
   "cell_type": "code",
   "execution_count": null,
   "metadata": {},
   "outputs": [],
   "source": [
    "metrics = model.val(data=\"ms_coco_val_2017.yaml\", imgsz=640, device='cpu')"
   ]
  },
  {
   "cell_type": "code",
   "execution_count": null,
   "metadata": {},
   "outputs": [],
   "source": [
    "# оценим метрики для сегментации\n",
    "print(f\"mask map50-95 {metrics.seg.map:.3}\")\n",
    "print(f\"mask map50 {metrics.seg.map50:.3}\")\n",
    "print(f\"mask map75 {metrics.seg.map75:.3}\")"
   ]
  },
  {
   "cell_type": "code",
   "execution_count": null,
   "metadata": {},
   "outputs": [],
   "source": [
    "# оценим размер сериализованной модели\n",
    "model_size = os.path.getsize(\"yolov8s-seg.onnx\") / 1024**2\n",
    "print(f\"{model_size:.3} Мб\")"
   ]
  }
 ],
 "metadata": {
  "kernelspec": {
   "display_name": "homework5-segmentation-u-9vj8JT-py3.10",
   "language": "python",
   "name": "python3"
  },
  "language_info": {
   "codemirror_mode": {
    "name": "ipython",
    "version": 3
   },
   "file_extension": ".py",
   "mimetype": "text/x-python",
   "name": "python",
   "nbconvert_exporter": "python",
   "pygments_lexer": "ipython3",
   "version": "3.10.11"
  }
 },
 "nbformat": 4,
 "nbformat_minor": 2
}
