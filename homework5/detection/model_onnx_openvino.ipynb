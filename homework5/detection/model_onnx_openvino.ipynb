{
  "cells": [
    {
      "cell_type": "code",
      "execution_count": 1,
      "metadata": {
        "colab": {
          "base_uri": "https://localhost:8080/"
        },
        "id": "jAyz43jIzi2I",
        "outputId": "726b95a3-54bb-4bf8-e31f-4e9cc97517b0"
      },
      "outputs": [
        {
          "name": "stdout",
          "output_type": "stream",
          "text": [
            "Collecting ultralytics\n",
            "  Downloading ultralytics-8.0.198-py3-none-any.whl (641 kB)\n",
            "\u001b[2K     \u001b[90m━━━━━━━━━━━━━━━━━━━━━━━━━━━━━━━━━━━━━━━━\u001b[0m \u001b[32m641.7/641.7 kB\u001b[0m \u001b[31m10.4 MB/s\u001b[0m eta \u001b[36m0:00:00\u001b[0m\n",
            "\u001b[?25hRequirement already satisfied: matplotlib>=3.3.0 in /usr/local/lib/python3.10/dist-packages (from ultralytics) (3.7.1)\n",
            "Requirement already satisfied: numpy>=1.22.2 in /usr/local/lib/python3.10/dist-packages (from ultralytics) (1.23.5)\n",
            "Requirement already satisfied: opencv-python>=4.6.0 in /usr/local/lib/python3.10/dist-packages (from ultralytics) (4.8.0.76)\n",
            "Requirement already satisfied: pillow>=7.1.2 in /usr/local/lib/python3.10/dist-packages (from ultralytics) (9.4.0)\n",
            "Requirement already satisfied: pyyaml>=5.3.1 in /usr/local/lib/python3.10/dist-packages (from ultralytics) (6.0.1)\n",
            "Requirement already satisfied: requests>=2.23.0 in /usr/local/lib/python3.10/dist-packages (from ultralytics) (2.31.0)\n",
            "Requirement already satisfied: scipy>=1.4.1 in /usr/local/lib/python3.10/dist-packages (from ultralytics) (1.11.3)\n",
            "Requirement already satisfied: torch>=1.8.0 in /usr/local/lib/python3.10/dist-packages (from ultralytics) (2.0.1+cu118)\n",
            "Requirement already satisfied: torchvision>=0.9.0 in /usr/local/lib/python3.10/dist-packages (from ultralytics) (0.15.2+cu118)\n",
            "Requirement already satisfied: tqdm>=4.64.0 in /usr/local/lib/python3.10/dist-packages (from ultralytics) (4.66.1)\n",
            "Requirement already satisfied: pandas>=1.1.4 in /usr/local/lib/python3.10/dist-packages (from ultralytics) (1.5.3)\n",
            "Requirement already satisfied: seaborn>=0.11.0 in /usr/local/lib/python3.10/dist-packages (from ultralytics) (0.12.2)\n",
            "Requirement already satisfied: psutil in /usr/local/lib/python3.10/dist-packages (from ultralytics) (5.9.5)\n",
            "Requirement already satisfied: py-cpuinfo in /usr/local/lib/python3.10/dist-packages (from ultralytics) (9.0.0)\n",
            "Collecting thop>=0.1.1 (from ultralytics)\n",
            "  Downloading thop-0.1.1.post2209072238-py3-none-any.whl (15 kB)\n",
            "Requirement already satisfied: contourpy>=1.0.1 in /usr/local/lib/python3.10/dist-packages (from matplotlib>=3.3.0->ultralytics) (1.1.1)\n",
            "Requirement already satisfied: cycler>=0.10 in /usr/local/lib/python3.10/dist-packages (from matplotlib>=3.3.0->ultralytics) (0.12.1)\n",
            "Requirement already satisfied: fonttools>=4.22.0 in /usr/local/lib/python3.10/dist-packages (from matplotlib>=3.3.0->ultralytics) (4.43.1)\n",
            "Requirement already satisfied: kiwisolver>=1.0.1 in /usr/local/lib/python3.10/dist-packages (from matplotlib>=3.3.0->ultralytics) (1.4.5)\n",
            "Requirement already satisfied: packaging>=20.0 in /usr/local/lib/python3.10/dist-packages (from matplotlib>=3.3.0->ultralytics) (23.2)\n",
            "Requirement already satisfied: pyparsing>=2.3.1 in /usr/local/lib/python3.10/dist-packages (from matplotlib>=3.3.0->ultralytics) (3.1.1)\n",
            "Requirement already satisfied: python-dateutil>=2.7 in /usr/local/lib/python3.10/dist-packages (from matplotlib>=3.3.0->ultralytics) (2.8.2)\n",
            "Requirement already satisfied: pytz>=2020.1 in /usr/local/lib/python3.10/dist-packages (from pandas>=1.1.4->ultralytics) (2023.3.post1)\n",
            "Requirement already satisfied: charset-normalizer<4,>=2 in /usr/local/lib/python3.10/dist-packages (from requests>=2.23.0->ultralytics) (3.3.0)\n",
            "Requirement already satisfied: idna<4,>=2.5 in /usr/local/lib/python3.10/dist-packages (from requests>=2.23.0->ultralytics) (3.4)\n",
            "Requirement already satisfied: urllib3<3,>=1.21.1 in /usr/local/lib/python3.10/dist-packages (from requests>=2.23.0->ultralytics) (2.0.6)\n",
            "Requirement already satisfied: certifi>=2017.4.17 in /usr/local/lib/python3.10/dist-packages (from requests>=2.23.0->ultralytics) (2023.7.22)\n",
            "Requirement already satisfied: filelock in /usr/local/lib/python3.10/dist-packages (from torch>=1.8.0->ultralytics) (3.12.4)\n",
            "Requirement already satisfied: typing-extensions in /usr/local/lib/python3.10/dist-packages (from torch>=1.8.0->ultralytics) (4.5.0)\n",
            "Requirement already satisfied: sympy in /usr/local/lib/python3.10/dist-packages (from torch>=1.8.0->ultralytics) (1.12)\n",
            "Requirement already satisfied: networkx in /usr/local/lib/python3.10/dist-packages (from torch>=1.8.0->ultralytics) (3.1)\n",
            "Requirement already satisfied: jinja2 in /usr/local/lib/python3.10/dist-packages (from torch>=1.8.0->ultralytics) (3.1.2)\n",
            "Requirement already satisfied: triton==2.0.0 in /usr/local/lib/python3.10/dist-packages (from torch>=1.8.0->ultralytics) (2.0.0)\n",
            "Requirement already satisfied: cmake in /usr/local/lib/python3.10/dist-packages (from triton==2.0.0->torch>=1.8.0->ultralytics) (3.27.6)\n",
            "Requirement already satisfied: lit in /usr/local/lib/python3.10/dist-packages (from triton==2.0.0->torch>=1.8.0->ultralytics) (17.0.2)\n",
            "Requirement already satisfied: six>=1.5 in /usr/local/lib/python3.10/dist-packages (from python-dateutil>=2.7->matplotlib>=3.3.0->ultralytics) (1.16.0)\n",
            "Requirement already satisfied: MarkupSafe>=2.0 in /usr/local/lib/python3.10/dist-packages (from jinja2->torch>=1.8.0->ultralytics) (2.1.3)\n",
            "Requirement already satisfied: mpmath>=0.19 in /usr/local/lib/python3.10/dist-packages (from sympy->torch>=1.8.0->ultralytics) (1.3.0)\n",
            "Installing collected packages: thop, ultralytics\n",
            "Successfully installed thop-0.1.1.post2209072238 ultralytics-8.0.198\n"
          ]
        }
      ],
      "source": [
        "!pip install ultralytics"
      ]
    },
    {
      "cell_type": "markdown",
      "metadata": {
        "id": "fTMhSRCu0Jma"
      },
      "source": [
        "# Before export"
      ]
    },
    {
      "cell_type": "code",
      "execution_count": 2,
      "metadata": {
        "colab": {
          "base_uri": "https://localhost:8080/"
        },
        "id": "yM51SkLrzo5K",
        "outputId": "58922b46-d6d4-48c3-fdee-95d6b3294167"
      },
      "outputs": [
        {
          "name": "stderr",
          "output_type": "stream",
          "text": [
            "\n",
            "                   from  n    params  module                                       arguments                     \n",
            "  0                  -1  1      1392  ultralytics.nn.modules.conv.Conv             [3, 48, 3, 2]                 \n",
            "  1                  -1  1     41664  ultralytics.nn.modules.conv.Conv             [48, 96, 3, 2]                \n",
            "  2                  -1  2    111360  ultralytics.nn.modules.block.C2f             [96, 96, 2, True]             \n",
            "  3                  -1  1    166272  ultralytics.nn.modules.conv.Conv             [96, 192, 3, 2]               \n",
            "  4                  -1  4    813312  ultralytics.nn.modules.block.C2f             [192, 192, 4, True]           \n",
            "  5                  -1  1    664320  ultralytics.nn.modules.conv.Conv             [192, 384, 3, 2]              \n",
            "  6                  -1  4   3248640  ultralytics.nn.modules.block.C2f             [384, 384, 4, True]           \n",
            "  7                  -1  1   1991808  ultralytics.nn.modules.conv.Conv             [384, 576, 3, 2]              \n",
            "  8                  -1  2   3985920  ultralytics.nn.modules.block.C2f             [576, 576, 2, True]           \n",
            "  9                  -1  1    831168  ultralytics.nn.modules.block.SPPF            [576, 576, 5]                 \n",
            " 10                  -1  1         0  torch.nn.modules.upsampling.Upsample         [None, 2, 'nearest']          \n",
            " 11             [-1, 6]  1         0  ultralytics.nn.modules.conv.Concat           [1]                           \n",
            " 12                  -1  2   1993728  ultralytics.nn.modules.block.C2f             [960, 384, 2]                 \n",
            " 13                  -1  1         0  torch.nn.modules.upsampling.Upsample         [None, 2, 'nearest']          \n",
            " 14             [-1, 4]  1         0  ultralytics.nn.modules.conv.Concat           [1]                           \n",
            " 15                  -1  2    517632  ultralytics.nn.modules.block.C2f             [576, 192, 2]                 \n",
            " 16                  -1  1    332160  ultralytics.nn.modules.conv.Conv             [192, 192, 3, 2]              \n",
            " 17            [-1, 12]  1         0  ultralytics.nn.modules.conv.Concat           [1]                           \n",
            " 18                  -1  2   1846272  ultralytics.nn.modules.block.C2f             [576, 384, 2]                 \n",
            " 19                  -1  1   1327872  ultralytics.nn.modules.conv.Conv             [384, 384, 3, 2]              \n",
            " 20             [-1, 9]  1         0  ultralytics.nn.modules.conv.Concat           [1]                           \n",
            " 21                  -1  2   4207104  ultralytics.nn.modules.block.C2f             [960, 576, 2]                 \n",
            " 22        [15, 18, 21]  1   3822016  ultralytics.nn.modules.head.Detect           [80, [192, 384, 576]]         \n",
            "YOLOv8m summary: 295 layers, 25902640 parameters, 25902624 gradients, 79.3 GFLOPs\n",
            "\n",
            "Downloading https://github.com/ultralytics/assets/releases/download/v0.0.0/yolov8m.pt to 'yolov8m.pt'...\n",
            "100%|██████████| 49.7M/49.7M [00:00<00:00, 120MB/s]\n"
          ]
        }
      ],
      "source": [
        "from ultralytics import YOLO\n",
        "\n",
        "# Load a model\n",
        "model = YOLO(\"yolov8m.yaml\") # build a new model from scratch\n",
        "model = YOLO(\"yolov8m.pt\") # load a pretrained model (recommended for training)"
      ]
    },
    {
      "cell_type": "code",
      "execution_count": 3,
      "metadata": {
        "colab": {
          "base_uri": "https://localhost:8080/"
        },
        "id": "2TOBYbNUEAAU",
        "outputId": "82cfd571-d532-41bc-e03c-f2411fe291d9"
      },
      "outputs": [
        {
          "name": "stderr",
          "output_type": "stream",
          "text": [
            "Ultralytics YOLOv8.0.198 🚀 Python-3.10.12 torch-2.0.1+cu118 CUDA:0 (Tesla T4, 15102MiB)\n",
            "YOLOv8m summary (fused): 218 layers, 25886080 parameters, 0 gradients, 78.9 GFLOPs\n",
            "\n",
            "Dataset 'coco.yaml' images not found ⚠️, missing path '/content/datasets/coco/val2017.txt'\n",
            "Downloading https://github.com/ultralytics/yolov5/releases/download/v1.0/coco2017labels-segments.zip to '/content/datasets/coco2017labels-segments.zip'...\n",
            "100%|██████████| 169M/169M [00:09<00:00, 18.3MB/s]\n",
            "Unzipping /content/datasets/coco2017labels-segments.zip to /content/datasets/coco...: 100%|██████████| 122232/122232 [00:18<00:00, 6676.88file/s]\n",
            "Downloading http://images.cocodataset.org/zips/val2017.zip to '/content/datasets/coco/images/val2017.zip'...\n",
            "Dataset download success ✅ (84.4s), saved to \u001b[1m/content/datasets\u001b[0m\n",
            "\n",
            "Downloading https://ultralytics.com/assets/Arial.ttf to '/root/.config/Ultralytics/Arial.ttf'...\n",
            "100%|██████████| 755k/755k [00:00<00:00, 91.0MB/s]\n",
            "\u001b[34m\u001b[1mval: \u001b[0mScanning /content/datasets/coco/labels/val2017... 4952 images, 48 backgrounds, 0 corrupt: 100%|██████████| 5000/5000 [00:03<00:00, 1447.37it/s]\n",
            "\u001b[34m\u001b[1mval: \u001b[0mNew cache created: /content/datasets/coco/labels/val2017.cache\n",
            "                 Class     Images  Instances      Box(P          R      mAP50  mAP50-95): 100%|██████████| 313/313 [02:00<00:00,  2.61it/s]\n",
            "                   all       5000      36335      0.716       0.61      0.667      0.501\n",
            "                person       5000      10777      0.821      0.745      0.829      0.617\n",
            "               bicycle       5000        314      0.742      0.525      0.626      0.402\n",
            "                   car       5000       1918      0.765      0.637      0.713      0.497\n",
            "            motorcycle       5000        367      0.811       0.68      0.793      0.547\n",
            "              airplane       5000        143       0.84      0.884      0.925      0.776\n",
            "                   bus       5000        283       0.85      0.784      0.864       0.75\n",
            "                 train       5000        190       0.88      0.888      0.938      0.769\n",
            "                 truck       5000        414      0.656       0.51      0.604      0.442\n",
            "                  boat       5000        424      0.731      0.469      0.572      0.332\n",
            "         traffic light       5000        634      0.723      0.483      0.568      0.318\n",
            "          fire hydrant       5000        101      0.887      0.842      0.901      0.749\n",
            "             stop sign       5000         75      0.818       0.72      0.795      0.716\n",
            "         parking meter       5000         60      0.774      0.633      0.693       0.54\n",
            "                 bench       5000        411      0.639      0.387      0.455      0.328\n",
            "                  bird       5000        427       0.73      0.493       0.58      0.404\n",
            "                   cat       5000        202      0.877      0.906      0.935      0.786\n",
            "                   dog       5000        218      0.828      0.821      0.848      0.739\n",
            "                 horse       5000        272       0.84      0.809      0.894      0.706\n",
            "                 sheep       5000        354      0.761      0.792      0.818      0.625\n",
            "                   cow       5000        372       0.85      0.761       0.85      0.659\n",
            "              elephant       5000        252      0.793      0.893      0.885      0.724\n",
            "                  bear       5000         71      0.919      0.887      0.931      0.803\n",
            "                 zebra       5000        266      0.863      0.865      0.929      0.765\n",
            "               giraffe       5000        232       0.93      0.922      0.946      0.783\n",
            "              backpack       5000        371      0.562      0.286      0.357      0.209\n",
            "              umbrella       5000        407      0.702      0.637      0.703      0.501\n",
            "               handbag       5000        540      0.597      0.281      0.355      0.212\n",
            "                   tie       5000        252      0.761      0.532      0.605      0.411\n",
            "              suitcase       5000        299      0.723      0.582      0.703      0.497\n",
            "               frisbee       5000        115      0.837      0.851       0.88      0.708\n",
            "                  skis       5000        241      0.697      0.476      0.521      0.317\n",
            "             snowboard       5000         69      0.682      0.493      0.562      0.442\n",
            "           sports ball       5000        260      0.822      0.596      0.668      0.478\n",
            "                  kite       5000        327      0.689      0.606      0.663      0.485\n",
            "          baseball bat       5000        145      0.677        0.6      0.683      0.442\n",
            "        baseball glove       5000        148      0.758      0.608      0.679      0.434\n",
            "            skateboard       5000        179      0.856      0.793       0.83      0.623\n",
            "             surfboard       5000        267      0.823      0.618      0.713      0.477\n",
            "         tennis racket       5000        225      0.876      0.844      0.875      0.638\n",
            "                bottle       5000       1013      0.707       0.56      0.635      0.451\n",
            "            wine glass       5000        341      0.746       0.55      0.649      0.438\n",
            "                   cup       5000        895      0.688        0.6      0.657      0.501\n",
            "                  fork       5000        215      0.704      0.586      0.658      0.484\n",
            "                 knife       5000        325      0.577      0.338      0.419      0.278\n",
            "                 spoon       5000        253      0.554      0.356       0.42      0.296\n",
            "                  bowl       5000        623      0.654      0.581      0.632      0.487\n",
            "                banana       5000        370      0.584      0.349      0.444      0.297\n",
            "                 apple       5000        236      0.478      0.297      0.324      0.233\n",
            "              sandwich       5000        177      0.642      0.567      0.599      0.477\n",
            "                orange       5000        285      0.525      0.389      0.438      0.342\n",
            "              broccoli       5000        312      0.579      0.394      0.457      0.267\n",
            "                carrot       5000        365      0.462      0.397      0.379      0.248\n",
            "               hot dog       5000        125       0.72      0.504      0.574      0.441\n",
            "                 pizza       5000        284      0.753      0.736      0.779      0.613\n",
            "                 donut       5000        328      0.686      0.585      0.649      0.525\n",
            "                  cake       5000        310      0.673      0.552       0.63      0.429\n",
            "                 chair       5000       1771      0.662      0.475      0.568      0.389\n",
            "                 couch       5000        261      0.691      0.594      0.687      0.535\n",
            "          potted plant       5000        342       0.61      0.538      0.543      0.349\n",
            "                   bed       5000        163      0.676       0.65      0.717      0.533\n",
            "          dining table       5000        695      0.611      0.491      0.516      0.366\n",
            "                toilet       5000        179      0.794      0.788      0.865      0.722\n",
            "                    tv       5000        288      0.784      0.758       0.82      0.651\n",
            "                laptop       5000        231      0.779      0.758      0.823      0.716\n",
            "                 mouse       5000        106      0.861      0.802      0.858      0.665\n",
            "                remote       5000        283      0.677      0.509      0.587      0.393\n",
            "              keyboard       5000        153      0.672      0.643      0.754      0.593\n",
            "            cell phone       5000        262      0.678      0.576      0.617      0.436\n",
            "             microwave       5000         55      0.714      0.818      0.837      0.696\n",
            "                  oven       5000        143      0.634      0.566      0.607      0.454\n",
            "               toaster       5000          9      0.595      0.778      0.658      0.458\n",
            "                  sink       5000        225       0.67      0.604      0.635      0.447\n",
            "          refrigerator       5000        126      0.749      0.762      0.808       0.69\n",
            "                  book       5000       1129      0.583      0.189      0.302      0.174\n",
            "                 clock       5000        267      0.762      0.727      0.772      0.565\n",
            "                  vase       5000        274      0.663      0.609       0.62      0.451\n",
            "              scissors       5000         36       0.67      0.417      0.448      0.375\n",
            "            teddy bear       5000        190      0.741      0.692      0.743      0.586\n",
            "            hair drier       5000         11      0.329     0.0909     0.0813     0.0443\n",
            "            toothbrush       5000         57      0.552      0.475      0.482      0.349\n",
            "Speed: 0.2ms preprocess, 16.2ms inference, 0.0ms loss, 1.3ms postprocess per image\n",
            "Saving runs/detect/val/predictions.json...\n",
            "\n",
            "Evaluating pycocotools mAP using runs/detect/val/predictions.json and /content/datasets/coco/annotations/instances_val2017.json...\n"
          ]
        },
        {
          "name": "stdout",
          "output_type": "stream",
          "text": [
            "loading annotations into memory...\n",
            "Done (t=0.39s)\n",
            "creating index...\n",
            "index created!\n",
            "Loading and preparing results...\n",
            "DONE (t=1.62s)\n",
            "creating index...\n",
            "index created!\n",
            "Running per image evaluation...\n",
            "Evaluate annotation type *bbox*\n",
            "DONE (t=54.13s).\n",
            "Accumulating evaluation results...\n",
            "DONE (t=13.27s).\n",
            " Average Precision  (AP) @[ IoU=0.50:0.95 | area=   all | maxDets=100 ] = 0.503\n",
            " Average Precision  (AP) @[ IoU=0.50      | area=   all | maxDets=100 ] = 0.672\n",
            " Average Precision  (AP) @[ IoU=0.75      | area=   all | maxDets=100 ] = 0.547\n",
            " Average Precision  (AP) @[ IoU=0.50:0.95 | area= small | maxDets=100 ] = 0.323\n",
            " Average Precision  (AP) @[ IoU=0.50:0.95 | area=medium | maxDets=100 ] = 0.559\n",
            " Average Precision  (AP) @[ IoU=0.50:0.95 | area= large | maxDets=100 ] = 0.665\n",
            " Average Recall     (AR) @[ IoU=0.50:0.95 | area=   all | maxDets=  1 ] = 0.384\n",
            " Average Recall     (AR) @[ IoU=0.50:0.95 | area=   all | maxDets= 10 ] = 0.637\n",
            " Average Recall     (AR) @[ IoU=0.50:0.95 | area=   all | maxDets=100 ] = 0.686\n",
            " Average Recall     (AR) @[ IoU=0.50:0.95 | area= small | maxDets=100 ] = 0.513\n",
            " Average Recall     (AR) @[ IoU=0.50:0.95 | area=medium | maxDets=100 ] = 0.746\n",
            " Average Recall     (AR) @[ IoU=0.50:0.95 | area= large | maxDets=100 ] = 0.833\n"
          ]
        },
        {
          "name": "stderr",
          "output_type": "stream",
          "text": [
            "Results saved to \u001b[1mruns/detect/val\u001b[0m\n"
          ]
        }
      ],
      "source": [
        "metrics = model.val(data='coco.yaml')  # evaluate model performance on the validation set"
      ]
    },
    {
      "cell_type": "code",
      "execution_count": 4,
      "metadata": {
        "colab": {
          "base_uri": "https://localhost:8080/"
        },
        "id": "HFzHlZZIHmBA",
        "outputId": "b425ab55-b1e2-4711-83cb-3bc834b63863"
      },
      "outputs": [
        {
          "name": "stdout",
          "output_type": "stream",
          "text": [
            "box map50-95 0.501\n",
            "box map50 0.667\n",
            "box map75 0.546\n"
          ]
        }
      ],
      "source": [
        "print(f'box map50-95 {metrics.box.map:.3}')\n",
        "print(f'box map50 {metrics.box.map50:.3}')\n",
        "print(f'box map75 {metrics.box.map75:.3}')"
      ]
    },
    {
      "cell_type": "code",
      "execution_count": 5,
      "metadata": {
        "id": "iqMBvizAz_16"
      },
      "outputs": [],
      "source": [
        "def check_model_size(model):\n",
        "    buffer_size, param_size = 0, 0\n",
        "    for param in model.parameters():\n",
        "        param_size += param.nelement() * param.element_size()\n",
        "\n",
        "    for buffer in model.buffers():\n",
        "        buffer_size += buffer.nelement() * buffer.element_size()\n",
        "\n",
        "    size_all_mb = (param_size + buffer_size) / 1024**2\n",
        "\n",
        "    return size_all_mb"
      ]
    },
    {
      "cell_type": "code",
      "execution_count": 6,
      "metadata": {
        "colab": {
          "base_uri": "https://localhost:8080/"
        },
        "id": "F7A9gMG83WJ-",
        "outputId": "0ce91dbd-395b-4edc-c1b6-15e8ad33f075"
      },
      "outputs": [
        {
          "data": {
            "text/plain": [
              "98.74755859375"
            ]
          },
          "execution_count": 6,
          "metadata": {},
          "output_type": "execute_result"
        }
      ],
      "source": [
        "check_model_size(model.model) # size in mb"
      ]
    },
    {
      "cell_type": "markdown",
      "metadata": {
        "id": "mEPOksi1Hy4f"
      },
      "source": [
        "# ONNX\n"
      ]
    },
    {
      "cell_type": "code",
      "execution_count": 8,
      "metadata": {
        "colab": {
          "base_uri": "https://localhost:8080/",
          "height": 573
        },
        "id": "hNGzRyJ6Iw7x",
        "outputId": "ee3586c3-34bc-483a-bde0-66df3d96010e"
      },
      "outputs": [
        {
          "name": "stderr",
          "output_type": "stream",
          "text": [
            "Ultralytics YOLOv8.0.198 🚀 Python-3.10.12 torch-2.0.1+cu118 CPU (Intel Xeon 2.00GHz)\n",
            "\n",
            "\u001b[34m\u001b[1mPyTorch:\u001b[0m starting from 'yolov8m.pt' with input shape (1, 3, 640, 640) BCHW and output shape(s) (1, 84, 8400) (49.7 MB)\n",
            "\u001b[31m\u001b[1mrequirements:\u001b[0m Ultralytics requirement ['onnx>=1.12.0'] not found, attempting AutoUpdate...\n",
            "Collecting onnx>=1.12.0\n",
            "  Downloading onnx-1.14.1-cp310-cp310-manylinux_2_17_x86_64.manylinux2014_x86_64.whl (14.6 MB)\n",
            "     ━━━━━━━━━━━━━━━━━━━━━━━━━━━━━━━━━━━━━━━━ 14.6/14.6 MB 185.7 MB/s eta 0:00:00\n",
            "Requirement already satisfied: numpy in /usr/local/lib/python3.10/dist-packages (from onnx>=1.12.0) (1.23.5)\n",
            "Requirement already satisfied: protobuf>=3.20.2 in /usr/local/lib/python3.10/dist-packages (from onnx>=1.12.0) (3.20.3)\n",
            "Requirement already satisfied: typing-extensions>=3.6.2.1 in /usr/local/lib/python3.10/dist-packages (from onnx>=1.12.0) (4.5.0)\n",
            "Installing collected packages: onnx\n",
            "Successfully installed onnx-1.14.1\n",
            "\n",
            "\u001b[31m\u001b[1mrequirements:\u001b[0m AutoUpdate success ✅ 6.9s, installed 1 package: ['onnx>=1.12.0']\n",
            "\u001b[31m\u001b[1mrequirements:\u001b[0m ⚠️ \u001b[1mRestart runtime or rerun command for updates to take effect\u001b[0m\n",
            "\n",
            "\n",
            "\u001b[34m\u001b[1mONNX:\u001b[0m starting export with onnx 1.14.1 opset 17...\n"
          ]
        },
        {
          "name": "stdout",
          "output_type": "stream",
          "text": [
            "============= Diagnostic Run torch.onnx.export version 2.0.1+cu118 =============\n",
            "verbose: False, log level: Level.ERROR\n",
            "======================= 0 NONE 0 NOTE 0 WARNING 0 ERROR ========================\n",
            "\n"
          ]
        },
        {
          "name": "stderr",
          "output_type": "stream",
          "text": [
            "\u001b[34m\u001b[1mONNX:\u001b[0m export success ✅ 9.7s, saved as 'yolov8m.onnx' (99.0 MB)\n",
            "\n",
            "Export complete (14.1s)\n",
            "Results saved to \u001b[1m/content\u001b[0m\n",
            "Predict:         yolo predict task=detect model=yolov8m.onnx imgsz=640  \n",
            "Validate:        yolo val task=detect model=yolov8m.onnx imgsz=640 data=coco.yaml  \n",
            "Visualize:       https://netron.app\n"
          ]
        },
        {
          "data": {
            "application/vnd.google.colaboratory.intrinsic+json": {
              "type": "string"
            },
            "text/plain": [
              "'yolov8m.onnx'"
            ]
          },
          "execution_count": 8,
          "metadata": {},
          "output_type": "execute_result"
        }
      ],
      "source": [
        "model.export(format=\"onnx\")"
      ]
    },
    {
      "cell_type": "code",
      "execution_count": 9,
      "metadata": {
        "colab": {
          "base_uri": "https://localhost:8080/"
        },
        "id": "IIYmO_QbVqT6",
        "outputId": "2db46779-8865-4454-bcef-19e670751fc7"
      },
      "outputs": [
        {
          "name": "stderr",
          "output_type": "stream",
          "text": [
            "WARNING ⚠️ Unable to automatically guess model task, assuming 'task=detect'. Explicitly define task for your model, i.e. 'task=detect', 'segment', 'classify', or 'pose'.\n"
          ]
        }
      ],
      "source": [
        "# Load a model\n",
        "onnx_model = YOLO(\"yolov8m.onnx\")  # load a pretrained model (recommended for training)"
      ]
    },
    {
      "cell_type": "code",
      "execution_count": 11,
      "metadata": {
        "colab": {
          "base_uri": "https://localhost:8080/"
        },
        "id": "F4orp1ggK3bs",
        "outputId": "f437ca41-6ca6-4ca2-c10d-ae44f04c3eca"
      },
      "outputs": [
        {
          "name": "stderr",
          "output_type": "stream",
          "text": [
            "Ultralytics YOLOv8.0.198 🚀 Python-3.10.12 torch-2.0.1+cu118 CUDA:0 (Tesla T4, 15102MiB)\n",
            "Loading yolov8m.onnx for ONNX Runtime inference...\n",
            "\u001b[31m\u001b[1mrequirements:\u001b[0m Ultralytics requirement ['onnxruntime'] not found, attempting AutoUpdate...\n",
            "Collecting onnxruntime\n",
            "  Downloading onnxruntime-1.16.1-cp310-cp310-manylinux_2_17_x86_64.manylinux2014_x86_64.whl (6.2 MB)\n",
            "     ━━━━━━━━━━━━━━━━━━━━━━━━━━━━━━━━━━━━━━━━ 6.2/6.2 MB 24.1 MB/s eta 0:00:00\n",
            "Collecting coloredlogs (from onnxruntime)\n",
            "  Downloading coloredlogs-15.0.1-py2.py3-none-any.whl (46 kB)\n",
            "     ━━━━━━━━━━━━━━━━━━━━━━━━━━━━━━━━━━━━━━━━ 46.0/46.0 kB 155.8 MB/s eta 0:00:00\n",
            "Requirement already satisfied: flatbuffers in /usr/local/lib/python3.10/dist-packages (from onnxruntime) (23.5.26)\n",
            "Requirement already satisfied: numpy>=1.21.6 in /usr/local/lib/python3.10/dist-packages (from onnxruntime) (1.23.5)\n",
            "Requirement already satisfied: packaging in /usr/local/lib/python3.10/dist-packages (from onnxruntime) (23.2)\n",
            "Requirement already satisfied: protobuf in /usr/local/lib/python3.10/dist-packages (from onnxruntime) (3.20.3)\n",
            "Requirement already satisfied: sympy in /usr/local/lib/python3.10/dist-packages (from onnxruntime) (1.12)\n",
            "Collecting humanfriendly>=9.1 (from coloredlogs->onnxruntime)\n",
            "  Downloading humanfriendly-10.0-py2.py3-none-any.whl (86 kB)\n",
            "     ━━━━━━━━━━━━━━━━━━━━━━━━━━━━━━━━━━━━━━━━ 86.8/86.8 kB 146.4 MB/s eta 0:00:00\n",
            "Requirement already satisfied: mpmath>=0.19 in /usr/local/lib/python3.10/dist-packages (from sympy->onnxruntime) (1.3.0)\n",
            "Installing collected packages: humanfriendly, coloredlogs, onnxruntime\n",
            "Successfully installed coloredlogs-15.0.1 humanfriendly-10.0 onnxruntime-1.16.1\n",
            "\n",
            "\u001b[31m\u001b[1mrequirements:\u001b[0m AutoUpdate success ✅ 23.6s, installed 1 package: ['onnxruntime']\n",
            "\u001b[31m\u001b[1mrequirements:\u001b[0m ⚠️ \u001b[1mRestart runtime or rerun command for updates to take effect\u001b[0m\n",
            "\n",
            "Forcing batch=1 square inference (1,3,640,640) for non-PyTorch models\n",
            "\u001b[34m\u001b[1mval: \u001b[0mScanning /content/datasets/coco/labels/val2017.cache... 4952 images, 48 backgrounds, 0 corrupt: 100%|██████████| 5000/5000 [00:00<?, ?it/s]\n",
            "                 Class     Images  Instances      Box(P          R      mAP50  mAP50-95): 100%|██████████| 5000/5000 [1:20:51<00:00,  1.03it/s]\n",
            "                   all       5000      36335      0.714      0.611      0.666        0.5\n",
            "                person       5000      10777      0.818      0.743      0.826      0.615\n",
            "               bicycle       5000        314      0.762      0.542      0.636      0.409\n",
            "                   car       5000       1918      0.766      0.638      0.712      0.496\n",
            "            motorcycle       5000        367      0.829      0.687      0.788       0.54\n",
            "              airplane       5000        143      0.846      0.881      0.931      0.774\n",
            "                   bus       5000        283      0.855      0.788      0.867      0.748\n",
            "                 train       5000        190      0.868      0.874      0.935      0.768\n",
            "                 truck       5000        414      0.653      0.522      0.606      0.441\n",
            "                  boat       5000        424      0.728      0.474      0.574      0.333\n",
            "         traffic light       5000        634       0.72      0.491      0.566      0.318\n",
            "          fire hydrant       5000        101      0.915       0.85      0.901      0.743\n",
            "             stop sign       5000         75      0.794       0.72      0.786      0.712\n",
            "         parking meter       5000         60      0.762      0.617       0.68      0.534\n",
            "                 bench       5000        411      0.645      0.406      0.455      0.327\n",
            "                  bird       5000        427      0.706      0.495      0.575      0.401\n",
            "                   cat       5000        202      0.872      0.896      0.932      0.783\n",
            "                   dog       5000        218      0.835       0.81      0.841      0.731\n",
            "                 horse       5000        272      0.844      0.798      0.894      0.704\n",
            "                 sheep       5000        354      0.743      0.788      0.812      0.625\n",
            "                   cow       5000        372      0.856      0.755      0.848       0.66\n",
            "              elephant       5000        252      0.785      0.897       0.88      0.727\n",
            "                  bear       5000         71      0.914      0.899      0.932      0.801\n",
            "                 zebra       5000        266      0.854      0.861      0.927      0.762\n",
            "               giraffe       5000        232      0.922      0.914      0.948      0.779\n",
            "              backpack       5000        371       0.57       0.28      0.356      0.208\n",
            "              umbrella       5000        407      0.696      0.641      0.698      0.497\n",
            "               handbag       5000        540      0.585      0.289      0.355      0.212\n",
            "                   tie       5000        252      0.776      0.535      0.607      0.413\n",
            "              suitcase       5000        299      0.705      0.595      0.706      0.505\n",
            "               frisbee       5000        115       0.82      0.833       0.87      0.702\n",
            "                  skis       5000        241      0.684      0.477      0.531      0.322\n",
            "             snowboard       5000         69      0.683      0.493      0.557      0.436\n",
            "           sports ball       5000        260      0.828      0.588      0.669      0.478\n",
            "                  kite       5000        327      0.665      0.606      0.667      0.487\n",
            "          baseball bat       5000        145      0.695      0.607      0.677      0.447\n",
            "        baseball glove       5000        148      0.726      0.601      0.687      0.441\n",
            "            skateboard       5000        179      0.837      0.799      0.824      0.619\n",
            "             surfboard       5000        267      0.804      0.603      0.699      0.463\n",
            "         tennis racket       5000        225      0.879       0.84      0.883      0.639\n",
            "                bottle       5000       1013      0.706      0.558      0.632       0.45\n",
            "            wine glass       5000        341       0.75      0.538      0.643      0.437\n",
            "                   cup       5000        895      0.692      0.583      0.653      0.496\n",
            "                  fork       5000        215      0.691      0.595      0.655      0.488\n",
            "                 knife       5000        325      0.606      0.342      0.418      0.274\n",
            "                 spoon       5000        253      0.566      0.372      0.415      0.295\n",
            "                  bowl       5000        623      0.654      0.583      0.634      0.487\n",
            "                banana       5000        370      0.574      0.354      0.442      0.295\n",
            "                 apple       5000        236      0.459      0.297      0.319      0.231\n",
            "              sandwich       5000        177       0.61      0.554      0.594      0.471\n",
            "                orange       5000        285       0.53      0.414      0.452      0.356\n",
            "              broccoli       5000        312      0.583      0.401      0.466      0.274\n",
            "                carrot       5000        365      0.465      0.381       0.38      0.251\n",
            "               hot dog       5000        125      0.709      0.504      0.559       0.43\n",
            "                 pizza       5000        284      0.766      0.746       0.78      0.616\n",
            "                 donut       5000        328      0.675      0.585      0.651      0.523\n",
            "                  cake       5000        310      0.686      0.568      0.636      0.433\n",
            "                 chair       5000       1771      0.662      0.478      0.563      0.385\n",
            "                 couch       5000        261      0.686      0.613      0.684      0.532\n",
            "          potted plant       5000        342      0.636      0.553      0.542      0.346\n",
            "                   bed       5000        163      0.664      0.644      0.718      0.528\n",
            "          dining table       5000        695      0.623      0.474      0.512      0.358\n",
            "                toilet       5000        179      0.784      0.793      0.859      0.716\n",
            "                    tv       5000        288       0.77      0.757      0.803      0.638\n",
            "                laptop       5000        231      0.751      0.766       0.82      0.712\n",
            "                 mouse       5000        106      0.842      0.811      0.853      0.668\n",
            "                remote       5000        283      0.695      0.534      0.592       0.39\n",
            "              keyboard       5000        153      0.688      0.663      0.754      0.587\n",
            "            cell phone       5000        262       0.67      0.573      0.609      0.433\n",
            "             microwave       5000         55      0.735      0.836      0.825      0.693\n",
            "                  oven       5000        143      0.615      0.559      0.606      0.444\n",
            "               toaster       5000          9      0.553      0.778       0.68      0.475\n",
            "                  sink       5000        225      0.677      0.609      0.643      0.441\n",
            "          refrigerator       5000        126      0.743      0.754      0.813      0.701\n",
            "                  book       5000       1129      0.579      0.182      0.301      0.172\n",
            "                 clock       5000        267      0.772       0.73      0.769      0.561\n",
            "                  vase       5000        274      0.648      0.606      0.626      0.452\n",
            "              scissors       5000         36      0.721      0.417      0.439      0.374\n",
            "            teddy bear       5000        190      0.747      0.679      0.743      0.586\n",
            "            hair drier       5000         11      0.317     0.0909       0.07     0.0473\n",
            "            toothbrush       5000         57      0.572      0.474      0.475      0.351\n",
            "Speed: 1.5ms preprocess, 948.2ms inference, 0.0ms loss, 2.3ms postprocess per image\n",
            "Saving runs/detect/val3/predictions.json...\n",
            "\n",
            "Evaluating pycocotools mAP using runs/detect/val3/predictions.json and /content/datasets/coco/annotations/instances_val2017.json...\n"
          ]
        },
        {
          "name": "stdout",
          "output_type": "stream",
          "text": [
            "loading annotations into memory...\n",
            "Done (t=0.47s)\n",
            "creating index...\n",
            "index created!\n",
            "Loading and preparing results...\n",
            "DONE (t=6.62s)\n",
            "creating index...\n",
            "index created!\n",
            "Running per image evaluation...\n",
            "Evaluate annotation type *bbox*\n",
            "DONE (t=62.35s).\n",
            "Accumulating evaluation results...\n",
            "DONE (t=14.34s).\n",
            " Average Precision  (AP) @[ IoU=0.50:0.95 | area=   all | maxDets=100 ] = 0.502\n",
            " Average Precision  (AP) @[ IoU=0.50      | area=   all | maxDets=100 ] = 0.671\n",
            " Average Precision  (AP) @[ IoU=0.75      | area=   all | maxDets=100 ] = 0.547\n",
            " Average Precision  (AP) @[ IoU=0.50:0.95 | area= small | maxDets=100 ] = 0.324\n",
            " Average Precision  (AP) @[ IoU=0.50:0.95 | area=medium | maxDets=100 ] = 0.557\n",
            " Average Precision  (AP) @[ IoU=0.50:0.95 | area= large | maxDets=100 ] = 0.665\n",
            " Average Recall     (AR) @[ IoU=0.50:0.95 | area=   all | maxDets=  1 ] = 0.383\n",
            " Average Recall     (AR) @[ IoU=0.50:0.95 | area=   all | maxDets= 10 ] = 0.636\n",
            " Average Recall     (AR) @[ IoU=0.50:0.95 | area=   all | maxDets=100 ] = 0.686\n",
            " Average Recall     (AR) @[ IoU=0.50:0.95 | area= small | maxDets=100 ] = 0.518\n",
            " Average Recall     (AR) @[ IoU=0.50:0.95 | area=medium | maxDets=100 ] = 0.748\n",
            " Average Recall     (AR) @[ IoU=0.50:0.95 | area= large | maxDets=100 ] = 0.832\n"
          ]
        },
        {
          "name": "stderr",
          "output_type": "stream",
          "text": [
            "Results saved to \u001b[1mruns/detect/val3\u001b[0m\n"
          ]
        }
      ],
      "source": [
        "metrics = onnx_model.val(data='coco.yaml')"
      ]
    },
    {
      "cell_type": "code",
      "execution_count": 12,
      "metadata": {
        "colab": {
          "base_uri": "https://localhost:8080/"
        },
        "id": "FEOP2kZeK4Fq",
        "outputId": "1a4a138e-c8a4-4c88-e29e-bb8c95fa6a1f"
      },
      "outputs": [
        {
          "name": "stdout",
          "output_type": "stream",
          "text": [
            "box map50-95 0.5\n",
            "box map50 0.666\n",
            "box map75 0.545\n"
          ]
        }
      ],
      "source": [
        "print(f'box map50-95 {metrics.box.map:.3}')\n",
        "print(f'box map50 {metrics.box.map50:.3}')\n",
        "print(f'box map75 {metrics.box.map75:.3}')"
      ]
    },
    {
      "cell_type": "code",
      "execution_count": 13,
      "metadata": {
        "colab": {
          "base_uri": "https://localhost:8080/"
        },
        "id": "_w0-s3p4LGp8",
        "outputId": "d15773f4-9786-442b-f1b3-81b2257a41d2"
      },
      "outputs": [
        {
          "data": {
            "text/plain": [
              "98.9661512374878"
            ]
          },
          "execution_count": 13,
          "metadata": {},
          "output_type": "execute_result"
        }
      ],
      "source": [
        "import os\n",
        "\n",
        "os.path.getsize('yolov8m.onnx') / 1024**2"
      ]
    },
    {
      "cell_type": "markdown",
      "metadata": {
        "id": "YPaKak8jLu8S"
      },
      "source": [
        "## OpenVino"
      ]
    },
    {
      "cell_type": "code",
      "execution_count": 14,
      "metadata": {
        "colab": {
          "base_uri": "https://localhost:8080/",
          "height": 1000
        },
        "id": "EB8Z6FLOLu8Z",
        "outputId": "a95b019c-ecd2-482f-fb68-69759ca298bf"
      },
      "outputs": [
        {
          "name": "stderr",
          "output_type": "stream",
          "text": [
            "Ultralytics YOLOv8.0.198 🚀 Python-3.10.12 torch-2.0.1+cu118 CPU (Intel Xeon 2.00GHz)\n",
            "\n",
            "\u001b[34m\u001b[1mPyTorch:\u001b[0m starting from 'yolov8m.pt' with input shape (1, 3, 640, 640) BCHW and output shape(s) (1, 84, 8400) (49.7 MB)\n",
            "\n",
            "\u001b[34m\u001b[1mONNX:\u001b[0m starting export with onnx 1.14.1 opset 17...\n"
          ]
        },
        {
          "name": "stdout",
          "output_type": "stream",
          "text": [
            "============= Diagnostic Run torch.onnx.export version 2.0.1+cu118 =============\n",
            "verbose: False, log level: Level.ERROR\n",
            "======================= 0 NONE 0 NOTE 0 WARNING 0 ERROR ========================\n",
            "\n"
          ]
        },
        {
          "name": "stderr",
          "output_type": "stream",
          "text": [
            "\u001b[34m\u001b[1mONNX:\u001b[0m export success ✅ 2.8s, saved as 'yolov8m.onnx' (99.0 MB)\n",
            "\u001b[31m\u001b[1mrequirements:\u001b[0m Ultralytics requirement ['openvino-dev>=2023.0'] not found, attempting AutoUpdate...\n",
            "Collecting openvino-dev>=2023.0\n",
            "  Downloading openvino_dev-2023.1.0-12185-py3-none-any.whl (5.8 MB)\n",
            "     ━━━━━━━━━━━━━━━━━━━━━━━━━━━━━━━━━━━━━━━━ 5.8/5.8 MB 36.9 MB/s eta 0:00:00\n",
            "Collecting addict>=2.4.0 (from openvino-dev>=2023.0)\n",
            "  Downloading addict-2.4.0-py3-none-any.whl (3.8 kB)\n",
            "Requirement already satisfied: defusedxml>=0.7.1 in /usr/local/lib/python3.10/dist-packages (from openvino-dev>=2023.0) (0.7.1)\n",
            "Collecting jstyleson>=0.0.2 (from openvino-dev>=2023.0)\n",
            "  Downloading jstyleson-0.0.2.tar.gz (2.0 kB)\n",
            "  Preparing metadata (setup.py): started\n",
            "  Preparing metadata (setup.py): finished with status 'done'\n",
            "Requirement already satisfied: networkx<=3.1 in /usr/local/lib/python3.10/dist-packages (from openvino-dev>=2023.0) (3.1)\n",
            "Requirement already satisfied: numpy>=1.16.6 in /usr/local/lib/python3.10/dist-packages (from openvino-dev>=2023.0) (1.23.5)\n",
            "Requirement already satisfied: opencv-python in /usr/local/lib/python3.10/dist-packages (from openvino-dev>=2023.0) (4.8.0.76)\n",
            "Collecting openvino-telemetry>=2022.1.0 (from openvino-dev>=2023.0)\n",
            "  Downloading openvino_telemetry-2023.2.0-py3-none-any.whl (22 kB)\n",
            "Requirement already satisfied: pillow>=8.1.2 in /usr/local/lib/python3.10/dist-packages (from openvino-dev>=2023.0) (9.4.0)\n",
            "Requirement already satisfied: pyyaml>=5.4.1 in /usr/local/lib/python3.10/dist-packages (from openvino-dev>=2023.0) (6.0.1)\n",
            "Requirement already satisfied: requests>=2.25.1 in /usr/local/lib/python3.10/dist-packages (from openvino-dev>=2023.0) (2.31.0)\n",
            "Collecting texttable>=1.6.3 (from openvino-dev>=2023.0)\n",
            "  Downloading texttable-1.7.0-py2.py3-none-any.whl (10 kB)\n",
            "Requirement already satisfied: tqdm>=4.54.1 in /usr/local/lib/python3.10/dist-packages (from openvino-dev>=2023.0) (4.66.1)\n",
            "Collecting openvino==2023.1.0 (from openvino-dev>=2023.0)\n",
            "  Downloading openvino-2023.1.0-12185-cp310-cp310-manylinux2014_x86_64.whl (35.2 MB)\n",
            "     ━━━━━━━━━━━━━━━━━━━━━━━━━━━━━━━━━━━━━━━━ 35.2/35.2 MB 5.3 MB/s eta 0:00:00\n",
            "Collecting scipy<1.11,>=1.8 (from openvino-dev>=2023.0)\n",
            "  Downloading scipy-1.10.1-cp310-cp310-manylinux_2_17_x86_64.manylinux2014_x86_64.whl (34.4 MB)\n",
            "     ━━━━━━━━━━━━━━━━━━━━━━━━━━━━━━━━━━━━━━━━ 34.4/34.4 MB 50.7 MB/s eta 0:00:00\n",
            "Requirement already satisfied: charset-normalizer<4,>=2 in /usr/local/lib/python3.10/dist-packages (from requests>=2.25.1->openvino-dev>=2023.0) (3.3.0)\n",
            "Requirement already satisfied: idna<4,>=2.5 in /usr/local/lib/python3.10/dist-packages (from requests>=2.25.1->openvino-dev>=2023.0) (3.4)\n",
            "Requirement already satisfied: urllib3<3,>=1.21.1 in /usr/local/lib/python3.10/dist-packages (from requests>=2.25.1->openvino-dev>=2023.0) (2.0.6)\n",
            "Requirement already satisfied: certifi>=2017.4.17 in /usr/local/lib/python3.10/dist-packages (from requests>=2.25.1->openvino-dev>=2023.0) (2023.7.22)\n",
            "Building wheels for collected packages: jstyleson\n",
            "  Building wheel for jstyleson (setup.py): started\n",
            "  Building wheel for jstyleson (setup.py): finished with status 'done'\n",
            "  Created wheel for jstyleson: filename=jstyleson-0.0.2-py3-none-any.whl size=2384 sha256=ef8c69df2c102694022a1228a584d947ddf85f07ea15e9caf14b5c7dcab2f095\n",
            "  Stored in directory: /tmp/pip-ephem-wheel-cache-s_foognp/wheels/12/51/c6/a1e751db88203e11c6d9ffe4683ca3d8c14b1479639bec1006\n",
            "Successfully built jstyleson\n",
            "Installing collected packages: texttable, openvino-telemetry, jstyleson, addict, scipy, openvino, openvino-dev\n",
            "  Attempting uninstall: scipy\n",
            "    Found existing installation: scipy 1.11.3\n",
            "    Uninstalling scipy-1.11.3:\n",
            "      Successfully uninstalled scipy-1.11.3\n",
            "Successfully installed addict-2.4.0 jstyleson-0.0.2 openvino-2023.1.0 openvino-dev-2023.1.0 openvino-telemetry-2023.2.0 scipy-1.10.1 texttable-1.7.0\n",
            "\n",
            "\u001b[31m\u001b[1mrequirements:\u001b[0m AutoUpdate success ✅ 25.9s, installed 1 package: ['openvino-dev>=2023.0']\n",
            "\u001b[31m\u001b[1mrequirements:\u001b[0m ⚠️ \u001b[1mRestart runtime or rerun command for updates to take effect\u001b[0m\n",
            "\n",
            "\n",
            "\u001b[34m\u001b[1mOpenVINO:\u001b[0m starting export with openvino 2023.1.0-12185-9e6b00e51cd-releases/2023/1...\n",
            "\u001b[34m\u001b[1mOpenVINO:\u001b[0m export success ✅ 27.7s, saved as 'yolov8m_openvino_model/' (99.1 MB)\n",
            "\n",
            "Export complete (34.7s)\n",
            "Results saved to \u001b[1m/content\u001b[0m\n",
            "Predict:         yolo predict task=detect model=yolov8m_openvino_model imgsz=640  \n",
            "Validate:        yolo val task=detect model=yolov8m_openvino_model imgsz=640 data=coco.yaml  \n",
            "Visualize:       https://netron.app\n"
          ]
        },
        {
          "data": {
            "application/vnd.google.colaboratory.intrinsic+json": {
              "type": "string"
            },
            "text/plain": [
              "'yolov8m_openvino_model'"
            ]
          },
          "execution_count": 14,
          "metadata": {},
          "output_type": "execute_result"
        }
      ],
      "source": [
        "model.export(format=\"openvino\")"
      ]
    },
    {
      "cell_type": "code",
      "execution_count": 15,
      "metadata": {
        "colab": {
          "base_uri": "https://localhost:8080/"
        },
        "id": "trqmy_-0Lu8Z",
        "outputId": "2c479abe-1b3f-45d2-fbf3-d9546005cf13"
      },
      "outputs": [
        {
          "name": "stderr",
          "output_type": "stream",
          "text": [
            "WARNING ⚠️ Unable to automatically guess model task, assuming 'task=detect'. Explicitly define task for your model, i.e. 'task=detect', 'segment', 'classify', or 'pose'.\n"
          ]
        }
      ],
      "source": [
        "# Load a model\n",
        "openvino_model = YOLO(\"yolov8m_openvino_model\")  # load a pretrained model (recommended for training)"
      ]
    },
    {
      "cell_type": "code",
      "execution_count": 16,
      "metadata": {
        "colab": {
          "base_uri": "https://localhost:8080/"
        },
        "id": "N__m0MjeLu8Z",
        "outputId": "5f41c210-02f0-4805-fd6d-730c5d88a7df"
      },
      "outputs": [
        {
          "name": "stderr",
          "output_type": "stream",
          "text": [
            "Ultralytics YOLOv8.0.198 🚀 Python-3.10.12 torch-2.0.1+cu118 CUDA:0 (Tesla T4, 15102MiB)\n",
            "Loading yolov8m_openvino_model for OpenVINO inference...\n",
            "Forcing batch=1 square inference (1,3,640,640) for non-PyTorch models\n",
            "\u001b[34m\u001b[1mval: \u001b[0mScanning /content/datasets/coco/labels/val2017.cache... 4952 images, 48 backgrounds, 0 corrupt: 100%|██████████| 5000/5000 [00:00<?, ?it/s]\n",
            "                 Class     Images  Instances      Box(P          R      mAP50  mAP50-95): 100%|██████████| 5000/5000 [1:10:42<00:00,  1.18it/s]\n",
            "                   all       5000      36335      0.714      0.611      0.666        0.5\n",
            "                person       5000      10777      0.818      0.743      0.826      0.615\n",
            "               bicycle       5000        314      0.762      0.542      0.636      0.409\n",
            "                   car       5000       1918      0.766      0.638      0.712      0.496\n",
            "            motorcycle       5000        367      0.829      0.687      0.788       0.54\n",
            "              airplane       5000        143      0.846      0.881      0.931      0.774\n",
            "                   bus       5000        283      0.855      0.788      0.867      0.748\n",
            "                 train       5000        190      0.868      0.874      0.935      0.768\n",
            "                 truck       5000        414      0.653      0.522      0.606      0.441\n",
            "                  boat       5000        424      0.728      0.474      0.574      0.333\n",
            "         traffic light       5000        634       0.72      0.491      0.566      0.318\n",
            "          fire hydrant       5000        101      0.915       0.85      0.901      0.743\n",
            "             stop sign       5000         75      0.794       0.72      0.786      0.712\n",
            "         parking meter       5000         60      0.762      0.617       0.68      0.534\n",
            "                 bench       5000        411      0.645      0.406      0.455      0.327\n",
            "                  bird       5000        427      0.706      0.495      0.575      0.401\n",
            "                   cat       5000        202      0.872      0.896      0.932      0.783\n",
            "                   dog       5000        218      0.835       0.81      0.841      0.731\n",
            "                 horse       5000        272      0.844      0.798      0.894      0.704\n",
            "                 sheep       5000        354      0.743      0.788      0.812      0.625\n",
            "                   cow       5000        372      0.856      0.755      0.848       0.66\n",
            "              elephant       5000        252      0.785      0.897       0.88      0.727\n",
            "                  bear       5000         71      0.914      0.899      0.932      0.801\n",
            "                 zebra       5000        266      0.854      0.861      0.927      0.762\n",
            "               giraffe       5000        232      0.922      0.914      0.948      0.779\n",
            "              backpack       5000        371       0.57       0.28      0.356      0.208\n",
            "              umbrella       5000        407      0.696      0.641      0.698      0.497\n",
            "               handbag       5000        540      0.585      0.289      0.355      0.212\n",
            "                   tie       5000        252      0.776      0.535      0.607      0.413\n",
            "              suitcase       5000        299      0.705      0.595      0.706      0.505\n",
            "               frisbee       5000        115       0.82      0.833       0.87      0.702\n",
            "                  skis       5000        241      0.684      0.477      0.531      0.322\n",
            "             snowboard       5000         69      0.683      0.493      0.557      0.436\n",
            "           sports ball       5000        260      0.828      0.588      0.669      0.478\n",
            "                  kite       5000        327      0.665      0.606      0.667      0.487\n",
            "          baseball bat       5000        145      0.695      0.607      0.677      0.447\n",
            "        baseball glove       5000        148      0.726      0.601      0.687      0.441\n",
            "            skateboard       5000        179      0.837      0.799      0.824      0.619\n",
            "             surfboard       5000        267      0.804      0.603      0.699      0.463\n",
            "         tennis racket       5000        225      0.879       0.84      0.883      0.639\n",
            "                bottle       5000       1013      0.706      0.558      0.632       0.45\n",
            "            wine glass       5000        341       0.75      0.538      0.643      0.437\n",
            "                   cup       5000        895      0.692      0.583      0.653      0.496\n",
            "                  fork       5000        215      0.691      0.595      0.655      0.488\n",
            "                 knife       5000        325      0.606      0.342      0.418      0.274\n",
            "                 spoon       5000        253      0.566      0.372      0.415      0.295\n",
            "                  bowl       5000        623      0.654      0.583      0.634      0.487\n",
            "                banana       5000        370      0.574      0.354      0.442      0.295\n",
            "                 apple       5000        236      0.459      0.297      0.319      0.231\n",
            "              sandwich       5000        177       0.61      0.554      0.594      0.471\n",
            "                orange       5000        285       0.53      0.414      0.452      0.356\n",
            "              broccoli       5000        312      0.583      0.401      0.466      0.274\n",
            "                carrot       5000        365      0.465      0.381       0.38      0.251\n",
            "               hot dog       5000        125      0.709      0.504      0.559       0.43\n",
            "                 pizza       5000        284      0.766      0.746       0.78      0.616\n",
            "                 donut       5000        328      0.675      0.585      0.651      0.523\n",
            "                  cake       5000        310      0.686      0.568      0.636      0.433\n",
            "                 chair       5000       1771      0.662      0.478      0.563      0.385\n",
            "                 couch       5000        261      0.686      0.613      0.684      0.532\n",
            "          potted plant       5000        342      0.636      0.553      0.542      0.346\n",
            "                   bed       5000        163      0.664      0.644      0.718      0.528\n",
            "          dining table       5000        695      0.623      0.474      0.512      0.358\n",
            "                toilet       5000        179      0.784      0.793      0.859      0.716\n",
            "                    tv       5000        288       0.77      0.757      0.803      0.638\n",
            "                laptop       5000        231      0.751      0.766       0.82      0.712\n",
            "                 mouse       5000        106      0.842      0.811      0.853      0.668\n",
            "                remote       5000        283      0.695      0.534      0.592       0.39\n",
            "              keyboard       5000        153      0.688      0.663      0.754      0.587\n",
            "            cell phone       5000        262       0.67      0.573      0.609      0.433\n",
            "             microwave       5000         55      0.735      0.836      0.825      0.693\n",
            "                  oven       5000        143      0.615      0.559      0.606      0.444\n",
            "               toaster       5000          9      0.553      0.778       0.68      0.475\n",
            "                  sink       5000        225      0.677      0.609      0.643      0.441\n",
            "          refrigerator       5000        126      0.743      0.754      0.813      0.701\n",
            "                  book       5000       1129      0.579      0.182      0.301      0.172\n",
            "                 clock       5000        267      0.772       0.73      0.769      0.561\n",
            "                  vase       5000        274      0.648      0.606      0.626      0.452\n",
            "              scissors       5000         36      0.721      0.417      0.439      0.374\n",
            "            teddy bear       5000        190      0.747      0.679      0.743      0.586\n",
            "            hair drier       5000         11      0.317     0.0909       0.07     0.0473\n",
            "            toothbrush       5000         57      0.572      0.474      0.475      0.351\n",
            "Speed: 1.5ms preprocess, 825.3ms inference, 0.0ms loss, 2.4ms postprocess per image\n",
            "Saving runs/detect/val4/predictions.json...\n",
            "\n",
            "Evaluating pycocotools mAP using runs/detect/val4/predictions.json and /content/datasets/coco/annotations/instances_val2017.json...\n"
          ]
        },
        {
          "name": "stdout",
          "output_type": "stream",
          "text": [
            "loading annotations into memory...\n",
            "Done (t=0.58s)\n",
            "creating index...\n",
            "index created!\n",
            "Loading and preparing results...\n",
            "DONE (t=6.70s)\n",
            "creating index...\n",
            "index created!\n",
            "Running per image evaluation...\n",
            "Evaluate annotation type *bbox*\n",
            "DONE (t=67.50s).\n",
            "Accumulating evaluation results...\n",
            "DONE (t=16.47s).\n",
            " Average Precision  (AP) @[ IoU=0.50:0.95 | area=   all | maxDets=100 ] = 0.502\n",
            " Average Precision  (AP) @[ IoU=0.50      | area=   all | maxDets=100 ] = 0.671\n",
            " Average Precision  (AP) @[ IoU=0.75      | area=   all | maxDets=100 ] = 0.547\n",
            " Average Precision  (AP) @[ IoU=0.50:0.95 | area= small | maxDets=100 ] = 0.324\n",
            " Average Precision  (AP) @[ IoU=0.50:0.95 | area=medium | maxDets=100 ] = 0.557\n",
            " Average Precision  (AP) @[ IoU=0.50:0.95 | area= large | maxDets=100 ] = 0.665\n",
            " Average Recall     (AR) @[ IoU=0.50:0.95 | area=   all | maxDets=  1 ] = 0.383\n",
            " Average Recall     (AR) @[ IoU=0.50:0.95 | area=   all | maxDets= 10 ] = 0.636\n",
            " Average Recall     (AR) @[ IoU=0.50:0.95 | area=   all | maxDets=100 ] = 0.686\n",
            " Average Recall     (AR) @[ IoU=0.50:0.95 | area= small | maxDets=100 ] = 0.518\n",
            " Average Recall     (AR) @[ IoU=0.50:0.95 | area=medium | maxDets=100 ] = 0.748\n",
            " Average Recall     (AR) @[ IoU=0.50:0.95 | area= large | maxDets=100 ] = 0.832\n"
          ]
        },
        {
          "name": "stderr",
          "output_type": "stream",
          "text": [
            "Results saved to \u001b[1mruns/detect/val4\u001b[0m\n"
          ]
        }
      ],
      "source": [
        "metrics = openvino_model.val(data='coco.yaml')"
      ]
    },
    {
      "cell_type": "code",
      "execution_count": 17,
      "metadata": {
        "colab": {
          "base_uri": "https://localhost:8080/"
        },
        "id": "aOioI6RkLu8a",
        "outputId": "1b43f5af-7fc2-4dae-b1a6-3d90c67e7ec2"
      },
      "outputs": [
        {
          "name": "stdout",
          "output_type": "stream",
          "text": [
            "box map50-95 0.5\n",
            "box map50 0.666\n",
            "box map75 0.545\n"
          ]
        }
      ],
      "source": [
        "print(f'box map50-95 {metrics.box.map:.3}')\n",
        "print(f'box map50 {metrics.box.map50:.3}')\n",
        "print(f'box map75 {metrics.box.map75:.3}')"
      ]
    },
    {
      "cell_type": "code",
      "execution_count": 18,
      "metadata": {
        "colab": {
          "base_uri": "https://localhost:8080/"
        },
        "id": "VVuIQ1Q9Lu8a",
        "outputId": "ad2a2a76-d716-4264-9dd1-1181cb72c4a3"
      },
      "outputs": [
        {
          "data": {
            "text/plain": [
              "98.84394836425781"
            ]
          },
          "execution_count": 18,
          "metadata": {},
          "output_type": "execute_result"
        }
      ],
      "source": [
        "import os\n",
        "\n",
        "os.path.getsize('/content/yolov8m_openvino_model/yolov8m.bin') / 1024**2"
      ]
    },
    {
      "cell_type": "code",
      "execution_count": null,
      "metadata": {
        "id": "jhVNMaG2NXEG"
      },
      "outputs": [],
      "source": []
    }
  ],
  "metadata": {
    "accelerator": "GPU",
    "colab": {
      "gpuType": "T4",
      "provenance": []
    },
    "kernelspec": {
      "display_name": "Python 3",
      "name": "python3"
    },
    "language_info": {
      "name": "python"
    }
  },
  "nbformat": 4,
  "nbformat_minor": 0
}
