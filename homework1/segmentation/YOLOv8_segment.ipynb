{
  "cells": [
    {
      "cell_type": "markdown",
      "metadata": {
        "id": "t6MPjfT5NrKQ"
      },
      "source": [
        "<div align=\"center\">\n",
        "\n",
        "  <a href=\"https://ultralytics.com/yolov8\" target=\"_blank\">\n",
        "    <img width=\"1024\", src=\"https://raw.githubusercontent.com/ultralytics/assets/main/yolov8/banner-yolov8.png\"></a>\n",
        "\n",
        "\n",
        "<br>\n",
        "  <a href=\"https://console.paperspace.com/github/ultralytics/ultralytics\"><img src=\"https://assets.paperspace.io/img/gradient-badge.svg\" alt=\"Run on Gradient\"/></a>\n",
        "  <a href=\"https://colab.research.google.com/github/ultralytics/ultralytics/blob/main/examples/tutorial.ipynb\"><img src=\"https://colab.research.google.com/assets/colab-badge.svg\" alt=\"Open In Colab\"></a>\n",
        "  <a href=\"https://www.kaggle.com/ultralytics/yolov8\"><img src=\"https://kaggle.com/static/images/open-in-kaggle.svg\" alt=\"Open In Kaggle\"></a>\n",
        "<br>\n",
        "\n",
        "Welcome to the Ultralytics YOLOv8 🚀 notebook! <a href=\"https://github.com/ultralytics/ultralytics\">YOLOv8</a> is the latest version of the YOLO (You Only Look Once) object detection and image segmentation model developed by <a href=\"https://ultralytics.com\">Ultralytics</a>. This notebook serves as the starting point for exploring the various resources available to help you get started with YOLOv8 and understand its features and capabilities.\n",
        "\n",
        "The YOLOv8 models are designed to be fast, accurate, and easy to use, making them an excellent choice for a wide range of object detection and image segmentation tasks. They can be trained on large datasets and are capable of running on a variety of hardware platforms, from CPUs to GPUs.\n",
        "\n",
        "Whether you are a seasoned machine learning practitioner or new to the field, we hope that the resources in this notebook will help you get the most out of YOLOv8. Please feel free to browse the <a href=\"https://docs.ultralytics.com/\">YOLOv8 Docs</a> and reach out to us with any questions or feedback.\n",
        "\n",
        "</div>"
      ]
    },
    {
      "cell_type": "markdown",
      "metadata": {
        "id": "7mGmQbAO5pQb"
      },
      "source": [
        "# Setup\n",
        "\n",
        "Pip install `ultralytics` and [dependencies](https://github.com/ultralytics/ultralytics/blob/main/requirements.txt) and check PyTorch and GPU."
      ]
    },
    {
      "cell_type": "code",
      "execution_count": 1,
      "metadata": {
        "colab": {
          "base_uri": "https://localhost:8080/",
          "height": 1000
        },
        "id": "wbvMlHd_QwMG",
        "outputId": "5006941e-44ff-4e27-f53e-31bf87221334"
      },
      "outputs": [
        {
          "name": "stderr",
          "output_type": "stream",
          "text": [
            "Ultralytics YOLOv8.0.176 🚀 Python-3.10.11 torch-1.13.1+cu117 CUDA:0 (NVIDIA A10, 24074MiB)\n",
            "Setup complete ✅ (12 CPUs, 31.1 GB RAM, 853.9/913.8 GB disk)\n"
          ]
        }
      ],
      "source": [
        "import ultralytics\n",
        "ultralytics.checks()"
      ]
    },
    {
      "cell_type": "markdown",
      "metadata": {
        "id": "0eq1SMWl6Sfn"
      },
      "source": [
        "# 2. Val\n",
        "Validate a model's accuracy on the [COCO](https://cocodataset.org/#home) dataset's `val` or `test` splits. The latest YOLOv8 [models](https://github.com/ultralytics/ultralytics#models) are downloaded automatically the first time they are used."
      ]
    },
    {
      "cell_type": "code",
      "execution_count": 6,
      "metadata": {
        "colab": {
          "base_uri": "https://localhost:8080/"
        },
        "id": "X58w8JLpMnjH",
        "outputId": "3e8689b5-e6e6-4764-c1d9-2626f53355f2"
      },
      "outputs": [
        {
          "name": "stdout",
          "output_type": "stream",
          "text": [
            "Downloading https://github.com/ultralytics/assets/releases/download/v0.0.0/yolov8l-seg.pt to 'yolov8l-seg.pt'...\n",
            "100%|██████████████████████████████████████| 88.1M/88.1M [00:28<00:00, 3.25MB/s]\n",
            "Ultralytics YOLOv8.0.176 🚀 Python-3.10.11 torch-1.13.1+cu117 CUDA:0 (NVIDIA A10, 24074MiB)\n",
            "YOLOv8l-seg summary (fused): 295 layers, 45973568 parameters, 0 gradients\n",
            "\u001b[34m\u001b[1mval: \u001b[0mScanning /home/admin-gpu/Downloads/yolo_VIKA/homework1_segmentation/dataset\u001b[0m\n",
            "                 Class     Images  Instances      Box(P          R      mAP50  m\n",
            "                   all       5000      36335      0.747      0.617      0.688      0.522       0.74        0.6      0.659      0.431\n",
            "                person       5000      10777      0.832      0.751      0.843      0.636      0.826      0.733      0.821      0.516\n",
            "               bicycle       5000        314      0.791      0.541      0.663       0.42      0.733      0.478      0.581       0.25\n",
            "                   car       5000       1918      0.771      0.661      0.734      0.522      0.756      0.635      0.692      0.403\n",
            "            motorcycle       5000        367       0.81      0.717      0.797      0.562      0.809        0.7      0.756      0.439\n",
            "              airplane       5000        143      0.889      0.892      0.942      0.785      0.883      0.881      0.895      0.619\n",
            "                   bus       5000        283      0.875      0.792      0.882      0.773      0.882      0.788      0.871      0.694\n",
            "                 train       5000        190      0.899      0.894      0.945      0.776      0.891      0.879      0.921      0.722\n",
            "                 truck       5000        414      0.675      0.522      0.632      0.463      0.677      0.502      0.579      0.383\n",
            "                  boat       5000        424      0.747      0.491      0.603      0.356      0.769      0.488      0.607      0.301\n",
            "         traffic light       5000        634      0.744      0.461      0.568      0.318      0.705      0.426      0.505       0.23\n",
            "          fire hydrant       5000        101      0.952      0.832      0.915      0.767      0.934      0.812      0.877      0.689\n",
            "             stop sign       5000         75       0.77      0.733      0.792      0.717      0.774      0.733      0.783      0.661\n",
            "         parking meter       5000         60      0.741      0.617      0.674      0.521      0.737        0.6      0.644      0.486\n",
            "                 bench       5000        411      0.689       0.42      0.486       0.36      0.666      0.401      0.436       0.25\n",
            "                  bird       5000        427      0.713      0.535      0.608      0.416      0.697      0.506      0.574      0.347\n",
            "                   cat       5000        202      0.893      0.916      0.943      0.804      0.895      0.911      0.948      0.758\n",
            "                   dog       5000        218      0.817      0.812      0.852      0.752      0.819      0.807      0.841      0.668\n",
            "                 horse       5000        272       0.87      0.831      0.907       0.72      0.872      0.831      0.892      0.547\n",
            "                 sheep       5000        354       0.76      0.791      0.829      0.636      0.764      0.777      0.807      0.544\n",
            "                   cow       5000        372      0.824      0.785      0.865      0.675       0.81      0.753      0.816      0.523\n",
            "              elephant       5000        252      0.836      0.889        0.9      0.756      0.842      0.893      0.904      0.665\n",
            "                  bear       5000         71      0.887      0.882      0.939      0.823      0.886      0.879      0.939      0.791\n",
            "                 zebra       5000        266      0.837      0.883      0.936      0.771      0.846      0.889      0.939       0.67\n",
            "               giraffe       5000        232      0.931      0.927      0.954      0.793      0.927      0.914      0.934      0.653\n",
            "              backpack       5000        371      0.591      0.318      0.402      0.236      0.614      0.322      0.387       0.21\n",
            "              umbrella       5000        407      0.695      0.656      0.706      0.519      0.733      0.676      0.732      0.501\n",
            "               handbag       5000        540      0.621      0.333       0.41      0.256      0.633      0.329       0.39      0.203\n",
            "                   tie       5000        252      0.803       0.55      0.651       0.46      0.788      0.532      0.633      0.384\n",
            "              suitcase       5000        299      0.721      0.659      0.733       0.53      0.733      0.666      0.714      0.486\n",
            "               frisbee       5000        115      0.859      0.878      0.901      0.736      0.853      0.861      0.878      0.643\n",
            "                  skis       5000        241      0.745      0.486      0.594      0.358      0.663      0.423      0.462      0.128\n",
            "             snowboard       5000         69      0.691      0.551      0.627       0.47      0.704      0.536      0.594       0.33\n",
            "           sports ball       5000        260      0.783      0.625      0.676      0.484      0.695      0.542      0.592      0.325\n",
            "                  kite       5000        327      0.695      0.578       0.67      0.476       0.65      0.523      0.596      0.317\n",
            "          baseball bat       5000        145      0.782      0.641      0.716      0.464      0.768      0.621      0.656      0.346\n",
            "        baseball glove       5000        148      0.828      0.655      0.735      0.465      0.822      0.642      0.711      0.422\n",
            "            skateboard       5000        179      0.867      0.832      0.842      0.654      0.871      0.832      0.832      0.456\n",
            "             surfboard       5000        267      0.808      0.648      0.734      0.507      0.805      0.637      0.719      0.417\n",
            "         tennis racket       5000        225      0.881      0.858       0.89      0.658      0.875      0.849      0.877      0.593\n",
            "                bottle       5000       1013      0.706      0.538       0.64      0.456      0.689      0.511      0.602      0.376\n",
            "            wine glass       5000        341      0.806      0.587      0.681      0.471      0.771      0.553      0.626      0.352\n",
            "                   cup       5000        895      0.714      0.555      0.665      0.513       0.71      0.544      0.632       0.43\n",
            "                  fork       5000        215      0.775       0.61      0.708      0.531      0.752      0.577      0.646      0.317\n",
            "                 knife       5000        325      0.658      0.382      0.467      0.316      0.605      0.335      0.415      0.218\n",
            "                 spoon       5000        253       0.56      0.383      0.418      0.292      0.574      0.375      0.399      0.202\n",
            "                  bowl       5000        623        0.7      0.594      0.664      0.522      0.676      0.557      0.612      0.385\n",
            "                banana       5000        370      0.579      0.331      0.431       0.29      0.605      0.339      0.431      0.245\n",
            "                 apple       5000        236      0.524      0.275      0.332      0.238      0.535      0.268      0.319      0.205\n",
            "              sandwich       5000        177      0.672      0.571      0.602      0.488      0.672      0.557      0.566      0.433\n",
            "                orange       5000        285      0.584      0.351      0.434      0.345      0.589      0.351      0.418      0.311\n",
            "              broccoli       5000        312      0.613      0.362      0.455      0.285      0.651       0.37       0.47      0.257\n",
            "                carrot       5000        365      0.562      0.303      0.386      0.255      0.551      0.282      0.352      0.207\n",
            "               hot dog       5000        125      0.779      0.504      0.604      0.484      0.733      0.456      0.522      0.367\n",
            "                 pizza       5000        284      0.775      0.725      0.787      0.629      0.775      0.722      0.763      0.568\n",
            "                 donut       5000        328      0.783      0.576      0.717       0.58      0.785      0.567      0.701      0.539\n",
            "                  cake       5000        310      0.689      0.571      0.663      0.477      0.699      0.568      0.659      0.451\n",
            "                 chair       5000       1771      0.715      0.496      0.606       0.42      0.696      0.471      0.545      0.273\n",
            "                 couch       5000        261       0.68      0.651      0.707      0.561      0.663      0.625      0.652      0.445\n",
            "          potted plant       5000        342      0.638      0.541       0.57      0.378      0.627      0.502      0.522      0.259\n",
            "                   bed       5000        163      0.686      0.669      0.742      0.561      0.665      0.626      0.656      0.439\n",
            "          dining table       5000        695      0.593      0.476       0.53      0.383      0.521      0.406      0.398      0.188\n",
            "                toilet       5000        179      0.815      0.827      0.874      0.727      0.822      0.821      0.864      0.655\n",
            "                    tv       5000        288      0.855      0.758      0.846      0.673      0.867      0.753      0.846       0.62\n",
            "                laptop       5000        231      0.839      0.788      0.858      0.755      0.795       0.74      0.772      0.522\n",
            "                 mouse       5000        106      0.817      0.774      0.852      0.665      0.819      0.764      0.849      0.591\n",
            "                remote       5000        283      0.718      0.548       0.65      0.449      0.735      0.551      0.642      0.333\n",
            "              keyboard       5000        153      0.765       0.68      0.778       0.62      0.771      0.661      0.772      0.578\n",
            "            cell phone       5000        262       0.69      0.607      0.665      0.476      0.674      0.584      0.622      0.406\n",
            "             microwave       5000         55       0.78      0.782      0.838      0.684      0.763      0.761      0.816      0.642\n",
            "                  oven       5000        143      0.668      0.538      0.621      0.456      0.679      0.538      0.595      0.384\n",
            "               toaster       5000          9      0.578      0.556      0.585      0.429      0.585      0.556      0.585      0.411\n",
            "                  sink       5000        225      0.718      0.622       0.68      0.473      0.751      0.636      0.699      0.424\n",
            "          refrigerator       5000        126      0.806      0.762      0.848      0.745      0.821      0.746      0.846      0.693\n",
            "                  book       5000       1129      0.608      0.171      0.316      0.181      0.559      0.148      0.269      0.124\n",
            "                 clock       5000        267      0.792       0.73       0.77      0.563      0.779      0.708      0.764      0.503\n",
            "                  vase       5000        274      0.679      0.565       0.63      0.459      0.669      0.547      0.604      0.396\n",
            "              scissors       5000         36       0.79      0.444      0.507       0.42      0.751      0.417      0.478      0.288\n",
            "            teddy bear       5000        190      0.818      0.705      0.768      0.622       0.81      0.694      0.752      0.554\n",
            "            hair drier       5000         11      0.652     0.0909      0.164      0.136      0.701     0.0909      0.167       0.09\n",
            "            toothbrush       5000         57       0.67      0.491      0.506      0.387      0.699      0.509      0.529      0.241\n",
            "Speed: 0.1ms preprocess, 9.1ms inference, 0.0ms loss, 0.3ms postprocess per image\n",
            "Results saved to \u001b[1mruns/segment/val\u001b[0m\n",
            "💡 Learn more at https://docs.ultralytics.com/modes/val\n"
          ]
        }
      ],
      "source": [
        "# Validate YOLOv8n on COCO8 val\n",
        "!yolo val model=yolov8l-seg.pt data=ms_coco_val_2017.yaml"
      ]
    },
    {
      "cell_type": "code",
      "execution_count": 8,
      "metadata": {},
      "outputs": [
        {
          "name": "stderr",
          "output_type": "stream",
          "text": [
            "Ultralytics YOLOv8.0.176 🚀 Python-3.10.11 torch-1.13.1+cu117 CUDA:0 (NVIDIA A10, 24074MiB)\n",
            "YOLOv8l-seg summary (fused): 295 layers, 45973568 parameters, 0 gradients\n",
            "\u001b[34m\u001b[1mval: \u001b[0mScanning /home/admin-gpu/Downloads/yolo_VIKA/homework1_segmentation/datasets/ms_coco_val_2017/val/labels.cache... 4952 images, 48 backgrounds, 0 corrupt: 100%|██████████| 5000/5000 [00:00<?, ?it/s]\n",
            "                 Class     Images  Instances      Box(P          R      mAP50  mAP50-95)     Mask(P          R      mAP50  mAP50-95): 100%|██████████| 313/313 [00:57<00:00,  5.48it/s]\n",
            "                   all       5000      36335      0.747      0.617      0.688      0.522       0.74        0.6      0.659      0.431\n",
            "                person       5000      10777      0.832      0.751      0.843      0.636      0.826      0.733      0.821      0.516\n",
            "               bicycle       5000        314      0.791      0.541      0.663       0.42      0.733      0.478      0.581       0.25\n",
            "                   car       5000       1918      0.771      0.661      0.734      0.522      0.756      0.635      0.692      0.403\n",
            "            motorcycle       5000        367       0.81      0.717      0.797      0.562      0.809        0.7      0.756      0.439\n",
            "              airplane       5000        143      0.889      0.892      0.942      0.785      0.883      0.881      0.895      0.619\n",
            "                   bus       5000        283      0.875      0.792      0.882      0.773      0.882      0.788      0.871      0.694\n",
            "                 train       5000        190      0.899      0.894      0.945      0.776      0.891      0.879      0.921      0.722\n",
            "                 truck       5000        414      0.675      0.522      0.632      0.463      0.677      0.502      0.579      0.383\n",
            "                  boat       5000        424      0.747      0.491      0.603      0.356      0.769      0.488      0.607      0.301\n",
            "         traffic light       5000        634      0.744      0.461      0.568      0.318      0.705      0.426      0.505       0.23\n",
            "          fire hydrant       5000        101      0.952      0.832      0.915      0.767      0.934      0.812      0.877      0.689\n",
            "             stop sign       5000         75       0.77      0.733      0.792      0.717      0.774      0.733      0.783      0.661\n",
            "         parking meter       5000         60      0.741      0.617      0.674      0.521      0.737        0.6      0.644      0.486\n",
            "                 bench       5000        411      0.689       0.42      0.486       0.36      0.666      0.401      0.436       0.25\n",
            "                  bird       5000        427      0.713      0.535      0.608      0.416      0.697      0.506      0.574      0.347\n",
            "                   cat       5000        202      0.893      0.916      0.943      0.804      0.895      0.911      0.948      0.758\n",
            "                   dog       5000        218      0.817      0.812      0.852      0.752      0.819      0.807      0.841      0.668\n",
            "                 horse       5000        272       0.87      0.831      0.907       0.72      0.872      0.831      0.892      0.547\n",
            "                 sheep       5000        354       0.76      0.791      0.829      0.636      0.764      0.777      0.807      0.544\n",
            "                   cow       5000        372      0.824      0.785      0.865      0.675       0.81      0.753      0.816      0.523\n",
            "              elephant       5000        252      0.836      0.889        0.9      0.756      0.842      0.893      0.904      0.665\n",
            "                  bear       5000         71      0.887      0.882      0.939      0.823      0.886      0.879      0.939      0.791\n",
            "                 zebra       5000        266      0.837      0.883      0.936      0.771      0.846      0.889      0.939       0.67\n",
            "               giraffe       5000        232      0.931      0.927      0.954      0.793      0.927      0.914      0.934      0.653\n",
            "              backpack       5000        371      0.591      0.318      0.402      0.236      0.614      0.322      0.387       0.21\n",
            "              umbrella       5000        407      0.695      0.656      0.706      0.519      0.733      0.676      0.732      0.501\n",
            "               handbag       5000        540      0.621      0.333       0.41      0.256      0.633      0.329       0.39      0.203\n",
            "                   tie       5000        252      0.803       0.55      0.651       0.46      0.788      0.532      0.633      0.384\n",
            "              suitcase       5000        299      0.721      0.659      0.733       0.53      0.733      0.666      0.714      0.486\n",
            "               frisbee       5000        115      0.859      0.878      0.901      0.736      0.853      0.861      0.878      0.643\n",
            "                  skis       5000        241      0.745      0.486      0.594      0.358      0.663      0.423      0.462      0.128\n",
            "             snowboard       5000         69      0.691      0.551      0.627       0.47      0.704      0.536      0.594       0.33\n",
            "           sports ball       5000        260      0.783      0.625      0.676      0.484      0.695      0.542      0.592      0.325\n",
            "                  kite       5000        327      0.695      0.578       0.67      0.476       0.65      0.523      0.596      0.317\n",
            "          baseball bat       5000        145      0.782      0.641      0.716      0.464      0.768      0.621      0.656      0.346\n",
            "        baseball glove       5000        148      0.828      0.655      0.735      0.465      0.822      0.642      0.711      0.422\n",
            "            skateboard       5000        179      0.867      0.832      0.842      0.654      0.871      0.832      0.832      0.456\n",
            "             surfboard       5000        267      0.808      0.648      0.734      0.507      0.805      0.637      0.719      0.417\n",
            "         tennis racket       5000        225      0.881      0.858       0.89      0.658      0.875      0.849      0.877      0.593\n",
            "                bottle       5000       1013      0.706      0.538       0.64      0.456      0.689      0.511      0.602      0.376\n",
            "            wine glass       5000        341      0.806      0.587      0.681      0.471      0.771      0.553      0.626      0.352\n",
            "                   cup       5000        895      0.714      0.555      0.665      0.513       0.71      0.544      0.632       0.43\n",
            "                  fork       5000        215      0.775       0.61      0.708      0.531      0.752      0.577      0.646      0.317\n",
            "                 knife       5000        325      0.658      0.382      0.467      0.316      0.605      0.335      0.415      0.218\n",
            "                 spoon       5000        253       0.56      0.383      0.418      0.292      0.574      0.375      0.399      0.202\n",
            "                  bowl       5000        623        0.7      0.594      0.664      0.522      0.676      0.557      0.612      0.385\n",
            "                banana       5000        370      0.579      0.331      0.431       0.29      0.605      0.339      0.431      0.245\n",
            "                 apple       5000        236      0.524      0.275      0.332      0.238      0.535      0.268      0.319      0.205\n",
            "              sandwich       5000        177      0.672      0.571      0.602      0.488      0.672      0.557      0.566      0.433\n",
            "                orange       5000        285      0.584      0.351      0.434      0.345      0.589      0.351      0.418      0.311\n",
            "              broccoli       5000        312      0.613      0.362      0.455      0.285      0.651       0.37       0.47      0.257\n",
            "                carrot       5000        365      0.562      0.303      0.386      0.255      0.551      0.282      0.352      0.207\n",
            "               hot dog       5000        125      0.779      0.504      0.604      0.484      0.733      0.456      0.522      0.367\n",
            "                 pizza       5000        284      0.775      0.725      0.787      0.629      0.775      0.722      0.763      0.568\n",
            "                 donut       5000        328      0.783      0.576      0.717       0.58      0.785      0.567      0.701      0.539\n",
            "                  cake       5000        310      0.689      0.571      0.663      0.477      0.699      0.568      0.659      0.451\n",
            "                 chair       5000       1771      0.715      0.496      0.606       0.42      0.696      0.471      0.545      0.273\n",
            "                 couch       5000        261       0.68      0.651      0.707      0.561      0.663      0.625      0.652      0.445\n",
            "          potted plant       5000        342      0.638      0.541       0.57      0.378      0.627      0.502      0.522      0.259\n",
            "                   bed       5000        163      0.686      0.669      0.742      0.561      0.665      0.626      0.656      0.439\n",
            "          dining table       5000        695      0.593      0.476       0.53      0.383      0.521      0.406      0.398      0.188\n",
            "                toilet       5000        179      0.815      0.827      0.874      0.727      0.822      0.821      0.864      0.655\n",
            "                    tv       5000        288      0.855      0.758      0.846      0.673      0.867      0.753      0.846       0.62\n",
            "                laptop       5000        231      0.839      0.788      0.858      0.755      0.795       0.74      0.772      0.522\n",
            "                 mouse       5000        106      0.817      0.774      0.852      0.665      0.819      0.764      0.849      0.591\n",
            "                remote       5000        283      0.718      0.548       0.65      0.449      0.735      0.551      0.642      0.333\n",
            "              keyboard       5000        153      0.765       0.68      0.778       0.62      0.771      0.661      0.772      0.578\n",
            "            cell phone       5000        262       0.69      0.607      0.665      0.476      0.674      0.584      0.622      0.406\n",
            "             microwave       5000         55       0.78      0.782      0.838      0.684      0.763      0.761      0.816      0.642\n",
            "                  oven       5000        143      0.668      0.538      0.621      0.456      0.679      0.538      0.595      0.384\n",
            "               toaster       5000          9      0.578      0.556      0.585      0.429      0.585      0.556      0.585      0.411\n",
            "                  sink       5000        225      0.718      0.622       0.68      0.473      0.751      0.636      0.699      0.424\n",
            "          refrigerator       5000        126      0.806      0.762      0.848      0.745      0.821      0.746      0.846      0.693\n",
            "                  book       5000       1129      0.608      0.171      0.316      0.181      0.559      0.148      0.269      0.124\n",
            "                 clock       5000        267      0.792       0.73       0.77      0.563      0.779      0.708      0.764      0.503\n",
            "                  vase       5000        274      0.679      0.565       0.63      0.459      0.669      0.547      0.604      0.396\n",
            "              scissors       5000         36       0.79      0.444      0.507       0.42      0.751      0.417      0.478      0.288\n",
            "            teddy bear       5000        190      0.818      0.705      0.768      0.622       0.81      0.694      0.752      0.554\n",
            "            hair drier       5000         11      0.652     0.0909      0.164      0.136      0.701     0.0909      0.167       0.09\n",
            "            toothbrush       5000         57       0.67      0.491      0.506      0.387      0.699      0.509      0.529      0.241\n",
            "Speed: 0.1ms preprocess, 9.1ms inference, 0.0ms loss, 0.4ms postprocess per image\n",
            "Results saved to \u001b[1mruns/segment/val3\u001b[0m\n"
          ]
        },
        {
          "name": "stdout",
          "output_type": "stream",
          "text": [
            "0.5223536064444616\n",
            "0.6882854098532146\n",
            "0.5709112723890117\n",
            "[    0.63641     0.41992      0.5216     0.56163     0.78494     0.77319     0.77555     0.46295     0.35619     0.31789     0.76749     0.71659     0.52069     0.36042     0.41642     0.80447     0.75203     0.72016       0.636     0.67481     0.75631     0.82251     0.77076     0.79299     0.23643     0.51856\n",
            "     0.25628        0.46     0.52976     0.73596     0.35803     0.46973     0.48359     0.47565     0.46385     0.46457     0.65418      0.5074     0.65826     0.45564     0.47062     0.51321     0.53093     0.31588     0.29187     0.52238     0.29031     0.23785      0.4878     0.34458     0.28545     0.25543\n",
            "     0.48422     0.62913      0.5805     0.47667     0.42011     0.56057     0.37792     0.56131     0.38322     0.72686     0.67328     0.75463     0.66463     0.44869     0.61952     0.47646     0.68359     0.45632     0.42921     0.47347     0.74463     0.18075     0.56299     0.45943     0.41975     0.62174\n",
            "      0.1359     0.38667]\n"
          ]
        }
      ],
      "source": [
        "from ultralytics import YOLO\n",
        "\n",
        "# Load a model\n",
        "model = YOLO('yolov8l-seg.pt')  # load an official model\n",
        "\n",
        "# Validate the model\n",
        "metrics = model.val(data='ms_coco_val_2017.yaml')  # no arguments needed, dataset and settings remembered"
      ]
    },
    {
      "cell_type": "code",
      "execution_count": 30,
      "metadata": {},
      "outputs": [
        {
          "name": "stdout",
          "output_type": "stream",
          "text": [
            "box map50-95 0.522\n",
            "box map50 0.688\n",
            "box map75 0.571\n"
          ]
        }
      ],
      "source": [
        "print(f'box map50-95 {metrics.box.map:.3}')\n",
        "print(f'box map50 {metrics.box.map50:.3}')\n",
        "print(f'box map75 {metrics.box.map75:.3}')\n",
        "# print(metrics.box.maps)   # a list contains map50-95 of each category"
      ]
    },
    {
      "cell_type": "code",
      "execution_count": 32,
      "metadata": {},
      "outputs": [
        {
          "name": "stdout",
          "output_type": "stream",
          "text": [
            "mask map50-95 0.431\n",
            "mask map50 0.659\n",
            "mask map75 0.465\n"
          ]
        }
      ],
      "source": [
        "print(f'mask map50-95 {metrics.seg.map:.3}')\n",
        "print(f'mask map50 {metrics.seg.map50:.3}')\n",
        "print(f'mask map75 {metrics.seg.map75:.3}')\n",
        "# print(metrics.seg.maps)   # a list contains map50-95 of each category"
      ]
    }
  ],
  "metadata": {
    "accelerator": "GPU",
    "colab": {
      "name": "YOLOv8 Tutorial",
      "provenance": [],
      "toc_visible": true
    },
    "kernelspec": {
      "display_name": "ultra_yolov8",
      "language": "python",
      "name": "python3"
    },
    "language_info": {
      "codemirror_mode": {
        "name": "ipython",
        "version": 3
      },
      "file_extension": ".py",
      "mimetype": "text/x-python",
      "name": "python",
      "nbconvert_exporter": "python",
      "pygments_lexer": "ipython3",
      "version": "3.10.11"
    },
    "vscode": {
      "interpreter": {
        "hash": "c43743495b2c62d3a4e2c702fe9226f33958afa220c4e4f392be647b90a51546"
      }
    }
  },
  "nbformat": 4,
  "nbformat_minor": 0
}
